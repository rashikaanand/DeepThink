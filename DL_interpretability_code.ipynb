{
  "nbformat": 4,
  "nbformat_minor": 0,
  "metadata": {
    "colab": {
      "name": "DL_interpretability.ipynb",
      "version": "0.3.2",
      "provenance": [],
      "collapsed_sections": []
    },
    "kernelspec": {
      "name": "python3",
      "display_name": "Python 3"
    }
  },
  "cells": [
    {
      "metadata": {
        "id": "XzZKfpDQz1hz",
        "colab_type": "code",
        "colab": {
          "base_uri": "https://localhost:8080/",
          "height": 34
        },
        "outputId": "a5c7f65b-22b7-4a62-e369-3dabfb487ac3"
      },
      "cell_type": "code",
      "source": [
        "#Import Packages\n",
        "import keras\n",
        "from keras.datasets import imdb\n",
        "from keras.utils import to_categorical\n",
        "from keras.models import Sequential\n",
        "from keras.layers import Dense\n",
        "from keras.layers import Flatten\n",
        "from keras.layers.embeddings import Embedding\n",
        "from keras.preprocessing import sequence\n",
        "from keras.models import Model\n",
        "import graphviz\n",
        "from graphviz import Digraph\n",
        "import numpy as np\n",
        "from gensim.parsing.preprocessing import remove_stopwords\n",
        "import random\n",
        "import pickle\n",
        "import pandas as pd\n",
        "#Visualisation Libraries\n",
        "import matplotlib.pyplot as plt   \n",
        "import seaborn as sns\n",
        "# fix random seed for reproducibility\n",
        "seed = 7\n",
        "np.random.seed(seed)"
      ],
      "execution_count": 1,
      "outputs": [
        {
          "output_type": "stream",
          "text": [
            "Using TensorFlow backend.\n"
          ],
          "name": "stderr"
        }
      ]
    },
    {
      "metadata": {
        "id": "14IQsyA6Ts08",
        "colab_type": "code",
        "colab": {
          "base_uri": "https://localhost:8080/",
          "height": 122
        },
        "outputId": "be2e0fc2-54b0-4474-be32-ce540730ee02"
      },
      "cell_type": "code",
      "source": [
        "#mount google drive\n",
        "from google.colab import drive\n",
        "drive.mount('/content/gdrive')"
      ],
      "execution_count": 2,
      "outputs": [
        {
          "output_type": "stream",
          "text": [
            "Go to this URL in a browser: https://accounts.google.com/o/oauth2/auth?client_id=947318989803-6bn6qk8qdgf4n4g3pfee6491hc0brc4i.apps.googleusercontent.com&redirect_uri=urn%3Aietf%3Awg%3Aoauth%3A2.0%3Aoob&scope=email%20https%3A%2F%2Fwww.googleapis.com%2Fauth%2Fdocs.test%20https%3A%2F%2Fwww.googleapis.com%2Fauth%2Fdrive%20https%3A%2F%2Fwww.googleapis.com%2Fauth%2Fdrive.photos.readonly%20https%3A%2F%2Fwww.googleapis.com%2Fauth%2Fpeopleapi.readonly&response_type=code\n",
            "\n",
            "Enter your authorization code:\n",
            "··········\n",
            "Mounted at /content/gdrive\n"
          ],
          "name": "stdout"
        }
      ]
    },
    {
      "metadata": {
        "id": "FwIL6It-z-YS",
        "colab_type": "code",
        "colab": {
          "base_uri": "https://localhost:8080/",
          "height": 51
        },
        "outputId": "8a18c8df-6c52-402f-f1ca-67f96b21b0cb"
      },
      "cell_type": "code",
      "source": [
        "\n",
        "INDEX_FROM=3   # word index offset\n",
        "(X_train, y_train), (X_test, y_test) = imdb.load_data(index_from=INDEX_FROM) "
      ],
      "execution_count": 3,
      "outputs": [
        {
          "output_type": "stream",
          "text": [
            "Downloading data from https://s3.amazonaws.com/text-datasets/imdb.npz\n",
            "17465344/17464789 [==============================] - 1s 0us/step\n"
          ],
          "name": "stdout"
        }
      ]
    },
    {
      "metadata": {
        "id": "7U-5POCpz6v5",
        "colab_type": "code",
        "colab": {
          "base_uri": "https://localhost:8080/",
          "height": 51
        },
        "outputId": "66d6d90a-1130-4d35-967d-d91dbbdefe7d"
      },
      "cell_type": "code",
      "source": [
        "word_to_id = keras.datasets.imdb.get_word_index()\n",
        "word_to_id = {k:(v+INDEX_FROM) for k,v in word_to_id.items()}\n",
        "word_to_id[\"<PAD>\"] = 0\n",
        "word_to_id[\"<START>\"] = 1\n",
        "word_to_id[\"<UNK>\"] = 2\n",
        "id_to_word = {value:key for key,value in word_to_id.items()}\n",
        "vocab = len(id_to_word)\n"
      ],
      "execution_count": 4,
      "outputs": [
        {
          "output_type": "stream",
          "text": [
            "Downloading data from https://s3.amazonaws.com/text-datasets/imdb_word_index.json\n",
            "1646592/1641221 [==============================] - 0s 0us/step\n"
          ],
          "name": "stdout"
        }
      ]
    },
    {
      "metadata": {
        "id": "bXex1EZO3hgR",
        "colab_type": "code",
        "colab": {
          "base_uri": "https://localhost:8080/",
          "height": 34
        },
        "outputId": "dc017500-bfdf-4756-d922-3b8ab38f837c"
      },
      "cell_type": "code",
      "source": [
        "total_sentence_length = 0\n",
        "for ex in X_train:\n",
        "  s= ' '.join(id_to_word[id] for id in ex if id!=0)\n",
        "  total_sentence_length = total_sentence_length + len(s.split())\n",
        "print('average length: ', total_sentence_length/ len(X_test))  "
      ],
      "execution_count": 5,
      "outputs": [
        {
          "output_type": "stream",
          "text": [
            "average length:  238.71488\n"
          ],
          "name": "stdout"
        }
      ]
    },
    {
      "metadata": {
        "id": "whnblOimz8GP",
        "colab_type": "code",
        "colab": {}
      },
      "cell_type": "code",
      "source": [
        "max_words = 200 #average length of a review in training set\n",
        "#padding the review where words<max_words\n",
        "X_train = sequence.pad_sequences(X_train, maxlen=max_words)\n",
        "X_test = sequence.pad_sequences(X_test, maxlen=max_words)"
      ],
      "execution_count": 0,
      "outputs": []
    },
    {
      "metadata": {
        "id": "woMYjKfASjo_",
        "colab_type": "code",
        "colab": {}
      },
      "cell_type": "code",
      "source": [
        "#Model Parameters\n",
        "embedding_dim = 16\n",
        "hidden_dim = 10"
      ],
      "execution_count": 0,
      "outputs": []
    },
    {
      "metadata": {
        "id": "E-WhuViA0G5N",
        "colab_type": "code",
        "outputId": "6c3567f4-a28d-4cb0-d249-f2782fcdd1aa",
        "colab": {
          "base_uri": "https://localhost:8080/",
          "height": 360
        }
      },
      "cell_type": "code",
      "source": [
        "#Model Creation\n",
        "model = Sequential()\n",
        "model.add(Embedding(vocab, embedding_dim , input_length=max_words))\n",
        "model.add(Flatten())\n",
        "model.add(Dense(hidden_dim, activation='relu'))\n",
        "model.add(Dense(1, activation='sigmoid'))\n",
        "model.compile(loss='binary_crossentropy', optimizer='adam', metrics=['accuracy'])\n",
        "print(model.summary())"
      ],
      "execution_count": 8,
      "outputs": [
        {
          "output_type": "stream",
          "text": [
            "WARNING:tensorflow:From /usr/local/lib/python3.6/dist-packages/tensorflow/python/framework/op_def_library.py:263: colocate_with (from tensorflow.python.framework.ops) is deprecated and will be removed in a future version.\n",
            "Instructions for updating:\n",
            "Colocations handled automatically by placer.\n",
            "_________________________________________________________________\n",
            "Layer (type)                 Output Shape              Param #   \n",
            "=================================================================\n",
            "embedding_1 (Embedding)      (None, 200, 16)           1417392   \n",
            "_________________________________________________________________\n",
            "flatten_1 (Flatten)          (None, 3200)              0         \n",
            "_________________________________________________________________\n",
            "dense_1 (Dense)              (None, 10)                32010     \n",
            "_________________________________________________________________\n",
            "dense_2 (Dense)              (None, 1)                 11        \n",
            "=================================================================\n",
            "Total params: 1,449,413\n",
            "Trainable params: 1,449,413\n",
            "Non-trainable params: 0\n",
            "_________________________________________________________________\n",
            "None\n"
          ],
          "name": "stdout"
        }
      ]
    },
    {
      "metadata": {
        "id": "l2A1TS1q0LZM",
        "colab_type": "code",
        "outputId": "61c2602a-3c16-4cf4-e37d-0dc803e369f3",
        "colab": {
          "base_uri": "https://localhost:8080/",
          "height": 190
        }
      },
      "cell_type": "code",
      "source": [
        "# Fit the model\n",
        "model.fit(X_train, y_train, validation_data=(X_test, y_test), epochs=2, batch_size=128, verbose=2)\n",
        "# Final evaluation of the model on test dataset\n",
        "scores = model.evaluate(X_test, y_test, verbose=0)\n",
        "print(\"Accuracy: %.2f%%\" % (scores[1]*100))"
      ],
      "execution_count": 9,
      "outputs": [
        {
          "output_type": "stream",
          "text": [
            "WARNING:tensorflow:From /usr/local/lib/python3.6/dist-packages/tensorflow/python/ops/math_ops.py:3066: to_int32 (from tensorflow.python.ops.math_ops) is deprecated and will be removed in a future version.\n",
            "Instructions for updating:\n",
            "Use tf.cast instead.\n",
            "Train on 25000 samples, validate on 25000 samples\n",
            "Epoch 1/2\n",
            " - 6s - loss: 0.5413 - acc: 0.7150 - val_loss: 0.3216 - val_acc: 0.8620\n",
            "Epoch 2/2\n",
            " - 5s - loss: 0.2036 - acc: 0.9235 - val_loss: 0.2969 - val_acc: 0.8743\n",
            "Accuracy: 87.43%\n"
          ],
          "name": "stdout"
        }
      ]
    },
    {
      "metadata": {
        "id": "1V4ajjmrSzet",
        "colab_type": "code",
        "colab": {}
      },
      "cell_type": "code",
      "source": [
        "#To find which neurons fire for particularly positive and negative samples"
      ],
      "execution_count": 0,
      "outputs": []
    },
    {
      "metadata": {
        "id": "xAiMslFzirqJ",
        "colab_type": "code",
        "colab": {}
      },
      "cell_type": "code",
      "source": [
        "positive_train = [] #No of positive samples that are predicted correctly\n",
        "negative_train = [] #No of negative examples that are predicted correctly\n",
        "for i in range(len(X_train)):\n",
        "  pred = model.predict_classes(np.array([X_train[i]])).astype(int)\n",
        "  pred = pred[0][0]\n",
        "  if pred == y_train[i]:\n",
        "    if pred == 0:\n",
        "      negative_train.append(X_train[i])\n",
        "    else:\n",
        "      positive_train.append(X_train[i])"
      ],
      "execution_count": 0,
      "outputs": []
    },
    {
      "metadata": {
        "id": "emBcpL3MkIdx",
        "colab_type": "code",
        "colab": {
          "base_uri": "https://localhost:8080/",
          "height": 51
        },
        "outputId": "6936883f-f687-45d3-c11a-8625460253d2"
      },
      "cell_type": "code",
      "source": [
        "print(len(positive_train))\n",
        "print(len(negative_train))"
      ],
      "execution_count": 12,
      "outputs": [
        {
          "output_type": "stream",
          "text": [
            "12127\n",
            "12337\n"
          ],
          "name": "stdout"
        }
      ]
    },
    {
      "metadata": {
        "id": "v5VQXU7mhIn7",
        "colab_type": "code",
        "colab": {
          "base_uri": "https://localhost:8080/",
          "height": 357
        },
        "outputId": "c4d10fa5-0561-46f8-d6e4-f841bd79234d"
      },
      "cell_type": "code",
      "source": [
        "positive_hidden_values = [] #3 layer output values\n",
        "for i,doc in enumerate(positive_train[:1000]):\n",
        "  third_layer_model = Model(inputs=model.input,\n",
        "                                 outputs=model.layers[2].output)\n",
        "  third_layer_output = (third_layer_model.predict(np.array([doc]))).tolist()[0]\n",
        "  positive_hidden_values.append(third_layer_output)\n",
        "  if i%100 == 0:\n",
        "    print(\"Done for {} values\".format(i))\n"
      ],
      "execution_count": 18,
      "outputs": [
        {
          "output_type": "stream",
          "text": [
            "Done for 0 values\n",
            "Done for 100 values\n",
            "Done for 200 values\n",
            "Done for 300 values\n",
            "Done for 400 values\n",
            "Done for 500 values\n",
            "Done for 600 values\n",
            "Done for 700 values\n",
            "Done for 800 values\n",
            "Done for 900 values\n",
            "Done for 0 values\n",
            "Done for 100 values\n",
            "Done for 200 values\n",
            "Done for 300 values\n",
            "Done for 400 values\n",
            "Done for 500 values\n",
            "Done for 600 values\n",
            "Done for 700 values\n",
            "Done for 800 values\n",
            "Done for 900 values\n"
          ],
          "name": "stdout"
        }
      ]
    },
    {
      "metadata": {
        "id": "KNGCKopZl5b3",
        "colab_type": "code",
        "colab": {}
      },
      "cell_type": "code",
      "source": [
        "positive_neuron_activation = []\n",
        "neurons = [0,1,2,3,4,5,6,7,8,9]\n",
        "for index in neurons:\n",
        "  average = sum(activation[index] for activation in positive_hidden_values) / 5000\n",
        "  positive_neuron_activation.append(average)"
      ],
      "execution_count": 0,
      "outputs": []
    },
    {
      "metadata": {
        "id": "m0flL7_NszjP",
        "colab_type": "code",
        "colab": {
          "base_uri": "https://localhost:8080/",
          "height": 357
        },
        "outputId": "c4eeaa84-758f-44f9-f14a-e3466e546b8d"
      },
      "cell_type": "code",
      "source": [
        "negative_hidden_values = [] #3 layer output values\n",
        "for i,doc in enumerate(negative_train[5001:7001]):\n",
        "  third_layer_model = Model(inputs=model.input,\n",
        "                                 outputs=model.layers[2].output)\n",
        "  third_layer_output = (third_layer_model.predict(np.array([doc]))).tolist()[0]\n",
        "  negative_hidden_values.append(third_layer_output)\n",
        "  if i%100 == 0:\n",
        "    print(\"Done for {} values\".format(i))"
      ],
      "execution_count": 26,
      "outputs": [
        {
          "output_type": "stream",
          "text": [
            "Done for 0 values\n",
            "Done for 100 values\n",
            "Done for 200 values\n",
            "Done for 300 values\n",
            "Done for 400 values\n",
            "Done for 500 values\n",
            "Done for 600 values\n",
            "Done for 700 values\n",
            "Done for 800 values\n",
            "Done for 900 values\n",
            "Done for 1000 values\n",
            "Done for 1100 values\n",
            "Done for 1200 values\n",
            "Done for 1300 values\n",
            "Done for 1400 values\n",
            "Done for 1500 values\n",
            "Done for 1600 values\n",
            "Done for 1700 values\n",
            "Done for 1800 values\n",
            "Done for 1900 values\n"
          ],
          "name": "stdout"
        }
      ]
    },
    {
      "metadata": {
        "id": "zL-eJBQAne7O",
        "colab_type": "code",
        "colab": {}
      },
      "cell_type": "code",
      "source": [
        "negative_neuron_activation = []\n",
        "neurons = [0,1,2,3,4,5,6,7,8,9]\n",
        "for index in neurons:\n",
        "  average = sum(activation[index] for activation in negative_hidden_values) / 5000\n",
        "  negative_neuron_activation.append(average)"
      ],
      "execution_count": 0,
      "outputs": []
    },
    {
      "metadata": {
        "id": "Oo2RNN3asG3S",
        "colab_type": "code",
        "colab": {
          "base_uri": "https://localhost:8080/",
          "height": 71
        },
        "outputId": "4ff3be43-e985-462d-85b7-7fd5e41285bc"
      },
      "cell_type": "code",
      "source": [
        "#Activations of third layer\n",
        "print(positive_neuron_activation)\n",
        "print(negative_neuron_activation)"
      ],
      "execution_count": 28,
      "outputs": [
        {
          "output_type": "stream",
          "text": [
            "[0.03651683658920229, 0.04089192811399698, 0.5639244415521621, 0.040775707759708166, 0.028710868119448424, 0.04528546242564917, 0.03579898765683174, 0.5411912673473358, 0.03967421474456787, 0.03647863399684429]\n",
            "[1.0463367608428003, 1.1156995064139366, 0.9809514248751103, 1.101806180602312, 0.9863323745965957, 1.3981970863699913, 1.2225323523521423, 0.9508093735650182, 1.039462924259901, 1.135302081632614]\n"
          ],
          "name": "stdout"
        }
      ]
    },
    {
      "metadata": {
        "id": "rpKpIeu9_WTW",
        "colab_type": "code",
        "colab": {
          "base_uri": "https://localhost:8080/",
          "height": 68
        },
        "outputId": "78bf2b31-cebb-4574-f8ec-5d76b7908c78"
      },
      "cell_type": "code",
      "source": [
        "print(np.argsort(negative_neuron_activation))\n",
        "print(np.sort(negative_neuron_activation))"
      ],
      "execution_count": 31,
      "outputs": [
        {
          "output_type": "stream",
          "text": [
            "[7 2 4 8 0 3 1 9 6 5]\n"
          ],
          "name": "stdout"
        },
        {
          "output_type": "execute_result",
          "data": {
            "text/plain": [
              "array([0.95080937, 0.98095142, 0.98633237, 1.03946292, 1.04633676,\n",
              "       1.10180618, 1.11569951, 1.13530208, 1.22253235, 1.39819709])"
            ]
          },
          "metadata": {
            "tags": []
          },
          "execution_count": 31
        }
      ]
    },
    {
      "metadata": {
        "id": "CJ247DfdhIxz",
        "colab_type": "code",
        "colab": {}
      },
      "cell_type": "code",
      "source": [
        "#function to create neural graph\n",
        "def trace_path(sentence ,masked_inputs , activation_values , final_output , masked_flag):\n",
        "  dot = Digraph(comment='NN' )\n",
        "  vocabulary = sentence.split()\n",
        "  node_index = 1\n",
        "  input_index = 1\n",
        "  hidden_index = 7\n",
        "  ip_node = [] #list of input nodes names to connect to hidden layer nodes\n",
        "  if masked_flag:\n",
        "    no_input_nodes = 6 - len(masked_inputs)\n",
        "    for i in range(no_input_nodes):\n",
        "      node_index = input_index\n",
        "      ip_node.append(str(node_index))\n",
        "      while(True):\n",
        "        word = random.choice(vocabulary)\n",
        "        if word not in masked_inputs:\n",
        "          break\n",
        "        else:\n",
        "          continue\n",
        "      dot.node(str(node_index), word)\n",
        "      input_index+=1\n",
        "    for i in range(len(masked_inputs)):\n",
        "      node_index = input_index\n",
        "      ip_node.append(str(node_index))\n",
        "      dot.node(str(node_index), masked_inputs[i])\n",
        "      input_index+=1\n",
        "  else:\n",
        "    no_input_nodes = 6\n",
        "    for i in range(no_input_nodes):\n",
        "      node_index = input_index\n",
        "      ip_node.append(str(node_index))\n",
        "      while(True):\n",
        "        word = random.choice(vocabulary)\n",
        "        if word not in masked_inputs:\n",
        "          break\n",
        "        else:\n",
        "          continue\n",
        "      dot.node(str(node_index), word)\n",
        "      input_index+=1\n",
        "  node_index = input_index\n",
        "  ip_node.append(str(node_index))\n",
        "  dot.node(str(node_index), '.......')\n",
        "  predicted_category = 'Positive' if final_output[0]>=0.5 else 'Negative'\n",
        "  if predicted_category == 'Positive':\n",
        "    dot.node('o', 'Output - Positive',color=\"#000000\", fillcolor=\"#96a32b\" , style='filled')\n",
        "  else:\n",
        "    dot.node('o', 'Output - Negative',color=\"#000000\", fillcolor=\"#ae4949\" , style='filled')\n",
        "  for i,op in enumerate(activation_values):\n",
        "    node_index= hidden_index+1\n",
        "    hidden_index+=1\n",
        "    current_node = str(node_index)\n",
        "    if op == 0.0:\n",
        "      clr = \"#FDFEFE\"   \n",
        "    elif op<=0.5:\n",
        "      clr = \"#D6EAF8\"\n",
        "    elif op<=1.0:\n",
        "      clr = \"#85C1E9\"\n",
        "    elif op<=2.0:\n",
        "      clr=\"#2E86C1\"\n",
        "    elif op<=3.0:\n",
        "      clr=\"#21618C\"\n",
        "    elif op>3.0:\n",
        "      clr=\"#566573\" \n",
        "    dot.node(current_node,'N'+str(i+1) , color=\"#000000\", fillcolor=clr, style='filled')\n",
        "    for nd in ip_node:\n",
        "      dot.edge(nd, current_node)\n",
        "    if op >= 3.0:\n",
        "      edge_color = '#ff3300'\n",
        "    if op >= 2.0:\n",
        "      edge_color = '#ff6600'\n",
        "    elif op >= 1.0:\n",
        "      edge_color = '#ff9999'\n",
        "    else:\n",
        "      edge_color=\"#ffcc99\"\n",
        "    dot.edge(current_node, 'o' , label=str('{0:.2f}'.format(op)) , color = edge_color ) \n",
        "  #dot.graph_attr['rankdir'] = 'LR'\n",
        "  dot.graph_attr['ordering']=\"out\"\n",
        "  return dot  \n"
      ],
      "execution_count": 0,
      "outputs": []
    },
    {
      "metadata": {
        "id": "ZuApXNTkT_H2",
        "colab_type": "code",
        "colab": {
          "base_uri": "https://localhost:8080/",
          "height": 330
        },
        "outputId": "dfcb131e-879e-4387-aa92-e99259390482"
      },
      "cell_type": "code",
      "source": [
        "#TP\n",
        "positive_train_index = [1 , 5 , 7]\n",
        "index = random.choice(positive_train_index)\n",
        "third_layer_model = Model(inputs=model.input,\n",
        "                                 outputs=model.layers[2].output)\n",
        "third_layer_output = (third_layer_model.predict(np.array([positive_train[index]]))).tolist()[0]\n",
        "ans = model.predict(np.array([positive_train[index]]))[0]\n",
        "s=  ' '.join(id_to_word[id] for id in positive_train[index] if id!=0)\n",
        "print(s)\n",
        "d = trace_path(s,[] , third_layer_output , ans , False)\n",
        "graphviz.Source(d)  \n"
      ],
      "execution_count": 14,
      "outputs": [
        {
          "output_type": "stream",
          "text": [
            "<START> laputa castle in the sky is the bomb the message is as strong as his newer works and more pure fantastic and flying pirates how could it be any better the art is totally amazing and the soundtrack which is reused many times after this im not sure if this was the first time i heard it and evokes in me the most emotional sentimental response of any movie soundtrack sheeta the female lead in this movie is totally awesome and the boy pazu is also a great role model he lives on his own the plot is classic miyazaki i won't give it away but the end is really great i rank this as one of miyazaki's three best with nausicaa and spirited away also you may want to check out howl's moving castle when it comes out sometime next year i hope if you like miyazaki check this one out as it readily available in the usa enjoy piper a\n"
          ],
          "name": "stdout"
        },
        {
          "output_type": "execute_result",
          "data": {
            "text/plain": [
              "<graphviz.files.Source at 0x7f44ae3796d8>"
            ],
            "image/svg+xml": "<?xml version=\"1.0\" encoding=\"UTF-8\" standalone=\"no\"?>\n<!DOCTYPE svg PUBLIC \"-//W3C//DTD SVG 1.1//EN\"\n \"http://www.w3.org/Graphics/SVG/1.1/DTD/svg11.dtd\">\n<!-- Generated by graphviz version 2.40.1 (20161225.0304)\n -->\n<!-- Title: %3 Pages: 1 -->\n<svg width=\"1663pt\" height=\"204pt\"\n viewBox=\"0.00 0.00 1662.67 204.00\" xmlns=\"http://www.w3.org/2000/svg\" xmlns:xlink=\"http://www.w3.org/1999/xlink\">\n<g id=\"graph0\" class=\"graph\" transform=\"scale(1 1) rotate(0) translate(4 200)\">\n<title>%3</title>\n<polygon fill=\"#ffffff\" stroke=\"transparent\" points=\"-4,4 -4,-200 1658.6654,-200 1658.6654,4 -4,4\"/>\n<!-- 1 -->\n<g id=\"node1\" class=\"node\">\n<title>1</title>\n<ellipse fill=\"none\" stroke=\"#000000\" cx=\"929.258\" cy=\"-178\" rx=\"29.4969\" ry=\"18\"/>\n<text text-anchor=\"middle\" x=\"929.258\" y=\"-174.3\" font-family=\"Times,serif\" font-size=\"14.00\" fill=\"#000000\">hope</text>\n</g>\n<!-- 8 -->\n<g id=\"node9\" class=\"node\">\n<title>8</title>\n<ellipse fill=\"#fdfefe\" stroke=\"#000000\" cx=\"78.258\" cy=\"-105\" rx=\"27\" ry=\"18\"/>\n<text text-anchor=\"middle\" x=\"78.258\" y=\"-101.3\" font-family=\"Times,serif\" font-size=\"14.00\" fill=\"#000000\">N1</text>\n</g>\n<!-- 1&#45;&gt;8 -->\n<g id=\"edge1\" class=\"edge\">\n<title>1&#45;&gt;8</title>\n<path fill=\"none\" stroke=\"#000000\" d=\"M907.3236,-165.7142C902.1988,-163.385 896.6565,-161.279 891.258,-160 848.7023,-149.9181 142.834,-162.6039 104.258,-142 99.4472,-139.4305 95.3328,-135.531 91.891,-131.2124\"/>\n<polygon fill=\"#000000\" stroke=\"#000000\" points=\"94.5927,-128.9591 86.0953,-122.631 88.7918,-132.8769 94.5927,-128.9591\"/>\n</g>\n<!-- 9 -->\n<g id=\"node10\" class=\"node\">\n<title>9</title>\n<ellipse fill=\"#fdfefe\" stroke=\"#000000\" cx=\"228.258\" cy=\"-105\" rx=\"27\" ry=\"18\"/>\n<text text-anchor=\"middle\" x=\"228.258\" y=\"-101.3\" font-family=\"Times,serif\" font-size=\"14.00\" fill=\"#000000\">N2</text>\n</g>\n<!-- 1&#45;&gt;9 -->\n<g id=\"edge9\" class=\"edge\">\n<title>1&#45;&gt;9</title>\n<path fill=\"none\" stroke=\"#000000\" d=\"M907.3185,-165.7358C902.1939,-163.4054 896.653,-161.2935 891.258,-160 822.4032,-143.4918 316.6237,-175.5263 254.258,-142 249.4541,-139.4176 245.3429,-135.5121 241.9021,-131.1918\"/>\n<polygon fill=\"#000000\" stroke=\"#000000\" points=\"244.6038,-128.9387 236.1058,-122.6114 238.8033,-132.8571 244.6038,-128.9387\"/>\n</g>\n<!-- 10 -->\n<g id=\"node11\" class=\"node\">\n<title>10</title>\n<ellipse fill=\"#566573\" stroke=\"#000000\" cx=\"402.258\" cy=\"-105\" rx=\"27\" ry=\"18\"/>\n<text text-anchor=\"middle\" x=\"402.258\" y=\"-101.3\" font-family=\"Times,serif\" font-size=\"14.00\" fill=\"#000000\">N3</text>\n</g>\n<!-- 1&#45;&gt;10 -->\n<g id=\"edge17\" class=\"edge\">\n<title>1&#45;&gt;10</title>\n<path fill=\"none\" stroke=\"#000000\" d=\"M907.3081,-165.7785C902.1841,-163.4459 896.646,-161.3223 891.258,-160 841.3662,-147.7559 474.5934,-166.1621 429.258,-142 424.1702,-139.2884 419.7987,-135.1451 416.1457,-130.5986\"/>\n<polygon fill=\"#000000\" stroke=\"#000000\" points=\"418.9095,-128.4413 410.3471,-122.2013 413.1494,-132.4189 418.9095,-128.4413\"/>\n</g>\n<!-- 11 -->\n<g id=\"node12\" class=\"node\">\n<title>11</title>\n<ellipse fill=\"#fdfefe\" stroke=\"#000000\" cx=\"577.258\" cy=\"-105\" rx=\"27\" ry=\"18\"/>\n<text text-anchor=\"middle\" x=\"577.258\" y=\"-101.3\" font-family=\"Times,serif\" font-size=\"14.00\" fill=\"#000000\">N4</text>\n</g>\n<!-- 1&#45;&gt;11 -->\n<g id=\"edge25\" class=\"edge\">\n<title>1&#45;&gt;11</title>\n<path fill=\"none\" stroke=\"#000000\" d=\"M907.2843,-165.8731C902.1615,-163.5356 896.63,-161.386 891.258,-160 829.3813,-144.0351 660.2917,-172.7217 604.258,-142 599.2898,-139.2761 594.9957,-135.2024 591.3852,-130.7411\"/>\n<polygon fill=\"#000000\" stroke=\"#000000\" points=\"594.2236,-128.6926 585.6268,-122.5003 588.4857,-132.7021 594.2236,-128.6926\"/>\n</g>\n<!-- 12 -->\n<g id=\"node13\" class=\"node\">\n<title>12</title>\n<ellipse fill=\"#fdfefe\" stroke=\"#000000\" cx=\"752.258\" cy=\"-105\" rx=\"27\" ry=\"18\"/>\n<text text-anchor=\"middle\" x=\"752.258\" y=\"-101.3\" font-family=\"Times,serif\" font-size=\"14.00\" fill=\"#000000\">N5</text>\n</g>\n<!-- 1&#45;&gt;12 -->\n<g id=\"edge33\" class=\"edge\">\n<title>1&#45;&gt;12</title>\n<path fill=\"none\" stroke=\"#000000\" d=\"M906.7709,-166.0699C901.769,-163.7802 896.4173,-161.6008 891.258,-160 843.1061,-145.0593 822.2426,-168.3466 779.258,-142 774.4273,-139.0391 770.1941,-134.8603 766.6,-130.3709\"/>\n<polygon fill=\"#000000\" stroke=\"#000000\" points=\"769.4398,-128.3244 760.8298,-122.1503 763.7103,-132.3461 769.4398,-128.3244\"/>\n</g>\n<!-- 13 -->\n<g id=\"node14\" class=\"node\">\n<title>13</title>\n<ellipse fill=\"#fdfefe\" stroke=\"#000000\" cx=\"902.258\" cy=\"-105\" rx=\"27\" ry=\"18\"/>\n<text text-anchor=\"middle\" x=\"902.258\" y=\"-101.3\" font-family=\"Times,serif\" font-size=\"14.00\" fill=\"#000000\">N6</text>\n</g>\n<!-- 1&#45;&gt;13 -->\n<g id=\"edge41\" class=\"edge\">\n<title>1&#45;&gt;13</title>\n<path fill=\"none\" stroke=\"#000000\" d=\"M929.6094,-159.9327C929.2567,-153.7863 928.3312,-146.9658 926.258,-141 924.9095,-137.1197 923.042,-133.2544 920.9386,-129.5748\"/>\n<polygon fill=\"#000000\" stroke=\"#000000\" points=\"923.7275,-127.4397 915.3859,-120.9077 917.8334,-131.216 923.7275,-127.4397\"/>\n</g>\n<!-- 14 -->\n<g id=\"node15\" class=\"node\">\n<title>14</title>\n<ellipse fill=\"#fdfefe\" stroke=\"#000000\" cx=\"1077.258\" cy=\"-105\" rx=\"27\" ry=\"18\"/>\n<text text-anchor=\"middle\" x=\"1077.258\" y=\"-101.3\" font-family=\"Times,serif\" font-size=\"14.00\" fill=\"#000000\">N7</text>\n</g>\n<!-- 1&#45;&gt;14 -->\n<g id=\"edge49\" class=\"edge\">\n<title>1&#45;&gt;14</title>\n<path fill=\"none\" stroke=\"#000000\" d=\"M951.3095,-166.1541C956.4283,-163.802 961.9384,-161.5756 967.258,-160 996.0662,-151.4675 1081.4775,-164.6152 1101.258,-142 1105.2938,-137.3858 1104.4578,-132.0389 1101.4026,-126.8687\"/>\n<polygon fill=\"#000000\" stroke=\"#000000\" points=\"1104.122,-124.6651 1095.156,-119.0206 1098.645,-129.0244 1104.122,-124.6651\"/>\n</g>\n<!-- 15 -->\n<g id=\"node16\" class=\"node\">\n<title>15</title>\n<ellipse fill=\"#566573\" stroke=\"#000000\" cx=\"1252.258\" cy=\"-105\" rx=\"27\" ry=\"18\"/>\n<text text-anchor=\"middle\" x=\"1252.258\" y=\"-101.3\" font-family=\"Times,serif\" font-size=\"14.00\" fill=\"#000000\">N8</text>\n</g>\n<!-- 1&#45;&gt;15 -->\n<g id=\"edge57\" class=\"edge\">\n<title>1&#45;&gt;15</title>\n<path fill=\"none\" stroke=\"#000000\" d=\"M951.2271,-165.8553C956.3501,-163.5187 961.8829,-161.3741 967.258,-160 1000.578,-151.4821 1252.6572,-167.0156 1276.258,-142 1280.5336,-137.468 1279.6661,-132.0787 1276.493,-126.8349\"/>\n<polygon fill=\"#000000\" stroke=\"#000000\" points=\"1279.0374,-124.4159 1270.0169,-118.8587 1273.6031,-128.8282 1279.0374,-124.4159\"/>\n</g>\n<!-- 16 -->\n<g id=\"node17\" class=\"node\">\n<title>16</title>\n<ellipse fill=\"#fdfefe\" stroke=\"#000000\" cx=\"1427.258\" cy=\"-105\" rx=\"27\" ry=\"18\"/>\n<text text-anchor=\"middle\" x=\"1427.258\" y=\"-101.3\" font-family=\"Times,serif\" font-size=\"14.00\" fill=\"#000000\">N9</text>\n</g>\n<!-- 1&#45;&gt;16 -->\n<g id=\"edge65\" class=\"edge\">\n<title>1&#45;&gt;16</title>\n<path fill=\"none\" stroke=\"#000000\" d=\"M951.2061,-165.7715C956.3302,-163.4392 961.8687,-161.3175 967.258,-160 993.3957,-153.6099 1432.5884,-161.3768 1451.258,-142 1455.581,-137.5132 1454.7307,-132.1403 1451.5592,-126.898\"/>\n<polygon fill=\"#000000\" stroke=\"#000000\" points=\"1454.0958,-124.4695 1445.0745,-118.9136 1448.6621,-128.8826 1454.0958,-124.4695\"/>\n</g>\n<!-- 17 -->\n<g id=\"node18\" class=\"node\">\n<title>17</title>\n<ellipse fill=\"#fdfefe\" stroke=\"#000000\" cx=\"1602.258\" cy=\"-105\" rx=\"27.0966\" ry=\"18\"/>\n<text text-anchor=\"middle\" x=\"1602.258\" y=\"-101.3\" font-family=\"Times,serif\" font-size=\"14.00\" fill=\"#000000\">N10</text>\n</g>\n<!-- 1&#45;&gt;17 -->\n<g id=\"edge73\" class=\"edge\">\n<title>1&#45;&gt;17</title>\n<path fill=\"none\" stroke=\"#000000\" d=\"M951.1965,-165.732C956.3212,-163.4018 961.8623,-161.2909 967.258,-160 1002.8774,-151.4779 1600.7164,-168.2488 1626.258,-142 1630.6031,-137.5346 1629.7608,-132.1695 1626.59,-126.9278\"/>\n<polygon fill=\"#000000\" stroke=\"#000000\" points=\"1629.123,-124.4949 1620.1014,-118.9396 1623.6896,-128.9084 1629.123,-124.4949\"/>\n</g>\n<!-- 2 -->\n<g id=\"node2\" class=\"node\">\n<title>2</title>\n<ellipse fill=\"none\" stroke=\"#000000\" cx=\"627.258\" cy=\"-178\" rx=\"27\" ry=\"18\"/>\n<text text-anchor=\"middle\" x=\"627.258\" y=\"-174.3\" font-family=\"Times,serif\" font-size=\"14.00\" fill=\"#000000\">plot</text>\n</g>\n<!-- 2&#45;&gt;8 -->\n<g id=\"edge2\" class=\"edge\">\n<title>2&#45;&gt;8</title>\n<path fill=\"none\" stroke=\"#000000\" d=\"M599.9034,-177.4544C482.3374,-174.979 24.9874,-163.9618 4.258,-142 -10.2776,-126.6003 16.4715,-116.6665 41.7746,-111.0105\"/>\n<polygon fill=\"#000000\" stroke=\"#000000\" points=\"42.5811,-114.4181 51.6747,-108.9815 41.1756,-107.5606 42.5811,-114.4181\"/>\n</g>\n<!-- 2&#45;&gt;9 -->\n<g id=\"edge10\" class=\"edge\">\n<title>2&#45;&gt;9</title>\n<path fill=\"none\" stroke=\"#000000\" d=\"M600.0945,-176.9439C501.7868,-172.9923 169.5128,-158.4599 154.258,-142 139.8635,-126.4683 166.5912,-116.5546 191.8507,-110.9393\"/>\n<polygon fill=\"#000000\" stroke=\"#000000\" points=\"192.632,-114.3522 201.7327,-108.9273 191.2354,-107.4929 192.632,-114.3522\"/>\n</g>\n<!-- 2&#45;&gt;10 -->\n<g id=\"edge18\" class=\"edge\">\n<title>2&#45;&gt;10</title>\n<path fill=\"none\" stroke=\"#000000\" d=\"M600.1436,-176.7407C530.0588,-173.2094 347.104,-162.1317 329.258,-142 315.5067,-126.4875 341.1402,-116.6389 365.733,-111.0368\"/>\n<polygon fill=\"#000000\" stroke=\"#000000\" points=\"366.654,-114.4203 375.733,-108.9594 365.2302,-107.5666 366.654,-114.4203\"/>\n</g>\n<!-- 2&#45;&gt;11 -->\n<g id=\"edge26\" class=\"edge\">\n<title>2&#45;&gt;11</title>\n<path fill=\"none\" stroke=\"#000000\" d=\"M600.7748,-174.0061C568.2145,-168.4917 515.8319,-157.4469 504.258,-142 492.032,-125.6828 516.4501,-116.0329 540.2723,-110.7026\"/>\n<polygon fill=\"#000000\" stroke=\"#000000\" points=\"541.2245,-114.0812 550.3367,-108.6758 539.8426,-107.219 541.2245,-114.0812\"/>\n</g>\n<!-- 2&#45;&gt;12 -->\n<g id=\"edge34\" class=\"edge\">\n<title>2&#45;&gt;12</title>\n<path fill=\"none\" stroke=\"#000000\" d=\"M647.6196,-166.1088C668.1401,-154.1248 700.0047,-135.5159 723.1815,-121.9807\"/>\n<polygon fill=\"#000000\" stroke=\"#000000\" points=\"725.0348,-124.9515 731.9051,-116.8861 721.5047,-118.9068 725.0348,-124.9515\"/>\n</g>\n<!-- 2&#45;&gt;13 -->\n<g id=\"edge42\" class=\"edge\">\n<title>2&#45;&gt;13</title>\n<path fill=\"none\" stroke=\"#000000\" d=\"M648.2107,-166.4805C653.0568,-164.1115 658.2601,-161.7956 663.258,-160 732.9201,-134.9718 818.1898,-118.572 865.7414,-110.624\"/>\n<polygon fill=\"#000000\" stroke=\"#000000\" points=\"866.5578,-114.037 875.8601,-108.9657 865.4256,-107.1292 866.5578,-114.037\"/>\n</g>\n<!-- 2&#45;&gt;14 -->\n<g id=\"edge50\" class=\"edge\">\n<title>2&#45;&gt;14</title>\n<path fill=\"none\" stroke=\"#000000\" d=\"M648.0936,-166.1289C652.9459,-163.7781 658.1812,-161.5586 663.258,-160 667.782,-158.6112 940.4899,-122.8795 1040.7726,-109.7669\"/>\n<polygon fill=\"#000000\" stroke=\"#000000\" points=\"1041.2902,-113.2292 1050.7521,-108.4623 1040.3827,-106.2882 1041.2902,-113.2292\"/>\n</g>\n<!-- 2&#45;&gt;15 -->\n<g id=\"edge58\" class=\"edge\">\n<title>2&#45;&gt;15</title>\n<path fill=\"none\" stroke=\"#000000\" d=\"M647.6557,-166.125C652.6168,-163.7135 658.0092,-161.4687 663.258,-160 711.5709,-146.481 1063.3677,-128.2784 1113.258,-123 1148.0186,-119.3223 1187.535,-114.1044 1215.5251,-110.2327\"/>\n<polygon fill=\"#000000\" stroke=\"#000000\" points=\"1216.2333,-113.6679 1225.6543,-108.8208 1215.2668,-106.735 1216.2333,-113.6679\"/>\n</g>\n<!-- 2&#45;&gt;16 -->\n<g id=\"edge66\" class=\"edge\">\n<title>2&#45;&gt;16</title>\n<path fill=\"none\" stroke=\"#000000\" d=\"M647.6318,-166.0377C652.5939,-163.6297 657.9927,-161.4085 663.258,-160 730.461,-142.0225 1218.9988,-129.5265 1288.258,-123 1323.0584,-119.7207 1362.5699,-114.454 1390.5481,-110.4629\"/>\n<polygon fill=\"#000000\" stroke=\"#000000\" points=\"1391.2746,-113.8944 1400.6725,-109.0025 1390.2752,-106.9661 1391.2746,-113.8944\"/>\n</g>\n<!-- 2&#45;&gt;17 -->\n<g id=\"edge74\" class=\"edge\">\n<title>2&#45;&gt;17</title>\n<path fill=\"none\" stroke=\"#000000\" d=\"M647.6187,-165.9883C652.5814,-163.5824 657.9837,-161.3745 663.258,-160 706.312,-148.78 1418.9362,-126.888 1463.258,-123 1497.9714,-119.9549 1537.344,-114.684 1565.3006,-110.6304\"/>\n<polygon fill=\"#000000\" stroke=\"#000000\" points=\"1566.0376,-114.0598 1575.4227,-109.1436 1565.0202,-107.1341 1566.0376,-114.0598\"/>\n</g>\n<!-- 3 -->\n<g id=\"node3\" class=\"node\">\n<title>3</title>\n<ellipse fill=\"none\" stroke=\"#000000\" cx=\"778.258\" cy=\"-178\" rx=\"32.4942\" ry=\"18\"/>\n<text text-anchor=\"middle\" x=\"778.258\" y=\"-174.3\" font-family=\"Times,serif\" font-size=\"14.00\" fill=\"#000000\">check</text>\n</g>\n<!-- 3&#45;&gt;8 -->\n<g id=\"edge3\" class=\"edge\">\n<title>3&#45;&gt;8</title>\n<path fill=\"none\" stroke=\"#000000\" d=\"M754.0674,-165.5463C748.6662,-163.2892 742.8719,-161.2555 737.258,-160 700.2154,-151.7158 80.7421,-169.1913 54.258,-142 49.9107,-137.5367 50.7522,-132.1723 53.923,-126.9307\"/>\n<polygon fill=\"#000000\" stroke=\"#000000\" points=\"56.8237,-128.9109 60.412,-118.9422 51.3903,-124.4974 56.8237,-128.9109\"/>\n</g>\n<!-- 3&#45;&gt;9 -->\n<g id=\"edge11\" class=\"edge\">\n<title>3&#45;&gt;9</title>\n<path fill=\"none\" stroke=\"#000000\" d=\"M754.0602,-165.5778C748.6595,-163.3188 742.8672,-161.2763 737.258,-160 708.3684,-153.4267 224.8515,-163.3008 204.258,-142 199.9273,-137.5206 200.7748,-132.1504 203.9461,-126.9083\"/>\n<polygon fill=\"#000000\" stroke=\"#000000\" points=\"206.8443,-128.8915 210.4321,-118.9226 201.4107,-124.4783 206.8443,-128.8915\"/>\n</g>\n<!-- 3&#45;&gt;10 -->\n<g id=\"edge19\" class=\"edge\">\n<title>3&#45;&gt;10</title>\n<path fill=\"none\" stroke=\"#000000\" d=\"M754.044,-165.6478C748.6443,-163.3844 742.8565,-161.3225 737.258,-160 698.4967,-150.844 406.7044,-170.8611 379.258,-142 375.0165,-137.5399 375.7955,-132.1768 378.8318,-126.9353\"/>\n<polygon fill=\"#000000\" stroke=\"#000000\" points=\"381.6729,-128.9836 385.064,-118.9461 376.1536,-124.6781 381.6729,-128.9836\"/>\n</g>\n<!-- 3&#45;&gt;11 -->\n<g id=\"edge27\" class=\"edge\">\n<title>3&#45;&gt;11</title>\n<path fill=\"none\" stroke=\"#000000\" d=\"M753.9937,-165.8501C748.597,-163.5741 742.8233,-161.4559 737.258,-160 697.7254,-149.6582 581.7018,-172.2756 554.258,-142 550.2878,-137.6202 550.8856,-132.466 553.6322,-127.4186\"/>\n<polygon fill=\"#000000\" stroke=\"#000000\" points=\"556.6207,-129.2691 559.8561,-119.1803 551.0354,-125.0495 556.6207,-129.2691\"/>\n</g>\n<!-- 3&#45;&gt;12 -->\n<g id=\"edge35\" class=\"edge\">\n<title>3&#45;&gt;12</title>\n<path fill=\"none\" stroke=\"#000000\" d=\"M753.4831,-166.1764C744.1089,-160.3161 734.4544,-152.2659 729.258,-142 726.885,-137.3121 727.4936,-132.4438 729.6403,-127.8383\"/>\n<polygon fill=\"#000000\" stroke=\"#000000\" points=\"732.6214,-129.6768 735.2844,-119.4221 726.8077,-125.778 732.6214,-129.6768\"/>\n</g>\n<!-- 3&#45;&gt;13 -->\n<g id=\"edge43\" class=\"edge\">\n<title>3&#45;&gt;13</title>\n<path fill=\"none\" stroke=\"#000000\" d=\"M803.6718,-166.3356C808.7913,-164.1298 814.1647,-161.9159 819.258,-160 844.1235,-150.6467 854.824,-157.6959 876.258,-142 880.5039,-138.8908 884.3089,-134.873 887.6127,-130.6358\"/>\n<polygon fill=\"#000000\" stroke=\"#000000\" points=\"890.5041,-132.6082 893.3327,-122.3979 884.7543,-128.6158 890.5041,-132.6082\"/>\n</g>\n<!-- 3&#45;&gt;14 -->\n<g id=\"edge51\" class=\"edge\">\n<title>3&#45;&gt;14</title>\n<path fill=\"none\" stroke=\"#000000\" d=\"M802.5,-165.7631C807.898,-163.4925 813.6779,-161.3985 819.258,-160 869.4172,-147.4292 1006.3273,-167.5971 1051.258,-142 1055.9969,-139.3002 1060.0784,-135.3411 1063.5104,-131.0049\"/>\n<polygon fill=\"#000000\" stroke=\"#000000\" points=\"1066.6051,-132.6769 1069.3118,-122.4336 1060.8081,-128.7533 1066.6051,-132.6769\"/>\n</g>\n<!-- 3&#45;&gt;15 -->\n<g id=\"edge59\" class=\"edge\">\n<title>3&#45;&gt;15</title>\n<path fill=\"none\" stroke=\"#000000\" d=\"M802.4659,-165.6222C807.866,-163.3604 813.6554,-161.3056 819.258,-160 863.3433,-149.7269 1186.5596,-163.7506 1226.258,-142 1231.0411,-139.3793 1235.1428,-135.4564 1238.5808,-131.1309\"/>\n<polygon fill=\"#000000\" stroke=\"#000000\" points=\"1241.6783,-132.7984 1244.3787,-122.5535 1235.8789,-128.8783 1241.6783,-132.7984\"/>\n</g>\n<!-- 3&#45;&gt;16 -->\n<g id=\"edge67\" class=\"edge\">\n<title>3&#45;&gt;16</title>\n<path fill=\"none\" stroke=\"#000000\" d=\"M802.453,-165.5657C807.8539,-163.3074 813.6469,-161.2683 819.258,-160 882.3635,-145.7357 1344.3135,-172.71 1401.258,-142 1406.0584,-139.4112 1410.1681,-135.5028 1413.6084,-131.1816\"/>\n<polygon fill=\"#000000\" stroke=\"#000000\" points=\"1416.707,-132.8473 1419.4049,-122.6017 1410.9066,-128.9285 1416.707,-132.8473\"/>\n</g>\n<!-- 3&#45;&gt;17 -->\n<g id=\"edge75\" class=\"edge\">\n<title>3&#45;&gt;17</title>\n<path fill=\"none\" stroke=\"#000000\" d=\"M802.4461,-165.5353C807.8475,-163.2789 813.6424,-161.2483 819.258,-160 860.3231,-150.8717 1539.1606,-161.8357 1576.258,-142 1581.0676,-139.4283 1585.1815,-135.5278 1588.6231,-131.2089\"/>\n<polygon fill=\"#000000\" stroke=\"#000000\" points=\"1591.7223,-132.8736 1594.4189,-122.6277 1585.9214,-128.9556 1591.7223,-132.8736\"/>\n</g>\n<!-- 4 -->\n<g id=\"node4\" class=\"node\">\n<title>4</title>\n<ellipse fill=\"none\" stroke=\"#000000\" cx=\"1003.258\" cy=\"-178\" rx=\"27\" ry=\"18\"/>\n<text text-anchor=\"middle\" x=\"1003.258\" y=\"-174.3\" font-family=\"Times,serif\" font-size=\"14.00\" fill=\"#000000\">out</text>\n</g>\n<!-- 4&#45;&gt;8 -->\n<g id=\"edge4\" class=\"edge\">\n<title>4&#45;&gt;8</title>\n<path fill=\"none\" stroke=\"#000000\" d=\"M982.8957,-165.994C977.9331,-163.5879 972.5312,-161.3784 967.258,-160 883.8512,-138.1977 278.0177,-131.7913 192.258,-123 166.1029,-120.3188 136.8093,-115.6571 114.4663,-111.7496\"/>\n<polygon fill=\"#000000\" stroke=\"#000000\" points=\"114.8725,-108.2669 104.4139,-109.9607 113.646,-115.1587 114.8725,-108.2669\"/>\n</g>\n<!-- 4&#45;&gt;9 -->\n<g id=\"edge12\" class=\"edge\">\n<title>4&#45;&gt;9</title>\n<path fill=\"none\" stroke=\"#000000\" d=\"M982.8818,-166.0467C977.9197,-163.6384 972.5216,-161.4147 967.258,-160 902.6468,-142.6343 432.8567,-129.3859 366.258,-123 331.7091,-119.6872 292.4817,-114.4247 264.7045,-110.4436\"/>\n<polygon fill=\"#000000\" stroke=\"#000000\" points=\"265.0513,-106.9574 254.6528,-108.9873 264.0476,-113.885 265.0513,-106.9574\"/>\n</g>\n<!-- 4&#45;&gt;10 -->\n<g id=\"edge20\" class=\"edge\">\n<title>4&#45;&gt;10</title>\n<path fill=\"none\" stroke=\"#000000\" d=\"M982.8554,-166.1425C977.8944,-163.7302 972.5034,-161.4808 967.258,-160 921.5335,-147.0919 588.4942,-128.1075 541.258,-123 506.5059,-119.2424 466.9885,-114.0342 438.9958,-110.1865\"/>\n<polygon fill=\"#000000\" stroke=\"#000000\" points=\"439.251,-106.6886 428.8656,-108.7843 438.2912,-113.6225 439.251,-106.6886\"/>\n</g>\n<!-- 4&#45;&gt;11 -->\n<g id=\"edge28\" class=\"edge\">\n<title>4&#45;&gt;11</title>\n<path fill=\"none\" stroke=\"#000000\" d=\"M982.413,-166.1591C977.5612,-163.8068 972.3285,-161.5789 967.258,-160 950.442,-154.7636 708.0197,-122.323 614.0744,-109.865\"/>\n<polygon fill=\"#000000\" stroke=\"#000000\" points=\"614.2687,-106.3602 603.8956,-108.5163 613.3492,-113.2996 614.2687,-106.3602\"/>\n</g>\n<!-- 4&#45;&gt;12 -->\n<g id=\"edge36\" class=\"edge\">\n<title>4&#45;&gt;12</title>\n<path fill=\"none\" stroke=\"#000000\" d=\"M982.2724,-166.5702C977.428,-164.1966 972.2337,-161.8561 967.258,-160 906.2296,-137.2344 832.0411,-120.5507 788.6898,-111.8446\"/>\n<polygon fill=\"#000000\" stroke=\"#000000\" points=\"789.109,-108.3598 778.6202,-109.8548 787.752,-115.227 789.109,-108.3598\"/>\n</g>\n<!-- 4&#45;&gt;13 -->\n<g id=\"edge44\" class=\"edge\">\n<title>4&#45;&gt;13</title>\n<path fill=\"none\" stroke=\"#000000\" d=\"M984.733,-164.6107C969.0721,-153.2914 946.4415,-136.9346 928.8461,-124.2172\"/>\n<polygon fill=\"#000000\" stroke=\"#000000\" points=\"930.8204,-121.3257 920.6655,-118.3044 926.7199,-126.999 930.8204,-121.3257\"/>\n</g>\n<!-- 4&#45;&gt;14 -->\n<g id=\"edge52\" class=\"edge\">\n<title>4&#45;&gt;14</title>\n<path fill=\"none\" stroke=\"#000000\" d=\"M1028.9022,-172.2172C1063.1746,-164.2331 1120.3209,-149.9238 1126.258,-142 1133.8403,-131.8803 1123.8744,-123.1945 1110.9951,-116.7866\"/>\n<polygon fill=\"#000000\" stroke=\"#000000\" points=\"1112.3549,-113.561 1101.7931,-112.7246 1109.528,-119.9649 1112.3549,-113.561\"/>\n</g>\n<!-- 4&#45;&gt;15 -->\n<g id=\"edge60\" class=\"edge\">\n<title>4&#45;&gt;15</title>\n<path fill=\"none\" stroke=\"#000000\" d=\"M1028.7014,-171.8255C1045.7431,-167.9002 1068.7317,-163.0081 1089.258,-160 1112.6484,-156.5721 1285.2645,-159.409 1301.258,-142 1309.9301,-132.5604 1299.6436,-123.8251 1286.2959,-117.2152\"/>\n<polygon fill=\"#000000\" stroke=\"#000000\" points=\"1287.3224,-113.8421 1276.7614,-112.9961 1284.4898,-120.2434 1287.3224,-113.8421\"/>\n</g>\n<!-- 4&#45;&gt;16 -->\n<g id=\"edge68\" class=\"edge\">\n<title>4&#45;&gt;16</title>\n<path fill=\"none\" stroke=\"#000000\" d=\"M1028.666,-171.5666C1045.6927,-167.5319 1068.6779,-162.6153 1089.258,-160 1110.6095,-157.2867 1461.3965,-157.5688 1476.258,-142 1485.2544,-132.5755 1474.4903,-123.716 1460.7841,-117.0304\"/>\n<polygon fill=\"#000000\" stroke=\"#000000\" points=\"1462.0939,-113.783 1451.5305,-112.9668 1459.2793,-120.1922 1462.0939,-113.783\"/>\n</g>\n<!-- 4&#45;&gt;17 -->\n<g id=\"edge76\" class=\"edge\">\n<title>4&#45;&gt;17</title>\n<path fill=\"none\" stroke=\"#000000\" d=\"M1028.6539,-171.4685C1045.6755,-167.3923 1068.6596,-162.4664 1089.258,-160 1120.2746,-156.2861 1629.5256,-164.4395 1651.258,-142 1660.2614,-132.7036 1649.7048,-123.9031 1636.1156,-117.2191\"/>\n<polygon fill=\"#000000\" stroke=\"#000000\" points=\"1637.4836,-113.9971 1626.9228,-113.1484 1634.6493,-120.3976 1637.4836,-113.9971\"/>\n</g>\n<!-- 5 -->\n<g id=\"node5\" class=\"node\">\n<title>5</title>\n<ellipse fill=\"none\" stroke=\"#000000\" cx=\"1125.258\" cy=\"-178\" rx=\"27\" ry=\"18\"/>\n<text text-anchor=\"middle\" x=\"1125.258\" y=\"-174.3\" font-family=\"Times,serif\" font-size=\"14.00\" fill=\"#000000\">give</text>\n</g>\n<!-- 5&#45;&gt;8 -->\n<g id=\"edge5\" class=\"edge\">\n<title>5&#45;&gt;8</title>\n<path fill=\"none\" stroke=\"#000000\" d=\"M1099.8523,-171.5474C1082.8267,-167.5047 1059.8417,-162.5862 1039.258,-160 852.326,-136.513 379.716,-141.8329 192.258,-123 166.0975,-120.3718 136.804,-115.7087 114.4624,-111.7873\"/>\n<polygon fill=\"#000000\" stroke=\"#000000\" points=\"114.8706,-108.3049 104.4108,-109.9911 113.6391,-115.1957 114.8706,-108.3049\"/>\n</g>\n<!-- 5&#45;&gt;9 -->\n<g id=\"edge13\" class=\"edge\">\n<title>5&#45;&gt;9</title>\n<path fill=\"none\" stroke=\"#000000\" d=\"M1099.8425,-171.6239C1082.8127,-167.6133 1059.8268,-162.7022 1039.258,-160 890.7526,-140.4907 515.4016,-136.8071 366.258,-123 331.6984,-119.8006 292.4723,-114.5242 264.6983,-110.5091\"/>\n<polygon fill=\"#000000\" stroke=\"#000000\" points=\"265.0492,-107.0233 254.6479,-109.039 264.036,-113.9496 265.0492,-107.0233\"/>\n</g>\n<!-- 5&#45;&gt;10 -->\n<g id=\"edge21\" class=\"edge\">\n<title>5&#45;&gt;10</title>\n<path fill=\"none\" stroke=\"#000000\" d=\"M1099.8248,-171.7542C1082.7875,-167.7987 1059.7999,-162.8999 1039.258,-160 819.4936,-128.9761 762.0597,-145.482 541.258,-123 506.4832,-119.4592 466.9685,-114.2246 438.9826,-110.3118\"/>\n<polygon fill=\"#000000\" stroke=\"#000000\" points=\"439.246,-106.8144 428.8552,-108.8833 438.2683,-113.7458 439.246,-106.8144\"/>\n</g>\n<!-- 5&#45;&gt;11 -->\n<g id=\"edge29\" class=\"edge\">\n<title>5&#45;&gt;11</title>\n<path fill=\"none\" stroke=\"#000000\" d=\"M1099.7839,-172.0239C1082.7294,-168.1823 1059.7379,-163.309 1039.258,-160 896.6136,-136.9525 859.6886,-140.501 716.258,-123 681.5607,-118.7663 642.0366,-113.6164 614.0274,-109.9115\"/>\n<polygon fill=\"#000000\" stroke=\"#000000\" points=\"614.2639,-106.4123 603.8905,-108.5672 613.3436,-113.3515 614.2639,-106.4123\"/>\n</g>\n<!-- 5&#45;&gt;12 -->\n<g id=\"edge37\" class=\"edge\">\n<title>5&#45;&gt;12</title>\n<path fill=\"none\" stroke=\"#000000\" d=\"M1099.3143,-172.4502C1082.261,-168.8318 1059.4493,-164.0475 1039.258,-160 949.0658,-141.9205 842.6643,-121.8612 788.2575,-111.6958\"/>\n<polygon fill=\"#000000\" stroke=\"#000000\" points=\"788.8767,-108.251 778.4043,-109.8568 787.5924,-115.1322 788.8767,-108.251\"/>\n</g>\n<!-- 5&#45;&gt;13 -->\n<g id=\"edge45\" class=\"edge\">\n<title>5&#45;&gt;13</title>\n<path fill=\"none\" stroke=\"#000000\" d=\"M1100.9686,-170.0488C1061.0887,-156.9939 981.6365,-130.9849 936.2089,-116.114\"/>\n<polygon fill=\"#000000\" stroke=\"#000000\" points=\"937.1101,-112.7263 926.5174,-112.9414 934.9323,-119.3789 937.1101,-112.7263\"/>\n</g>\n<!-- 5&#45;&gt;14 -->\n<g id=\"edge53\" class=\"edge\">\n<title>5&#45;&gt;14</title>\n<path fill=\"none\" stroke=\"#000000\" d=\"M1150.4297,-171.3802C1168.8721,-165.2271 1189.1038,-154.916 1179.258,-141 1171.3585,-129.8349 1139.425,-119.7203 1113.3657,-113.0755\"/>\n<polygon fill=\"#000000\" stroke=\"#000000\" points=\"1113.915,-109.6064 1103.3686,-110.6185 1112.2442,-116.4041 1113.915,-109.6064\"/>\n</g>\n<!-- 5&#45;&gt;15 -->\n<g id=\"edge61\" class=\"edge\">\n<title>5&#45;&gt;15</title>\n<path fill=\"none\" stroke=\"#000000\" d=\"M1146.9162,-167.0479C1160.3852,-160.1107 1177.9871,-150.8149 1193.258,-142 1203.5199,-136.0765 1214.5712,-129.266 1224.3037,-123.1157\"/>\n<polygon fill=\"#000000\" stroke=\"#000000\" points=\"1226.2563,-126.0217 1232.8104,-117.6974 1222.4957,-120.1176 1226.2563,-126.0217\"/>\n</g>\n<!-- 5&#45;&gt;16 -->\n<g id=\"edge69\" class=\"edge\">\n<title>5&#45;&gt;16</title>\n<path fill=\"none\" stroke=\"#000000\" d=\"M1150.746,-171.839C1204.5167,-158.8414 1329.6805,-128.5866 1391.4585,-113.6535\"/>\n<polygon fill=\"#000000\" stroke=\"#000000\" points=\"1392.6201,-116.9736 1401.5178,-111.222 1390.9753,-110.1696 1392.6201,-116.9736\"/>\n</g>\n<!-- 5&#45;&gt;17 -->\n<g id=\"edge77\" class=\"edge\">\n<title>5&#45;&gt;17</title>\n<path fill=\"none\" stroke=\"#000000\" d=\"M1151.583,-173.9712C1231.6967,-161.7106 1472.7089,-124.8262 1565.3894,-110.6424\"/>\n<polygon fill=\"#000000\" stroke=\"#000000\" points=\"1566.0709,-114.0789 1575.4263,-109.1063 1565.0119,-107.1595 1566.0709,-114.0789\"/>\n</g>\n<!-- 6 -->\n<g id=\"node6\" class=\"node\">\n<title>6</title>\n<ellipse fill=\"none\" stroke=\"#000000\" cx=\"855.258\" cy=\"-178\" rx=\"27\" ry=\"18\"/>\n<text text-anchor=\"middle\" x=\"855.258\" y=\"-174.3\" font-family=\"Times,serif\" font-size=\"14.00\" fill=\"#000000\">the</text>\n</g>\n<!-- 6&#45;&gt;8 -->\n<g id=\"edge6\" class=\"edge\">\n<title>6&#45;&gt;8</title>\n<path fill=\"none\" stroke=\"#000000\" d=\"M834.9186,-165.9044C829.955,-163.502 824.547,-161.3167 819.258,-160 779.3526,-150.0658 108.3758,-171.0392 79.258,-142 76.801,-139.5496 75.336,-136.4867 74.554,-133.1787\"/>\n<polygon fill=\"#000000\" stroke=\"#000000\" points=\"78.0297,-132.6634 73.947,-122.8868 71.0419,-133.0755 78.0297,-132.6634\"/>\n</g>\n<!-- 6&#45;&gt;9 -->\n<g id=\"edge14\" class=\"edge\">\n<title>6&#45;&gt;9</title>\n<path fill=\"none\" stroke=\"#000000\" d=\"M834.9126,-165.9281C829.9493,-163.5247 824.5429,-161.333 819.258,-160 787.4608,-151.9799 252.4058,-165.2285 229.258,-142 226.8086,-139.5421 225.348,-136.4748 224.5681,-133.1646\"/>\n<polygon fill=\"#000000\" stroke=\"#000000\" points=\"228.0439,-132.6486 223.9622,-122.8716 221.056,-133.06 228.0439,-132.6486\"/>\n</g>\n<!-- 6&#45;&gt;10 -->\n<g id=\"edge22\" class=\"edge\">\n<title>6&#45;&gt;10</title>\n<path fill=\"none\" stroke=\"#000000\" d=\"M834.9001,-165.9773C829.9373,-163.5719 824.5342,-161.3669 819.258,-160 774.5785,-148.4249 437.0675,-174.4618 404.258,-142 401.7114,-139.4804 400.1781,-136.3062 399.3377,-132.8814\"/>\n<polygon fill=\"#000000\" stroke=\"#000000\" points=\"402.8257,-132.5897 398.5384,-122.9011 395.848,-133.1486 402.8257,-132.5897\"/>\n</g>\n<!-- 6&#45;&gt;11 -->\n<g id=\"edge30\" class=\"edge\">\n<title>6&#45;&gt;11</title>\n<path fill=\"none\" stroke=\"#000000\" d=\"M834.8679,-166.0977C829.9064,-163.6873 824.512,-161.4499 819.258,-160 793.4799,-152.8864 597.9689,-161.1053 579.258,-142 576.8724,-139.5641 575.3888,-136.551 574.5361,-133.3039\"/>\n<polygon fill=\"#000000\" stroke=\"#000000\" points=\"578.0081,-132.8386 573.5991,-123.2048 571.038,-133.4854 578.0081,-132.8386\"/>\n</g>\n<!-- 6&#45;&gt;12 -->\n<g id=\"edge38\" class=\"edge\">\n<title>6&#45;&gt;12</title>\n<path fill=\"none\" stroke=\"#000000\" d=\"M834.2449,-166.6428C829.4019,-164.2654 824.2152,-161.9051 819.258,-160 791.2769,-149.2468 773.0443,-165.359 754.258,-142 752.227,-139.4747 750.918,-136.5106 750.1253,-133.3781\"/>\n<polygon fill=\"#000000\" stroke=\"#000000\" points=\"753.5781,-132.7309 749.1015,-123.1283 746.6128,-133.4267 753.5781,-132.7309\"/>\n</g>\n<!-- 6&#45;&gt;13 -->\n<g id=\"edge46\" class=\"edge\">\n<title>6&#45;&gt;13</title>\n<path fill=\"none\" stroke=\"#000000\" d=\"M876.7322,-166.9011C886.0219,-160.881 895.9631,-152.5046 901.258,-142 902.6138,-139.3102 903.5066,-136.3649 904.0605,-133.3479\"/>\n<polygon fill=\"#000000\" stroke=\"#000000\" points=\"907.5726,-133.3117 904.8187,-123.081 900.5916,-132.7961 907.5726,-133.3117\"/>\n</g>\n<!-- 6&#45;&gt;14 -->\n<g id=\"edge54\" class=\"edge\">\n<title>6&#45;&gt;14</title>\n<path fill=\"none\" stroke=\"#000000\" d=\"M875.6718,-166.1819C880.6323,-163.768 886.0203,-161.5079 891.258,-160 930.951,-148.5724 1048.0903,-172.211 1076.258,-142 1078.5805,-139.509 1079.9842,-136.4635 1080.75,-133.2\"/>\n<polygon fill=\"#000000\" stroke=\"#000000\" points=\"1084.2509,-133.2994 1081.4146,-123.0913 1077.266,-132.8401 1084.2509,-133.2994\"/>\n</g>\n<!-- 6&#45;&gt;15 -->\n<g id=\"edge62\" class=\"edge\">\n<title>6&#45;&gt;15</title>\n<path fill=\"none\" stroke=\"#000000\" d=\"M875.6225,-166.0026C880.585,-163.5961 885.9863,-161.3843 891.258,-160 929.9946,-149.8277 1223.265,-170.6425 1251.258,-142 1253.6833,-139.5183 1255.13,-136.4373 1255.9029,-133.1203\"/>\n<polygon fill=\"#000000\" stroke=\"#000000\" points=\"1259.4152,-133.0115 1256.5055,-122.824 1252.4272,-132.6024 1259.4152,-133.0115\"/>\n</g>\n<!-- 6&#45;&gt;16 -->\n<g id=\"edge70\" class=\"edge\">\n<title>6&#45;&gt;16</title>\n<path fill=\"none\" stroke=\"#000000\" d=\"M875.6063,-165.9401C880.5695,-163.5362 885.9752,-161.3413 891.258,-160 920.0825,-152.6816 1405.2989,-163.0981 1426.258,-142 1428.7035,-139.5382 1430.1618,-136.4687 1430.9406,-133.1574\"/>\n<polygon fill=\"#000000\" stroke=\"#000000\" points=\"1434.4528,-133.0521 1431.546,-122.8639 1427.4648,-132.6411 1434.4528,-133.0521\"/>\n</g>\n<!-- 6&#45;&gt;17 -->\n<g id=\"edge78\" class=\"edge\">\n<title>6&#45;&gt;17</title>\n<path fill=\"none\" stroke=\"#000000\" d=\"M875.5983,-165.9084C880.5619,-163.5058 885.9697,-161.3194 891.258,-160 929.5416,-150.4487 1573.3342,-169.877 1601.258,-142 1603.7137,-139.5484 1605.1779,-136.4847 1605.9596,-133.1764\"/>\n<polygon fill=\"#000000\" stroke=\"#000000\" points=\"1609.4717,-133.0729 1606.5664,-122.8842 1602.4838,-132.6609 1609.4717,-133.0729\"/>\n</g>\n<!-- 7 -->\n<g id=\"node7\" class=\"node\">\n<title>7</title>\n<ellipse fill=\"none\" stroke=\"#000000\" cx=\"700.258\" cy=\"-178\" rx=\"27.8951\" ry=\"18\"/>\n<text text-anchor=\"middle\" x=\"700.258\" y=\"-174.3\" font-family=\"Times,serif\" font-size=\"14.00\" fill=\"#000000\">.......</text>\n</g>\n<!-- 7&#45;&gt;8 -->\n<g id=\"edge7\" class=\"edge\">\n<title>7&#45;&gt;8</title>\n<path fill=\"none\" stroke=\"#000000\" d=\"M679.318,-165.9203C674.2181,-163.5172 668.6694,-161.3276 663.258,-160 629.0364,-151.6043 53.8178,-167.267 29.258,-142 20.1767,-132.6572 30.9369,-123.8015 44.6623,-117.0974\"/>\n<polygon fill=\"#000000\" stroke=\"#000000\" points=\"46.1876,-120.2501 53.9312,-113.0191 43.3684,-113.8429 46.1876,-120.2501\"/>\n</g>\n<!-- 7&#45;&gt;9 -->\n<g id=\"edge15\" class=\"edge\">\n<title>7&#45;&gt;9</title>\n<path fill=\"none\" stroke=\"#000000\" d=\"M679.3095,-165.9548C674.2099,-163.5503 668.6635,-161.3514 663.258,-160 637.1539,-153.4741 197.9275,-161.3768 179.258,-142 170.2178,-132.6174 180.9799,-123.7598 194.696,-117.0648\"/>\n<polygon fill=\"#000000\" stroke=\"#000000\" points=\"196.2113,-120.2219 203.9575,-112.9936 193.3944,-113.8137 196.2113,-120.2219\"/>\n</g>\n<!-- 7&#45;&gt;10 -->\n<g id=\"edge23\" class=\"edge\">\n<title>7&#45;&gt;10</title>\n<path fill=\"none\" stroke=\"#000000\" d=\"M679.2885,-166.037C674.1897,-163.6291 668.649,-161.4081 663.258,-160 629.9827,-151.3088 377.8588,-167.0156 354.258,-142 345.5754,-132.7969 355.6406,-124.0759 368.7566,-117.4147\"/>\n<polygon fill=\"#000000\" stroke=\"#000000\" points=\"370.4773,-120.4772 378.1314,-113.1515 367.5796,-114.1051 370.4773,-120.4772\"/>\n</g>\n<!-- 7&#45;&gt;11 -->\n<g id=\"edge31\" class=\"edge\">\n<title>7&#45;&gt;11</title>\n<path fill=\"none\" stroke=\"#000000\" d=\"M678.8132,-166.1442C673.8278,-163.7926 668.4554,-161.5688 663.258,-160 634.4945,-151.3177 549.0385,-164.6152 529.258,-142 520.9845,-132.5408 530.8792,-123.8542 543.7903,-117.2783\"/>\n<polygon fill=\"#000000\" stroke=\"#000000\" points=\"545.3701,-120.4048 553.0244,-113.0793 542.4725,-114.0327 545.3701,-120.4048\"/>\n</g>\n<!-- 7&#45;&gt;12 -->\n<g id=\"edge39\" class=\"edge\">\n<title>7&#45;&gt;12</title>\n<path fill=\"none\" stroke=\"#000000\" d=\"M711.2858,-161.3035C715.5779,-154.9051 720.5808,-147.5673 725.258,-141 727.9305,-137.2475 730.8044,-133.3135 733.6451,-129.4809\"/>\n<polygon fill=\"#000000\" stroke=\"#000000\" points=\"736.5312,-131.4659 739.7198,-121.3622 730.9264,-127.2722 736.5312,-131.4659\"/>\n</g>\n<!-- 7&#45;&gt;13 -->\n<g id=\"edge47\" class=\"edge\">\n<title>7&#45;&gt;13</title>\n<path fill=\"none\" stroke=\"#000000\" d=\"M721.7301,-166.2329C726.7141,-163.8768 732.079,-161.6287 737.258,-160 786.1897,-144.6118 803.8567,-161.6018 851.258,-142 860.7111,-138.0908 870.0634,-132.1004 878.127,-126.0708\"/>\n<polygon fill=\"#000000\" stroke=\"#000000\" points=\"880.3237,-128.796 886.0139,-119.8588 875.9924,-123.2968 880.3237,-128.796\"/>\n</g>\n<!-- 7&#45;&gt;14 -->\n<g id=\"edge55\" class=\"edge\">\n<title>7&#45;&gt;14</title>\n<path fill=\"none\" stroke=\"#000000\" d=\"M721.2316,-166.0527C726.3302,-163.6442 731.8698,-161.4189 737.258,-160 861.7085,-127.2276 905.1442,-185.5135 1026.258,-142 1036.0379,-138.4863 1045.5825,-132.4851 1053.7196,-126.3265\"/>\n<polygon fill=\"#000000\" stroke=\"#000000\" points=\"1056.0464,-128.9467 1061.6408,-119.9493 1051.6566,-123.4942 1056.0464,-128.9467\"/>\n</g>\n<!-- 7&#45;&gt;15 -->\n<g id=\"edge63\" class=\"edge\">\n<title>7&#45;&gt;15</title>\n<path fill=\"none\" stroke=\"#000000\" d=\"M721.208,-165.961C726.3076,-163.5563 731.8535,-161.3557 737.258,-160 837.3457,-134.8933 1103.7447,-175.7499 1201.258,-142 1211.0783,-138.6011 1220.6334,-132.6295 1228.7677,-126.4628\"/>\n<polygon fill=\"#000000\" stroke=\"#000000\" points=\"1231.1052,-129.0738 1236.6817,-120.0653 1226.7045,-123.63 1231.1052,-129.0738\"/>\n</g>\n<!-- 7&#45;&gt;16 -->\n<g id=\"edge71\" class=\"edge\">\n<title>7&#45;&gt;16</title>\n<path fill=\"none\" stroke=\"#000000\" d=\"M721.1977,-165.9194C726.2977,-163.5164 731.8464,-161.327 737.258,-160 875.2268,-126.168 1241.7701,-187.7494 1376.258,-142 1386.0962,-138.6533 1395.6559,-132.6951 1403.7889,-126.5247\"/>\n<polygon fill=\"#000000\" stroke=\"#000000\" points=\"1406.1313,-129.1315 1411.6998,-120.118 1401.7258,-123.6916 1406.1313,-129.1315\"/>\n</g>\n<!-- 7&#45;&gt;17 -->\n<g id=\"edge79\" class=\"edge\">\n<title>7&#45;&gt;17</title>\n<path fill=\"none\" stroke=\"#000000\" d=\"M721.1919,-165.8957C726.2921,-163.4936 731.8424,-161.3106 737.258,-160 825.1863,-138.7205 1465.5235,-170.8756 1551.258,-142 1561.1063,-138.6831 1570.6686,-132.7326 1578.8009,-126.56\"/>\n<polygon fill=\"#000000\" stroke=\"#000000\" points=\"1581.1461,-129.1644 1586.71,-120.1481 1576.7378,-123.7268 1581.1461,-129.1644\"/>\n</g>\n<!-- o -->\n<g id=\"node8\" class=\"node\">\n<title>o</title>\n<ellipse fill=\"#96a32b\" stroke=\"#000000\" cx=\"827.258\" cy=\"-18\" rx=\"74.9875\" ry=\"18\"/>\n<text text-anchor=\"middle\" x=\"827.258\" y=\"-14.3\" font-family=\"Times,serif\" font-size=\"14.00\" fill=\"#000000\">Output &#45; Positive</text>\n</g>\n<!-- 8&#45;&gt;o -->\n<g id=\"edge8\" class=\"edge\">\n<title>8&#45;&gt;o</title>\n<path fill=\"none\" stroke=\"#ffcc99\" d=\"M104.4996,-100.7217C127.5927,-96.989 162.1338,-91.484 192.258,-87 297.0132,-71.4071 323.0416,-66.0955 428.258,-54 537.9234,-41.3931 664.9706,-30.5809 745.6962,-24.1838\"/>\n<polygon fill=\"#ffcc99\" stroke=\"#ffcc99\" points=\"746.101,-27.6628 755.7948,-23.3874 745.5506,-20.6845 746.101,-27.6628\"/>\n<text text-anchor=\"middle\" x=\"441.758\" y=\"-57.8\" font-family=\"Times,serif\" font-size=\"14.00\" fill=\"#000000\">0.00</text>\n</g>\n<!-- 9&#45;&gt;o -->\n<g id=\"edge16\" class=\"edge\">\n<title>9&#45;&gt;o</title>\n<path fill=\"none\" stroke=\"#ffcc99\" d=\"M254.8329,-100.7267C310.9904,-91.7359 445.8879,-70.3468 559.258,-54 623.8627,-44.6847 697.3458,-34.8687 751.0062,-27.8438\"/>\n<polygon fill=\"#ffcc99\" stroke=\"#ffcc99\" points=\"751.6644,-31.2877 761.1265,-26.5212 750.7573,-24.3467 751.6644,-31.2877\"/>\n<text text-anchor=\"middle\" x=\"572.758\" y=\"-57.8\" font-family=\"Times,serif\" font-size=\"14.00\" fill=\"#000000\">0.00</text>\n</g>\n<!-- 10&#45;&gt;o -->\n<g id=\"edge24\" class=\"edge\">\n<title>10&#45;&gt;o</title>\n<path fill=\"none\" stroke=\"#ff6600\" d=\"M428.2039,-99.6887C493.2161,-86.3803 664.71,-51.2745 760.3682,-31.6927\"/>\n<polygon fill=\"#ff6600\" stroke=\"#ff6600\" points=\"761.1361,-35.1082 770.231,-29.6738 759.7322,-28.2504 761.1361,-35.1082\"/>\n<text text-anchor=\"middle\" x=\"653.258\" y=\"-57.8\" font-family=\"Times,serif\" font-size=\"14.00\" fill=\"#000000\">4.11</text>\n</g>\n<!-- 11&#45;&gt;o -->\n<g id=\"edge32\" class=\"edge\">\n<title>11&#45;&gt;o</title>\n<path fill=\"none\" stroke=\"#ffcc99\" d=\"M601.229,-96.6581C641.037,-82.8049 721.6754,-54.7427 775.0814,-36.1575\"/>\n<polygon fill=\"#ffcc99\" stroke=\"#ffcc99\" points=\"776.4265,-39.3953 784.7206,-32.803 774.1257,-32.7842 776.4265,-39.3953\"/>\n<text text-anchor=\"middle\" x=\"730.758\" y=\"-57.8\" font-family=\"Times,serif\" font-size=\"14.00\" fill=\"#000000\">0.00</text>\n</g>\n<!-- 12&#45;&gt;o -->\n<g id=\"edge40\" class=\"edge\">\n<title>12&#45;&gt;o</title>\n<path fill=\"none\" stroke=\"#ffcc99\" d=\"M766.0141,-89.0429C777.0039,-76.2947 792.6156,-58.1852 805.326,-43.4411\"/>\n<polygon fill=\"#ffcc99\" stroke=\"#ffcc99\" points=\"808.1626,-45.511 812.0411,-35.6516 802.8607,-40.9404 808.1626,-45.511\"/>\n<text text-anchor=\"middle\" x=\"807.758\" y=\"-57.8\" font-family=\"Times,serif\" font-size=\"14.00\" fill=\"#000000\">0.00</text>\n</g>\n<!-- 13&#45;&gt;o -->\n<g id=\"edge48\" class=\"edge\">\n<title>13&#45;&gt;o</title>\n<path fill=\"none\" stroke=\"#ffcc99\" d=\"M888.5018,-89.0429C877.512,-76.2947 861.9004,-58.1852 849.19,-43.4411\"/>\n<polygon fill=\"#ffcc99\" stroke=\"#ffcc99\" points=\"851.6552,-40.9404 842.4749,-35.6516 846.3534,-45.511 851.6552,-40.9404\"/>\n<text text-anchor=\"middle\" x=\"882.758\" y=\"-57.8\" font-family=\"Times,serif\" font-size=\"14.00\" fill=\"#000000\">0.00</text>\n</g>\n<!-- 14&#45;&gt;o -->\n<g id=\"edge56\" class=\"edge\">\n<title>14&#45;&gt;o</title>\n<path fill=\"none\" stroke=\"#ffcc99\" d=\"M1053.2869,-96.6581C1013.4789,-82.8049 932.8405,-54.7427 879.4346,-36.1575\"/>\n<polygon fill=\"#ffcc99\" stroke=\"#ffcc99\" points=\"880.3902,-32.7842 869.7954,-32.803 878.0895,-39.3953 880.3902,-32.7842\"/>\n<text text-anchor=\"middle\" x=\"980.758\" y=\"-57.8\" font-family=\"Times,serif\" font-size=\"14.00\" fill=\"#000000\">0.00</text>\n</g>\n<!-- 15&#45;&gt;o -->\n<g id=\"edge64\" class=\"edge\">\n<title>15&#45;&gt;o</title>\n<path fill=\"none\" stroke=\"#ff6600\" d=\"M1226.3121,-99.6887C1161.2998,-86.3803 989.806,-51.2745 894.1478,-31.6927\"/>\n<polygon fill=\"#ff6600\" stroke=\"#ff6600\" points=\"894.7837,-28.2504 884.285,-29.6738 893.3799,-35.1082 894.7837,-28.2504\"/>\n<text text-anchor=\"middle\" x=\"1078.758\" y=\"-57.8\" font-family=\"Times,serif\" font-size=\"14.00\" fill=\"#000000\">4.00</text>\n</g>\n<!-- 16&#45;&gt;o -->\n<g id=\"edge72\" class=\"edge\">\n<title>16&#45;&gt;o</title>\n<path fill=\"none\" stroke=\"#ffcc99\" d=\"M1400.6837,-100.7223C1344.5273,-91.7231 1209.632,-70.319 1096.258,-54 1031.3047,-44.6507 957.4074,-34.8189 903.5228,-27.7969\"/>\n<polygon fill=\"#ffcc99\" stroke=\"#ffcc99\" points=\"903.7294,-24.2943 893.3614,-26.4751 902.8264,-31.2358 903.7294,-24.2943\"/>\n<text text-anchor=\"middle\" x=\"1210.758\" y=\"-57.8\" font-family=\"Times,serif\" font-size=\"14.00\" fill=\"#000000\">0.00</text>\n</g>\n<!-- 17&#45;&gt;o -->\n<g id=\"edge80\" class=\"edge\">\n<title>17&#45;&gt;o</title>\n<path fill=\"none\" stroke=\"#ffcc99\" d=\"M1575.5541,-100.9286C1514.282,-91.6812 1358.8175,-68.7544 1228.258,-54 1117.8566,-41.5236 989.9581,-30.6617 908.8527,-24.2193\"/>\n<polygon fill=\"#ffcc99\" stroke=\"#ffcc99\" points=\"908.9528,-20.7164 898.708,-23.4172 908.401,-27.6946 908.9528,-20.7164\"/>\n<text text-anchor=\"middle\" x=\"1355.758\" y=\"-57.8\" font-family=\"Times,serif\" font-size=\"14.00\" fill=\"#000000\">0.00</text>\n</g>\n</g>\n</svg>\n"
          },
          "metadata": {
            "tags": []
          },
          "execution_count": 14
        }
      ]
    },
    {
      "metadata": {
        "id": "4rPhjLggV99m",
        "colab_type": "code",
        "colab": {
          "base_uri": "https://localhost:8080/",
          "height": 347
        },
        "outputId": "0c2b6e41-233b-47f3-95a7-3e809d86a4ec"
      },
      "cell_type": "code",
      "source": [
        "#FP\n",
        "index = 6450\n",
        "third_layer_model = Model(inputs=model.input,\n",
        "                                 outputs=model.layers[2].output)\n",
        "third_layer_output = (third_layer_model.predict(np.array([X_test[index]]))).tolist()[0]\n",
        "ans = model.predict(np.array([X_test[index]]))[0]\n",
        "print(\"Output Prob : \",ans)\n",
        "s=  ' '.join(id_to_word[id] for id in X_test[index] if id!=0)\n",
        "print(s)\n",
        "d = trace_path(s,['realistic' , 'sensible'] , third_layer_output , ans , True)\n",
        "graphviz.Source(d)  \n"
      ],
      "execution_count": 21,
      "outputs": [
        {
          "output_type": "stream",
          "text": [
            "[0.40691435]\n",
            "<START> a really realistic sensible movie by ramgopal verma no stupidity like songs as in other hindi movies class acting by nana patekar br br much similarities to real\n"
          ],
          "name": "stdout"
        },
        {
          "output_type": "execute_result",
          "data": {
            "text/plain": [
              "<graphviz.files.Source at 0x7f44ae463f60>"
            ],
            "image/svg+xml": "<?xml version=\"1.0\" encoding=\"UTF-8\" standalone=\"no\"?>\n<!DOCTYPE svg PUBLIC \"-//W3C//DTD SVG 1.1//EN\"\n \"http://www.w3.org/Graphics/SVG/1.1/DTD/svg11.dtd\">\n<!-- Generated by graphviz version 2.40.1 (20161225.0304)\n -->\n<!-- Title: %3 Pages: 1 -->\n<svg width=\"1663pt\" height=\"204pt\"\n viewBox=\"0.00 0.00 1662.66 204.00\" xmlns=\"http://www.w3.org/2000/svg\" xmlns:xlink=\"http://www.w3.org/1999/xlink\">\n<g id=\"graph0\" class=\"graph\" transform=\"scale(1 1) rotate(0) translate(4 200)\">\n<title>%3</title>\n<polygon fill=\"#ffffff\" stroke=\"transparent\" points=\"-4,4 -4,-200 1658.6573,-200 1658.6573,4 -4,4\"/>\n<!-- 1 -->\n<g id=\"node1\" class=\"node\">\n<title>1</title>\n<ellipse fill=\"none\" stroke=\"#000000\" cx=\"936.2497\" cy=\"-178\" rx=\"27\" ry=\"18\"/>\n<text text-anchor=\"middle\" x=\"936.2497\" y=\"-174.3\" font-family=\"Times,serif\" font-size=\"14.00\" fill=\"#000000\">as</text>\n</g>\n<!-- 8 -->\n<g id=\"node9\" class=\"node\">\n<title>8</title>\n<ellipse fill=\"#85c1e9\" stroke=\"#000000\" cx=\"78.2497\" cy=\"-105\" rx=\"27\" ry=\"18\"/>\n<text text-anchor=\"middle\" x=\"78.2497\" y=\"-101.3\" font-family=\"Times,serif\" font-size=\"14.00\" fill=\"#000000\">N1</text>\n</g>\n<!-- 1&#45;&gt;8 -->\n<g id=\"edge1\" class=\"edge\">\n<title>1&#45;&gt;8</title>\n<path fill=\"none\" stroke=\"#000000\" d=\"M915.9119,-165.8979C910.9483,-163.4957 905.5398,-161.3121 900.2497,-160 857.3171,-149.3512 143.2693,-162.8344 104.2497,-142 99.4385,-139.4311 95.324,-135.5319 91.8822,-131.2134\"/>\n<polygon fill=\"#000000\" stroke=\"#000000\" points=\"94.5838,-128.9601 86.0865,-122.6319 88.7829,-132.8779 94.5838,-128.9601\"/>\n</g>\n<!-- 9 -->\n<g id=\"node10\" class=\"node\">\n<title>9</title>\n<ellipse fill=\"#85c1e9\" stroke=\"#000000\" cx=\"228.2497\" cy=\"-105\" rx=\"27\" ry=\"18\"/>\n<text text-anchor=\"middle\" x=\"228.2497\" y=\"-101.3\" font-family=\"Times,serif\" font-size=\"14.00\" fill=\"#000000\">N2</text>\n</g>\n<!-- 1&#45;&gt;9 -->\n<g id=\"edge9\" class=\"edge\">\n<title>1&#45;&gt;9</title>\n<path fill=\"none\" stroke=\"#000000\" d=\"M915.9069,-165.918C910.9435,-163.515 905.5363,-161.326 900.2497,-160 830.6015,-142.5307 317.5025,-175.9872 254.2497,-142 249.4453,-139.4185 245.3338,-135.5135 241.8929,-131.1933\"/>\n<polygon fill=\"#000000\" stroke=\"#000000\" points=\"244.5947,-128.9401 236.0967,-122.6128 238.7941,-132.8585 244.5947,-128.9401\"/>\n</g>\n<!-- 10 -->\n<g id=\"node11\" class=\"node\">\n<title>10</title>\n<ellipse fill=\"#21618c\" stroke=\"#000000\" cx=\"402.2497\" cy=\"-105\" rx=\"27\" ry=\"18\"/>\n<text text-anchor=\"middle\" x=\"402.2497\" y=\"-101.3\" font-family=\"Times,serif\" font-size=\"14.00\" fill=\"#000000\">N3</text>\n</g>\n<!-- 1&#45;&gt;10 -->\n<g id=\"edge17\" class=\"edge\">\n<title>1&#45;&gt;10</title>\n<path fill=\"none\" stroke=\"#000000\" d=\"M915.8968,-165.9576C910.9338,-163.553 905.5294,-161.3533 900.2497,-160 849.5182,-146.9963 475.4761,-166.6149 429.2497,-142 424.1609,-139.2903 419.7889,-135.1478 416.1359,-130.6015\"/>\n<polygon fill=\"#000000\" stroke=\"#000000\" points=\"418.8996,-128.4441 410.3374,-122.204 413.1394,-132.4216 418.8996,-128.4441\"/>\n</g>\n<!-- 11 -->\n<g id=\"node12\" class=\"node\">\n<title>11</title>\n<ellipse fill=\"#85c1e9\" stroke=\"#000000\" cx=\"577.2497\" cy=\"-105\" rx=\"27\" ry=\"18\"/>\n<text text-anchor=\"middle\" x=\"577.2497\" y=\"-101.3\" font-family=\"Times,serif\" font-size=\"14.00\" fill=\"#000000\">N4</text>\n</g>\n<!-- 1&#45;&gt;11 -->\n<g id=\"edge25\" class=\"edge\">\n<title>1&#45;&gt;11</title>\n<path fill=\"none\" stroke=\"#000000\" d=\"M915.8742,-166.0438C910.9121,-163.6356 905.5138,-161.4127 900.2497,-160 836.6025,-142.919 662.0639,-173.6265 604.2497,-142 599.2789,-139.2808 594.9837,-135.2092 591.3729,-130.7485\"/>\n<polygon fill=\"#000000\" stroke=\"#000000\" points=\"594.2113,-128.6999 585.6146,-122.5072 588.4731,-132.7092 594.2113,-128.6999\"/>\n</g>\n<!-- 12 -->\n<g id=\"node13\" class=\"node\">\n<title>12</title>\n<ellipse fill=\"#85c1e9\" stroke=\"#000000\" cx=\"752.2497\" cy=\"-105\" rx=\"27\" ry=\"18\"/>\n<text text-anchor=\"middle\" x=\"752.2497\" y=\"-101.3\" font-family=\"Times,serif\" font-size=\"14.00\" fill=\"#000000\">N5</text>\n</g>\n<!-- 1&#45;&gt;12 -->\n<g id=\"edge33\" class=\"edge\">\n<title>1&#45;&gt;12</title>\n<path fill=\"none\" stroke=\"#000000\" d=\"M915.3958,-166.1876C910.5445,-163.8338 905.3142,-161.5981 900.2497,-160 848.4002,-143.6388 825.7697,-170.1413 779.2497,-142 774.4018,-139.0674 770.161,-134.9011 766.5648,-130.415\"/>\n<polygon fill=\"#000000\" stroke=\"#000000\" points=\"769.4045,-128.3683 760.7961,-122.192 763.674,-132.3885 769.4045,-128.3683\"/>\n</g>\n<!-- 13 -->\n<g id=\"node14\" class=\"node\">\n<title>13</title>\n<ellipse fill=\"#2e86c1\" stroke=\"#000000\" cx=\"902.2497\" cy=\"-105\" rx=\"27\" ry=\"18\"/>\n<text text-anchor=\"middle\" x=\"902.2497\" y=\"-101.3\" font-family=\"Times,serif\" font-size=\"14.00\" fill=\"#000000\">N6</text>\n</g>\n<!-- 1&#45;&gt;13 -->\n<g id=\"edge41\" class=\"edge\">\n<title>1&#45;&gt;13</title>\n<path fill=\"none\" stroke=\"#000000\" d=\"M932.6033,-159.9012C931.0412,-153.7522 928.9442,-146.9382 926.2497,-141 924.5522,-137.2592 922.4848,-133.4738 920.2828,-129.8336\"/>\n<polygon fill=\"#000000\" stroke=\"#000000\" points=\"923.0506,-127.6694 914.6666,-121.1919 917.1812,-131.484 923.0506,-127.6694\"/>\n</g>\n<!-- 14 -->\n<g id=\"node15\" class=\"node\">\n<title>14</title>\n<ellipse fill=\"#85c1e9\" stroke=\"#000000\" cx=\"1077.2497\" cy=\"-105\" rx=\"27\" ry=\"18\"/>\n<text text-anchor=\"middle\" x=\"1077.2497\" y=\"-101.3\" font-family=\"Times,serif\" font-size=\"14.00\" fill=\"#000000\">N7</text>\n</g>\n<!-- 1&#45;&gt;14 -->\n<g id=\"edge49\" class=\"edge\">\n<title>1&#45;&gt;14</title>\n<path fill=\"none\" stroke=\"#000000\" d=\"M957.0929,-166.1536C961.9448,-163.8016 967.178,-161.5752 972.2497,-160 999.8915,-151.4147 1082.2497,-163.8352 1101.2497,-142 1105.2736,-137.3756 1104.4333,-132.0247 1101.3775,-126.8541\"/>\n<polygon fill=\"#000000\" stroke=\"#000000\" points=\"1104.0986,-124.6527 1095.1329,-119.0077 1098.6215,-129.0117 1104.0986,-124.6527\"/>\n</g>\n<!-- 15 -->\n<g id=\"node16\" class=\"node\">\n<title>15</title>\n<ellipse fill=\"#21618c\" stroke=\"#000000\" cx=\"1252.2497\" cy=\"-105\" rx=\"27\" ry=\"18\"/>\n<text text-anchor=\"middle\" x=\"1252.2497\" y=\"-101.3\" font-family=\"Times,serif\" font-size=\"14.00\" fill=\"#000000\">N8</text>\n</g>\n<!-- 1&#45;&gt;15 -->\n<g id=\"edge57\" class=\"edge\">\n<title>1&#45;&gt;15</title>\n<path fill=\"none\" stroke=\"#000000\" d=\"M956.6235,-166.0377C961.5856,-163.6298 966.9844,-161.4085 972.2497,-160 1004.9372,-151.2556 1253.0412,-166.6233 1276.2497,-142 1280.5232,-137.466 1279.6548,-132.0759 1276.4817,-126.8321\"/>\n<polygon fill=\"#000000\" stroke=\"#000000\" points=\"1279.0264,-124.4135 1270.006,-118.8563 1273.592,-128.8258 1279.0264,-124.4135\"/>\n</g>\n<!-- 16 -->\n<g id=\"node17\" class=\"node\">\n<title>16</title>\n<ellipse fill=\"#85c1e9\" stroke=\"#000000\" cx=\"1427.2497\" cy=\"-105\" rx=\"27\" ry=\"18\"/>\n<text text-anchor=\"middle\" x=\"1427.2497\" y=\"-101.3\" font-family=\"Times,serif\" font-size=\"14.00\" fill=\"#000000\">N9</text>\n</g>\n<!-- 1&#45;&gt;16 -->\n<g id=\"edge65\" class=\"edge\">\n<title>1&#45;&gt;16</title>\n<path fill=\"none\" stroke=\"#000000\" d=\"M956.6019,-165.9552C961.5649,-163.5507 966.9695,-161.3516 972.2497,-160 998.0477,-153.3961 1432.7764,-161.1805 1451.2497,-142 1455.5718,-137.5124 1454.7212,-132.1391 1451.5496,-126.8968\"/>\n<polygon fill=\"#000000\" stroke=\"#000000\" points=\"1454.0864,-124.4685 1445.0652,-118.9126 1448.6527,-128.8816 1454.0864,-124.4685\"/>\n</g>\n<!-- 17 -->\n<g id=\"node18\" class=\"node\">\n<title>17</title>\n<ellipse fill=\"#85c1e9\" stroke=\"#000000\" cx=\"1602.2497\" cy=\"-105\" rx=\"27.0966\" ry=\"18\"/>\n<text text-anchor=\"middle\" x=\"1602.2497\" y=\"-101.3\" font-family=\"Times,serif\" font-size=\"14.00\" fill=\"#000000\">N10</text>\n</g>\n<!-- 1&#45;&gt;17 -->\n<g id=\"edge73\" class=\"edge\">\n<title>1&#45;&gt;17</title>\n<path fill=\"none\" stroke=\"#000000\" d=\"M956.5921,-165.9167C961.5555,-163.5138 966.9628,-161.3251 972.2497,-160 1007.5062,-151.1633 1600.9044,-168.0524 1626.2497,-142 1630.5943,-137.5341 1629.7519,-132.1688 1626.581,-126.9272\"/>\n<polygon fill=\"#000000\" stroke=\"#000000\" points=\"1629.1141,-124.4944 1620.0925,-118.9391 1623.6807,-128.9078 1629.1141,-124.4944\"/>\n</g>\n<!-- 2 -->\n<g id=\"node2\" class=\"node\">\n<title>2</title>\n<ellipse fill=\"none\" stroke=\"#000000\" cx=\"604.2497\" cy=\"-178\" rx=\"43.5923\" ry=\"18\"/>\n<text text-anchor=\"middle\" x=\"604.2497\" y=\"-174.3\" font-family=\"Times,serif\" font-size=\"14.00\" fill=\"#000000\">stupidity</text>\n</g>\n<!-- 2&#45;&gt;8 -->\n<g id=\"edge2\" class=\"edge\">\n<title>2&#45;&gt;8</title>\n<path fill=\"none\" stroke=\"#000000\" d=\"M560.7645,-177.0061C426.0145,-173.7167 23.2987,-162.2262 4.2497,-142 -10.2689,-126.5842 16.4776,-116.6529 41.7755,-111.0019\"/>\n<polygon fill=\"#000000\" stroke=\"#000000\" points=\"42.5789,-114.4101 51.6734,-108.9749 41.1745,-107.5524 42.5789,-114.4101\"/>\n</g>\n<!-- 2&#45;&gt;9 -->\n<g id=\"edge10\" class=\"edge\">\n<title>2&#45;&gt;9</title>\n<path fill=\"none\" stroke=\"#000000\" d=\"M560.622,-176.0953C450.2955,-171.0685 167.9227,-156.8105 154.2497,-142 139.8852,-126.4405 166.6083,-116.531 191.8587,-110.9243\"/>\n<polygon fill=\"#000000\" stroke=\"#000000\" points=\"192.6346,-114.3383 201.7367,-108.9159 191.2398,-107.4786 192.6346,-114.3383\"/>\n</g>\n<!-- 2&#45;&gt;10 -->\n<g id=\"edge18\" class=\"edge\">\n<title>2&#45;&gt;10</title>\n<path fill=\"none\" stroke=\"#000000\" d=\"M560.9755,-175.4261C487.374,-170.6031 344.2766,-159.1223 329.2497,-142 315.5757,-126.4193 341.1984,-116.5802 365.7676,-110.999\"/>\n<polygon fill=\"#000000\" stroke=\"#000000\" points=\"366.6747,-114.3855 375.7573,-108.9306 365.2554,-107.5309 366.6747,-114.3855\"/>\n</g>\n<!-- 2&#45;&gt;11 -->\n<g id=\"edge26\" class=\"edge\">\n<title>2&#45;&gt;11</title>\n<path fill=\"none\" stroke=\"#000000\" d=\"M566.1023,-169.1046C541.0966,-162.4131 511.7032,-152.6051 504.2497,-142 492.5255,-125.3186 516.8828,-115.7128 540.5547,-110.4916\"/>\n<polygon fill=\"#000000\" stroke=\"#000000\" points=\"541.4198,-113.8884 550.5506,-108.5146 540.0615,-107.0214 541.4198,-113.8884\"/>\n</g>\n<!-- 2&#45;&gt;12 -->\n<g id=\"edge34\" class=\"edge\">\n<title>2&#45;&gt;12</title>\n<path fill=\"none\" stroke=\"#000000\" d=\"M632.4357,-164.0974C657.8322,-151.5708 695.0979,-133.1897 721.3098,-120.2609\"/>\n<polygon fill=\"#000000\" stroke=\"#000000\" points=\"723.0041,-123.3279 730.4242,-115.7653 719.9075,-117.05 723.0041,-123.3279\"/>\n</g>\n<!-- 2&#45;&gt;13 -->\n<g id=\"edge42\" class=\"edge\">\n<title>2&#45;&gt;13</title>\n<path fill=\"none\" stroke=\"#000000\" d=\"M637.081,-166.0056C643.402,-163.8757 650.0003,-161.7741 656.2497,-160 729.9859,-139.0678 817.9764,-121.033 866.2009,-111.7291\"/>\n<polygon fill=\"#000000\" stroke=\"#000000\" points=\"866.9889,-115.1419 876.1527,-109.8245 865.673,-108.2667 866.9889,-115.1419\"/>\n</g>\n<!-- 2&#45;&gt;14 -->\n<g id=\"edge50\" class=\"edge\">\n<title>2&#45;&gt;14</title>\n<path fill=\"none\" stroke=\"#000000\" d=\"M636.4042,-165.7321C642.9036,-163.5761 649.7408,-161.5348 656.2497,-160 658.5937,-159.4473 937.9819,-123.1038 1040.2727,-109.8059\"/>\n<polygon fill=\"#000000\" stroke=\"#000000\" points=\"1040.9818,-113.2433 1050.4471,-108.4833 1040.0793,-106.3017 1040.9818,-113.2433\"/>\n</g>\n<!-- 2&#45;&gt;15 -->\n<g id=\"edge58\" class=\"edge\">\n<title>2&#45;&gt;15</title>\n<path fill=\"none\" stroke=\"#000000\" d=\"M636.069,-165.5699C642.6558,-163.3995 649.6116,-161.3942 656.2497,-160 755.9621,-139.058 1011.9206,-133.6566 1113.2497,-123 1148.0126,-119.344 1187.5287,-114.1235 1215.5181,-110.2453\"/>\n<polygon fill=\"#000000\" stroke=\"#000000\" points=\"1216.2273,-113.6803 1225.647,-108.8307 1215.259,-106.7476 1216.2273,-113.6803\"/>\n</g>\n<!-- 2&#45;&gt;16 -->\n<g id=\"edge66\" class=\"edge\">\n<title>2&#45;&gt;16</title>\n<path fill=\"none\" stroke=\"#000000\" d=\"M635.7672,-165.5452C642.4377,-163.3481 649.5028,-161.3386 656.2497,-160 725.2472,-146.3106 1218.2153,-129.5765 1288.2497,-123 1323.0512,-119.732 1362.5625,-114.464 1390.5404,-110.4695\"/>\n<polygon fill=\"#000000\" stroke=\"#000000\" points=\"1391.2674,-113.9009 1400.6646,-109.0077 1390.2671,-106.9727 1391.2674,-113.9009\"/>\n</g>\n<!-- 2&#45;&gt;17 -->\n<g id=\"edge74\" class=\"edge\">\n<title>2&#45;&gt;17</title>\n<path fill=\"none\" stroke=\"#000000\" d=\"M635.7542,-165.4789C642.4257,-163.2867 649.4944,-161.2959 656.2497,-160 744.4032,-143.0892 1373.8306,-130.826 1463.2497,-123 1497.9637,-119.9618 1537.3363,-114.6901 1565.2926,-110.6344\"/>\n<polygon fill=\"#000000\" stroke=\"#000000\" points=\"1566.03,-114.0638 1575.4147,-109.1468 1565.012,-107.1382 1566.03,-114.0638\"/>\n</g>\n<!-- 3 -->\n<g id=\"node3\" class=\"node\">\n<title>3</title>\n<ellipse fill=\"none\" stroke=\"#000000\" cx=\"766.2497\" cy=\"-178\" rx=\"27\" ry=\"18\"/>\n<text text-anchor=\"middle\" x=\"766.2497\" y=\"-174.3\" font-family=\"Times,serif\" font-size=\"14.00\" fill=\"#000000\">as</text>\n</g>\n<!-- 3&#45;&gt;8 -->\n<g id=\"edge3\" class=\"edge\">\n<title>3&#45;&gt;8</title>\n<path fill=\"none\" stroke=\"#000000\" d=\"M745.9081,-165.9133C740.9446,-163.5105 735.5371,-161.3227 730.2497,-160 693.8039,-150.8825 80.4589,-168.9164 54.2497,-142 49.903,-137.5361 50.7447,-132.1715 53.9155,-126.9299\"/>\n<polygon fill=\"#000000\" stroke=\"#000000\" points=\"56.8162,-128.9101 60.4044,-118.9414 51.3828,-124.4967 56.8162,-128.9101\"/>\n</g>\n<!-- 3&#45;&gt;9 -->\n<g id=\"edge11\" class=\"edge\">\n<title>3&#45;&gt;9</title>\n<path fill=\"none\" stroke=\"#000000\" d=\"M745.9007,-165.9423C740.9376,-163.5383 735.5321,-161.3428 730.2497,-160 701.9116,-152.7965 224.5684,-163.0259 204.2497,-142 199.92,-137.5196 200.7679,-132.149 203.9392,-126.9069\"/>\n<polygon fill=\"#000000\" stroke=\"#000000\" points=\"206.8373,-128.8903 210.425,-118.9214 201.4037,-124.4771 206.8373,-128.8903\"/>\n</g>\n<!-- 3&#45;&gt;10 -->\n<g id=\"edge19\" class=\"edge\">\n<title>3&#45;&gt;10</title>\n<path fill=\"none\" stroke=\"#000000\" d=\"M745.8839,-166.0075C740.9214,-163.6008 735.5205,-161.3877 730.2497,-160 692.4854,-150.0572 406.1467,-170.3117 379.2497,-142 375.0104,-137.5378 375.7902,-132.1739 378.8266,-126.9323\"/>\n<polygon fill=\"#000000\" stroke=\"#000000\" points=\"381.6674,-128.9811 385.0584,-118.9436 376.148,-124.6756 381.6674,-128.9811\"/>\n</g>\n<!-- 3&#45;&gt;11 -->\n<g id=\"edge27\" class=\"edge\">\n<title>3&#45;&gt;11</title>\n<path fill=\"none\" stroke=\"#000000\" d=\"M745.8304,-166.2006C740.8701,-163.7859 735.4836,-161.5208 730.2497,-160 692.496,-149.0299 580.5975,-171.18 554.2497,-142 550.288,-137.6125 550.8891,-132.4554 553.6362,-127.4075\"/>\n<polygon fill=\"#000000\" stroke=\"#000000\" points=\"556.6236,-129.2593 559.8586,-119.1704 551.0382,-125.0399 556.6236,-129.2593\"/>\n</g>\n<!-- 3&#45;&gt;12 -->\n<g id=\"edge35\" class=\"edge\">\n<title>3&#45;&gt;12</title>\n<path fill=\"none\" stroke=\"#000000\" d=\"M747.2244,-164.7566C740.1885,-158.7176 733.015,-150.9171 729.2497,-142 727.2931,-137.3664 727.905,-132.6434 729.883,-128.1901\"/>\n<polygon fill=\"#000000\" stroke=\"#000000\" points=\"732.9839,-129.8404 735.4767,-119.543 727.1064,-126.0384 732.9839,-129.8404\"/>\n</g>\n<!-- 3&#45;&gt;13 -->\n<g id=\"edge43\" class=\"edge\">\n<title>3&#45;&gt;13</title>\n<path fill=\"none\" stroke=\"#000000\" d=\"M787.219,-166.5265C792.0644,-164.1551 797.263,-161.8266 802.2497,-160 834.0323,-148.3578 848.2839,-161.0682 876.2497,-142 880.6768,-138.9814 884.5913,-134.9425 887.952,-130.6419\"/>\n<polygon fill=\"#000000\" stroke=\"#000000\" points=\"890.9409,-132.4723 893.721,-122.2486 885.1722,-128.5072 890.9409,-132.4723\"/>\n</g>\n<!-- 3&#45;&gt;14 -->\n<g id=\"edge51\" class=\"edge\">\n<title>3&#45;&gt;14</title>\n<path fill=\"none\" stroke=\"#000000\" d=\"M786.6369,-166.0874C791.5985,-163.6774 796.9937,-161.4428 802.2497,-160 855.7483,-145.3144 1002.9736,-169.3349 1051.2497,-142 1055.9957,-139.3127 1060.0805,-135.3593 1063.5134,-131.0248\"/>\n<polygon fill=\"#000000\" stroke=\"#000000\" points=\"1066.6085,-132.6961 1069.3142,-122.4526 1060.8111,-128.773 1066.6085,-132.6961\"/>\n</g>\n<!-- 3&#45;&gt;15 -->\n<g id=\"edge59\" class=\"edge\">\n<title>3&#45;&gt;15</title>\n<path fill=\"none\" stroke=\"#000000\" d=\"M786.6067,-165.9738C791.5695,-163.5685 796.9728,-161.3645 802.2497,-160 847.9017,-148.1953 1184.8763,-164.6208 1226.2497,-142 1231.0351,-139.3836 1235.1379,-135.4626 1238.5762,-131.1377\"/>\n<polygon fill=\"#000000\" stroke=\"#000000\" points=\"1241.6738,-132.8049 1244.3739,-122.5599 1235.8743,-128.885 1241.6738,-132.8049\"/>\n</g>\n<!-- 3&#45;&gt;16 -->\n<g id=\"edge67\" class=\"edge\">\n<title>3&#45;&gt;16</title>\n<path fill=\"none\" stroke=\"#000000\" d=\"M786.5945,-165.9264C791.5579,-163.523 796.9645,-161.3318 802.2497,-160 866.8169,-143.7301 1342.6295,-173.5804 1401.2497,-142 1406.0512,-139.4133 1410.1614,-135.5058 1413.6019,-131.1849\"/>\n<polygon fill=\"#000000\" stroke=\"#000000\" points=\"1416.7005,-132.8505 1419.3983,-122.6049 1410.9001,-128.9319 1416.7005,-132.8505\"/>\n</g>\n<!-- 3&#45;&gt;17 -->\n<g id=\"edge75\" class=\"edge\">\n<title>3&#45;&gt;17</title>\n<path fill=\"none\" stroke=\"#000000\" d=\"M786.588,-165.9003C791.5516,-163.4981 796.96,-161.3138 802.2497,-160 843.993,-149.632 1538.3144,-162.271 1576.2497,-142 1581.0599,-139.4296 1585.1741,-135.5296 1588.6158,-131.2109\"/>\n<polygon fill=\"#000000\" stroke=\"#000000\" points=\"1591.7151,-132.8755 1594.4116,-122.6296 1585.9142,-128.9576 1591.7151,-132.8755\"/>\n</g>\n<!-- 4 -->\n<g id=\"node4\" class=\"node\">\n<title>4</title>\n<ellipse fill=\"none\" stroke=\"#000000\" cx=\"1013.2497\" cy=\"-178\" rx=\"32.4942\" ry=\"18\"/>\n<text text-anchor=\"middle\" x=\"1013.2497\" y=\"-174.3\" font-family=\"Times,serif\" font-size=\"14.00\" fill=\"#000000\">songs</text>\n</g>\n<!-- 4&#45;&gt;8 -->\n<g id=\"edge4\" class=\"edge\">\n<title>4&#45;&gt;8</title>\n<path fill=\"none\" stroke=\"#000000\" d=\"M989.0385,-165.6358C983.6386,-163.3731 977.8501,-161.3145 972.2497,-160 887.7811,-140.1737 278.5628,-131.8347 192.2497,-123 166.0942,-120.3228 136.8005,-115.661 114.4577,-111.7524\"/>\n<polygon fill=\"#000000\" stroke=\"#000000\" points=\"114.864,-108.2698 104.4054,-109.963 113.6371,-115.1615 114.864,-108.2698\"/>\n</g>\n<!-- 4&#45;&gt;9 -->\n<g id=\"edge12\" class=\"edge\">\n<title>4&#45;&gt;9</title>\n<path fill=\"none\" stroke=\"#000000\" d=\"M989.0248,-165.6934C983.6257,-163.4271 977.841,-161.3525 972.2497,-160 906.6819,-144.1396 433.402,-129.4219 366.2497,-123 331.7,-119.696 292.4727,-114.4324 264.6957,-110.4486\"/>\n<polygon fill=\"#000000\" stroke=\"#000000\" points=\"265.0429,-106.9625 254.6441,-108.9913 264.0384,-113.89 265.0429,-106.9625\"/>\n</g>\n<!-- 4&#45;&gt;10 -->\n<g id=\"edge20\" class=\"edge\">\n<title>4&#45;&gt;10</title>\n<path fill=\"none\" stroke=\"#000000\" d=\"M988.9989,-165.7977C983.6014,-163.525 977.8239,-161.4213 972.2497,-160 879.1,-136.2484 636.8278,-133.2862 541.2497,-123 506.4957,-119.2597 466.9785,-114.0495 438.9864,-110.1966\"/>\n<polygon fill=\"#000000\" stroke=\"#000000\" points=\"439.2423,-106.6987 428.8564,-108.7923 438.281,-113.6324 439.2423,-106.6987\"/>\n</g>\n<!-- 4&#45;&gt;11 -->\n<g id=\"edge28\" class=\"edge\">\n<title>4&#45;&gt;11</title>\n<path fill=\"none\" stroke=\"#000000\" d=\"M988.9391,-166.0198C983.5454,-163.7332 977.7845,-161.5678 972.2497,-160 955.0534,-155.1292 708.5651,-122.3269 613.9027,-109.8259\"/>\n<polygon fill=\"#000000\" stroke=\"#000000\" points=\"614.2889,-106.3466 603.9169,-108.5082 613.373,-113.2865 614.2889,-106.3466\"/>\n</g>\n<!-- 4&#45;&gt;12 -->\n<g id=\"edge36\" class=\"edge\">\n<title>4&#45;&gt;12</title>\n<path fill=\"none\" stroke=\"#000000\" d=\"M988.3632,-166.276C983.1063,-164.026 977.546,-161.8102 972.2497,-160 908.7896,-138.3106 832.3747,-121.1336 788.3433,-112.0672\"/>\n<polygon fill=\"#000000\" stroke=\"#000000\" points=\"788.8982,-108.6085 778.4012,-110.0449 787.5029,-115.468 788.8982,-108.6085\"/>\n</g>\n<!-- 4&#45;&gt;13 -->\n<g id=\"edge44\" class=\"edge\">\n<title>4&#45;&gt;13</title>\n<path fill=\"none\" stroke=\"#000000\" d=\"M992.1101,-164.0974C974.5458,-152.5461 949.412,-136.0166 930.1894,-123.3748\"/>\n<polygon fill=\"#000000\" stroke=\"#000000\" points=\"932.1001,-120.4423 921.8218,-117.8718 928.2537,-126.2909 932.1001,-120.4423\"/>\n</g>\n<!-- 4&#45;&gt;14 -->\n<g id=\"edge52\" class=\"edge\">\n<title>4&#45;&gt;14</title>\n<path fill=\"none\" stroke=\"#000000\" d=\"M1042.8872,-170.4884C1074.6352,-162.1453 1121.177,-148.9399 1126.2497,-142 1133.7116,-131.7912 1123.7369,-123.0989 1110.8828,-116.7096\"/>\n<polygon fill=\"#000000\" stroke=\"#000000\" points=\"1112.265,-113.494 1101.7027,-112.6639 1109.442,-119.8995 1112.265,-113.494\"/>\n</g>\n<!-- 4&#45;&gt;15 -->\n<g id=\"edge60\" class=\"edge\">\n<title>4&#45;&gt;15</title>\n<path fill=\"none\" stroke=\"#000000\" d=\"M1042.6073,-169.8654C1056.3682,-166.3337 1073.047,-162.4522 1088.2497,-160 1111.6976,-156.2178 1285.1778,-159.4873 1301.2497,-142 1309.9236,-132.5621 1299.6373,-123.8269 1286.2891,-117.2166\"/>\n<polygon fill=\"#000000\" stroke=\"#000000\" points=\"1287.3153,-113.8434 1276.7543,-112.9972 1284.4826,-120.2446 1287.3153,-113.8434\"/>\n</g>\n<!-- 4&#45;&gt;16 -->\n<g id=\"edge68\" class=\"edge\">\n<title>4&#45;&gt;16</title>\n<path fill=\"none\" stroke=\"#000000\" d=\"M1042.2093,-169.696C1056.0297,-166.0826 1072.8706,-162.1822 1088.2497,-160 1109.6144,-156.9685 1461.3489,-157.608 1476.2497,-142 1485.2466,-132.576 1474.4826,-123.7165 1460.7763,-117.0308\"/>\n<polygon fill=\"#000000\" stroke=\"#000000\" points=\"1462.0859,-113.7834 1451.5226,-112.9672 1459.2713,-120.1926 1462.0859,-113.7834\"/>\n</g>\n<!-- 4&#45;&gt;17 -->\n<g id=\"edge76\" class=\"edge\">\n<title>4&#45;&gt;17</title>\n<path fill=\"none\" stroke=\"#000000\" d=\"M1042.1956,-169.5966C1056.0129,-165.9614 1072.8553,-162.0714 1088.2497,-160 1119.2639,-155.8268 1629.4781,-164.4788 1651.2497,-142 1660.2534,-132.7038 1649.6968,-123.9034 1636.1075,-117.2193\"/>\n<polygon fill=\"#000000\" stroke=\"#000000\" points=\"1637.4755,-113.9973 1626.9147,-113.1485 1634.6412,-120.3978 1637.4755,-113.9973\"/>\n</g>\n<!-- 5 -->\n<g id=\"node5\" class=\"node\">\n<title>5</title>\n<ellipse fill=\"none\" stroke=\"#000000\" cx=\"1135.2497\" cy=\"-178\" rx=\"38.1938\" ry=\"18\"/>\n<text text-anchor=\"middle\" x=\"1135.2497\" y=\"-174.3\" font-family=\"Times,serif\" font-size=\"14.00\" fill=\"#000000\">realistic</text>\n</g>\n<!-- 5&#45;&gt;8 -->\n<g id=\"edge5\" class=\"edge\">\n<title>5&#45;&gt;8</title>\n<path fill=\"none\" stroke=\"#000000\" d=\"M1101.5931,-169.1305C1087.1249,-165.6805 1069.9604,-162.0665 1054.2497,-160 864.1551,-134.9961 383.0285,-142.0935 192.2497,-123 166.0882,-120.3817 136.7947,-115.7184 114.4534,-111.7944\"/>\n<polygon fill=\"#000000\" stroke=\"#000000\" points=\"114.8619,-108.312 104.4019,-109.9968 113.6295,-115.2027 114.8619,-108.312\"/>\n</g>\n<!-- 5&#45;&gt;9 -->\n<g id=\"edge13\" class=\"edge\">\n<title>5&#45;&gt;9</title>\n<path fill=\"none\" stroke=\"#000000\" d=\"M1101.5819,-169.2135C1087.1119,-165.7775 1069.949,-162.1515 1054.2497,-160 902.5577,-139.2111 518.716,-137.0228 366.2497,-123 331.6882,-119.8213 292.4624,-114.5424 264.6889,-110.521\"/>\n<polygon fill=\"#000000\" stroke=\"#000000\" points=\"265.0405,-107.0353 254.6387,-109.0484 264.0256,-113.9613 265.0405,-107.0353\"/>\n</g>\n<!-- 5&#45;&gt;10 -->\n<g id=\"edge21\" class=\"edge\">\n<title>5&#45;&gt;10</title>\n<path fill=\"none\" stroke=\"#000000\" d=\"M1101.5621,-169.3534C1087.0887,-165.941 1069.9287,-162.2949 1054.2497,-160 828.0673,-126.8945 768.691,-145.9098 541.2497,-123 506.471,-119.4968 466.9569,-114.2575 438.9721,-110.3336\"/>\n<polygon fill=\"#000000\" stroke=\"#000000\" points=\"439.2369,-106.8362 428.8451,-108.9004 438.256,-113.7672 439.2369,-106.8362\"/>\n</g>\n<!-- 5&#45;&gt;11 -->\n<g id=\"edge29\" class=\"edge\">\n<title>5&#45;&gt;11</title>\n<path fill=\"none\" stroke=\"#000000\" d=\"M1101.1224,-169.5444C1086.7254,-166.2047 1069.7414,-162.5613 1054.2497,-160 905.1541,-135.3495 866.3022,-140.9268 716.2497,-123 681.5419,-118.8535 642.019,-113.6928 614.0131,-109.9618\"/>\n<polygon fill=\"#000000\" stroke=\"#000000\" points=\"614.253,-106.4628 603.8774,-108.6069 613.3255,-113.4011 614.253,-106.4628\"/>\n</g>\n<!-- 5&#45;&gt;12 -->\n<g id=\"edge37\" class=\"edge\">\n<title>5&#45;&gt;12</title>\n<path fill=\"none\" stroke=\"#000000\" d=\"M1100.6254,-169.9979C1086.2984,-166.767 1069.4993,-163.0818 1054.2497,-160 958.602,-140.6703 845.2809,-120.8548 788.4995,-111.1371\"/>\n<polygon fill=\"#000000\" stroke=\"#000000\" points=\"789.0185,-107.6751 778.5721,-109.4425 787.8406,-114.5753 789.0185,-107.6751\"/>\n</g>\n<!-- 5&#45;&gt;13 -->\n<g id=\"edge45\" class=\"edge\">\n<title>5&#45;&gt;13</title>\n<path fill=\"none\" stroke=\"#000000\" d=\"M1103.3406,-168.0027C1059.6571,-154.3165 981.5468,-129.8442 936.6145,-115.7667\"/>\n<polygon fill=\"#000000\" stroke=\"#000000\" points=\"937.6074,-112.4101 927.0184,-112.7602 935.5145,-119.0899 937.6074,-112.4101\"/>\n</g>\n<!-- 5&#45;&gt;14 -->\n<g id=\"edge53\" class=\"edge\">\n<title>5&#45;&gt;14</title>\n<path fill=\"none\" stroke=\"#000000\" d=\"M1164.5761,-166.3706C1176.6192,-159.8093 1186.2825,-150.9402 1179.2497,-141 1171.3502,-129.8349 1139.4166,-119.7203 1113.3574,-113.0755\"/>\n<polygon fill=\"#000000\" stroke=\"#000000\" points=\"1113.9067,-109.6064 1103.3603,-110.6185 1112.2359,-116.4041 1113.9067,-109.6064\"/>\n</g>\n<!-- 5&#45;&gt;15 -->\n<g id=\"edge61\" class=\"edge\">\n<title>5&#45;&gt;15</title>\n<path fill=\"none\" stroke=\"#000000\" d=\"M1158.6881,-163.4861C1169.2554,-156.9337 1181.8876,-149.0888 1193.2497,-142 1203.3024,-135.7281 1214.3047,-128.8359 1224.0563,-122.7175\"/>\n<polygon fill=\"#000000\" stroke=\"#000000\" points=\"1225.9885,-125.6371 1232.5972,-117.3561 1222.2668,-119.7084 1225.9885,-125.6371\"/>\n</g>\n<!-- 5&#45;&gt;16 -->\n<g id=\"edge69\" class=\"edge\">\n<title>5&#45;&gt;16</title>\n<path fill=\"none\" stroke=\"#000000\" d=\"M1169.3172,-169.4831C1225.1184,-155.5328 1335.4371,-127.9531 1391.9985,-113.8128\"/>\n<polygon fill=\"#000000\" stroke=\"#000000\" points=\"1393.0564,-117.1561 1401.9089,-111.3352 1391.3586,-110.3651 1393.0564,-117.1561\"/>\n</g>\n<!-- 5&#45;&gt;17 -->\n<g id=\"edge77\" class=\"edge\">\n<title>5&#45;&gt;17</title>\n<path fill=\"none\" stroke=\"#000000\" d=\"M1171.8944,-172.2718C1259.0888,-158.6418 1478.1252,-124.4028 1565.4628,-110.7504\"/>\n<polygon fill=\"#000000\" stroke=\"#000000\" points=\"1566.1037,-114.1928 1575.4431,-109.1903 1565.0225,-107.2768 1566.1037,-114.1928\"/>\n</g>\n<!-- 6 -->\n<g id=\"node6\" class=\"node\">\n<title>6</title>\n<ellipse fill=\"none\" stroke=\"#000000\" cx=\"851.2497\" cy=\"-178\" rx=\"40.0939\" ry=\"18\"/>\n<text text-anchor=\"middle\" x=\"851.2497\" y=\"-174.3\" font-family=\"Times,serif\" font-size=\"14.00\" fill=\"#000000\">sensible</text>\n</g>\n<!-- 6&#45;&gt;8 -->\n<g id=\"edge6\" class=\"edge\">\n<title>6&#45;&gt;8</title>\n<path fill=\"none\" stroke=\"#000000\" d=\"M821.893,-165.4564C815.5251,-163.2358 808.7483,-161.2395 802.2497,-160 762.782,-152.4723 107.6908,-170.3807 79.2497,-142 76.7934,-139.5489 75.3288,-136.4856 74.547,-133.1774\"/>\n<polygon fill=\"#000000\" stroke=\"#000000\" points=\"78.0227,-132.662 73.9401,-122.8854 71.0349,-133.0741 78.0227,-132.662\"/>\n</g>\n<!-- 6&#45;&gt;9 -->\n<g id=\"edge14\" class=\"edge\">\n<title>6&#45;&gt;9</title>\n<path fill=\"none\" stroke=\"#000000\" d=\"M821.8867,-165.4888C815.5193,-163.266 808.7443,-161.2607 802.2497,-160 770.9842,-153.9311 251.7209,-164.57 229.2497,-142 226.8014,-139.541 225.3415,-136.473 224.5619,-133.1625\"/>\n<polygon fill=\"#000000\" stroke=\"#000000\" points=\"228.0377,-132.6464 223.9562,-122.8694 221.0498,-133.0577 228.0377,-132.6464\"/>\n</g>\n<!-- 6&#45;&gt;10 -->\n<g id=\"edge22\" class=\"edge\">\n<title>6&#45;&gt;10</title>\n<path fill=\"none\" stroke=\"#000000\" d=\"M821.8732,-165.5574C815.5066,-163.33 808.7354,-161.3054 802.2497,-160 758.8525,-151.2653 435.689,-173.1637 404.2497,-142 401.7054,-139.4781 400.1734,-136.3025 399.3337,-132.877\"/>\n<polygon fill=\"#000000\" stroke=\"#000000\" points=\"402.8216,-132.5852 398.5346,-122.8965 395.844,-133.144 402.8216,-132.5852\"/>\n</g>\n<!-- 6&#45;&gt;11 -->\n<g id=\"edge30\" class=\"edge\">\n<title>6&#45;&gt;11</title>\n<path fill=\"none\" stroke=\"#000000\" d=\"M821.5745,-165.6409C815.287,-163.4369 808.6228,-161.4004 802.2497,-160 777.9705,-154.6651 596.5924,-159.8092 579.2497,-142 576.871,-139.5574 575.3915,-136.5402 574.5409,-133.2912\"/>\n<polygon fill=\"#000000\" stroke=\"#000000\" points=\"578.0128,-132.8253 573.605,-123.1909 571.0426,-133.4712 578.0128,-132.8253\"/>\n</g>\n<!-- 6&#45;&gt;12 -->\n<g id=\"edge38\" class=\"edge\">\n<title>6&#45;&gt;12</title>\n<path fill=\"none\" stroke=\"#000000\" d=\"M819.8713,-166.4677C791.6341,-156.0729 754.5134,-142.3582 754.2497,-142 752.2662,-139.3063 751.006,-136.1804 750.257,-132.9088\"/>\n<polygon fill=\"#000000\" stroke=\"#000000\" points=\"753.7415,-132.5781 749.3321,-122.9444 746.7714,-133.2251 753.7415,-132.5781\"/>\n</g>\n<!-- 6&#45;&gt;13 -->\n<g id=\"edge46\" class=\"edge\">\n<title>6&#45;&gt;13</title>\n<path fill=\"none\" stroke=\"#000000\" d=\"M878.7466,-164.7192C887.5208,-159.0145 896.2449,-151.4534 901.2497,-142 902.659,-139.3379 903.5858,-136.4101 904.1594,-133.4033\"/>\n<polygon fill=\"#000000\" stroke=\"#000000\" points=\"907.6709,-133.383 904.9376,-123.1468 900.691,-132.8533 907.6709,-133.383\"/>\n</g>\n<!-- 6&#45;&gt;14 -->\n<g id=\"edge54\" class=\"edge\">\n<title>6&#45;&gt;14</title>\n<path fill=\"none\" stroke=\"#000000\" d=\"M880.9486,-165.7463C887.2343,-163.5347 893.8918,-161.4684 900.2497,-160 938.5564,-151.1526 1049.51,-170.8213 1076.2497,-142 1078.566,-139.5033 1079.9662,-136.4545 1080.7301,-133.1892\"/>\n<polygon fill=\"#000000\" stroke=\"#000000\" points=\"1084.2311,-133.2873 1081.3936,-123.0795 1077.2461,-132.8288 1084.2311,-133.2873\"/>\n</g>\n<!-- 6&#45;&gt;15 -->\n<g id=\"edge62\" class=\"edge\">\n<title>6&#45;&gt;15</title>\n<path fill=\"none\" stroke=\"#000000\" d=\"M880.6322,-165.5874C886.9984,-163.358 893.7679,-161.325 900.2497,-160 938.5097,-152.1789 1223.9726,-169.9457 1251.2497,-142 1253.6734,-139.5168 1255.1192,-136.4349 1255.8917,-133.1174\"/>\n<polygon fill=\"#000000\" stroke=\"#000000\" points=\"1259.4039,-133.0083 1256.494,-122.8209 1252.4159,-132.5994 1259.4039,-133.0083\"/>\n</g>\n<!-- 6&#45;&gt;16 -->\n<g id=\"edge70\" class=\"edge\">\n<title>6&#45;&gt;16</title>\n<path fill=\"none\" stroke=\"#000000\" d=\"M880.6153,-165.5028C886.9826,-163.279 893.7568,-161.2698 900.2497,-160 928.9454,-154.3882 1405.6488,-162.7495 1426.2497,-142 1428.6945,-139.5375 1430.1524,-136.4676 1430.931,-133.1561\"/>\n<polygon fill=\"#000000\" stroke=\"#000000\" points=\"1434.4431,-133.0507 1431.5362,-122.8625 1427.4552,-132.6398 1434.4431,-133.0507\"/>\n</g>\n<!-- 6&#45;&gt;17 -->\n<g id=\"edge78\" class=\"edge\">\n<title>6&#45;&gt;17</title>\n<path fill=\"none\" stroke=\"#000000\" d=\"M880.6071,-165.4603C886.9749,-163.2394 893.7515,-161.242 900.2497,-160 938.5143,-152.6863 1573.6841,-169.5284 1601.2497,-142 1603.705,-139.548 1605.169,-136.4841 1605.9506,-133.1756\"/>\n<polygon fill=\"#000000\" stroke=\"#000000\" points=\"1609.4627,-133.0721 1606.5573,-122.8834 1602.4748,-132.6601 1609.4627,-133.0721\"/>\n</g>\n<!-- 7 -->\n<g id=\"node7\" class=\"node\">\n<title>7</title>\n<ellipse fill=\"none\" stroke=\"#000000\" cx=\"693.2497\" cy=\"-178\" rx=\"27.8951\" ry=\"18\"/>\n<text text-anchor=\"middle\" x=\"693.2497\" y=\"-174.3\" font-family=\"Times,serif\" font-size=\"14.00\" fill=\"#000000\">.......</text>\n</g>\n<!-- 7&#45;&gt;8 -->\n<g id=\"edge7\" class=\"edge\">\n<title>7&#45;&gt;8</title>\n<path fill=\"none\" stroke=\"#000000\" d=\"M672.5234,-165.7366C667.6655,-163.4062 662.4002,-161.2941 657.2497,-160 623.3985,-151.495 53.5738,-167.0314 29.2497,-142 20.1696,-132.656 30.9299,-123.8002 44.655,-117.0964\"/>\n<polygon fill=\"#000000\" stroke=\"#000000\" points=\"46.18,-120.2492 53.9237,-113.0183 43.3609,-113.842 46.18,-120.2492\"/>\n</g>\n<!-- 7&#45;&gt;9 -->\n<g id=\"edge15\" class=\"edge\">\n<title>7&#45;&gt;9</title>\n<path fill=\"none\" stroke=\"#000000\" d=\"M672.5147,-165.7709C667.6573,-163.4387 662.3944,-161.3172 657.2497,-160 631.5057,-153.4088 197.6836,-161.1412 179.2497,-142 170.2117,-132.6153 180.9739,-123.7576 194.6894,-117.063\"/>\n<polygon fill=\"#000000\" stroke=\"#000000\" points=\"196.2043,-120.2204 203.9506,-112.9923 193.3875,-113.8122 196.2043,-120.2204\"/>\n</g>\n<!-- 7&#45;&gt;10 -->\n<g id=\"edge23\" class=\"edge\">\n<title>7&#45;&gt;10</title>\n<path fill=\"none\" stroke=\"#000000\" d=\"M672.4931,-165.8536C667.6368,-163.5171 662.3798,-161.3729 657.2497,-160 624.6701,-151.2811 377.3796,-166.5448 354.2497,-142 345.5724,-132.7919 355.6379,-124.0706 368.7527,-117.4105\"/>\n<polygon fill=\"#000000\" stroke=\"#000000\" points=\"370.4722,-120.4736 378.1266,-113.1483 367.5747,-114.1014 370.4722,-120.4736\"/>\n</g>\n<!-- 7&#45;&gt;11 -->\n<g id=\"edge31\" class=\"edge\">\n<title>7&#45;&gt;11</title>\n<path fill=\"none\" stroke=\"#000000\" d=\"M672.0213,-165.9722C667.2781,-163.6886 662.187,-161.5364 657.2497,-160 629.8226,-151.4653 548.0936,-163.6793 529.2497,-142 521.0054,-132.5153 530.9021,-123.827 543.807,-117.2565\"/>\n<polygon fill=\"#000000\" stroke=\"#000000\" points=\"545.3799,-120.3862 553.0357,-113.0623 542.4836,-114.0134 545.3799,-120.3862\"/>\n</g>\n<!-- 7&#45;&gt;12 -->\n<g id=\"edge39\" class=\"edge\">\n<title>7&#45;&gt;12</title>\n<path fill=\"none\" stroke=\"#000000\" d=\"M706.3437,-161.7989C714.135,-152.1589 724.165,-139.7489 732.8613,-128.989\"/>\n<polygon fill=\"#000000\" stroke=\"#000000\" points=\"735.6285,-131.1333 739.1922,-121.1558 730.1843,-126.7331 735.6285,-131.1333\"/>\n</g>\n<!-- 7&#45;&gt;13 -->\n<g id=\"edge47\" class=\"edge\">\n<title>7&#45;&gt;13</title>\n<path fill=\"none\" stroke=\"#000000\" d=\"M714.711,-166.1986C719.6956,-163.8442 725.0635,-161.6056 730.2497,-160 782.1872,-143.9209 800.9144,-162.5526 851.2497,-142 860.7202,-138.1331 870.0771,-132.154 878.1397,-126.1218\"/>\n<polygon fill=\"#000000\" stroke=\"#000000\" points=\"880.3399,-128.8441 886.0237,-119.9028 876.0046,-123.3481 880.3399,-128.8441\"/>\n</g>\n<!-- 7&#45;&gt;14 -->\n<g id=\"edge55\" class=\"edge\">\n<title>7&#45;&gt;14</title>\n<path fill=\"none\" stroke=\"#000000\" d=\"M714.2218,-166.047C719.3204,-163.6387 724.8604,-161.4149 730.2497,-160 857.7277,-126.5304 902.1809,-186.4725 1026.2497,-142 1036.0321,-138.4935 1045.5774,-132.4942 1053.7144,-126.3351\"/>\n<polygon fill=\"#000000\" stroke=\"#000000\" points=\"1056.0418,-128.9547 1061.6351,-119.9566 1051.6513,-123.5027 1056.0418,-128.9547\"/>\n</g>\n<!-- 7&#45;&gt;15 -->\n<g id=\"edge63\" class=\"edge\">\n<title>7&#45;&gt;15</title>\n<path fill=\"none\" stroke=\"#000000\" d=\"M714.1991,-165.9588C719.2987,-163.5541 724.8448,-161.3541 730.2497,-160 831.8524,-134.5443 1102.2576,-176.2298 1201.2497,-142 1211.071,-138.6039 1220.6263,-132.6331 1228.7605,-126.4661\"/>\n<polygon fill=\"#000000\" stroke=\"#000000\" points=\"1231.0983,-129.0769 1236.6744,-120.0682 1226.6974,-123.6333 1231.0983,-129.0769\"/>\n</g>\n<!-- 7&#45;&gt;16 -->\n<g id=\"edge71\" class=\"edge\">\n<title>7&#45;&gt;16</title>\n<path fill=\"none\" stroke=\"#000000\" d=\"M714.1891,-165.9182C719.2891,-163.5152 724.8379,-161.3262 730.2497,-160 869.7339,-125.8189 1240.2826,-188.2295 1376.2497,-142 1386.0884,-138.6548 1395.6482,-132.697 1403.7812,-126.5264\"/>\n<polygon fill=\"#000000\" stroke=\"#000000\" points=\"1406.1237,-129.1332 1411.692,-120.1196 1401.7181,-123.6934 1406.1237,-129.1332\"/>\n</g>\n<!-- 7&#45;&gt;17 -->\n<g id=\"edge79\" class=\"edge\">\n<title>7&#45;&gt;17</title>\n<path fill=\"none\" stroke=\"#000000\" d=\"M714.1834,-165.8949C719.2836,-163.4929 724.834,-161.3101 730.2497,-160 818.9357,-138.546 1464.7755,-171.1156 1551.2497,-142 1561.0983,-138.684 1570.6607,-132.7338 1578.7929,-126.5611\"/>\n<polygon fill=\"#000000\" stroke=\"#000000\" points=\"1581.1382,-129.1655 1586.702,-120.1491 1576.7299,-123.7279 1581.1382,-129.1655\"/>\n</g>\n<!-- o -->\n<g id=\"node8\" class=\"node\">\n<title>o</title>\n<ellipse fill=\"#ae4949\" stroke=\"#000000\" cx=\"827.2497\" cy=\"-18\" rx=\"77.9862\" ry=\"18\"/>\n<text text-anchor=\"middle\" x=\"827.2497\" y=\"-14.3\" font-family=\"Times,serif\" font-size=\"14.00\" fill=\"#000000\">Output &#45; Negative</text>\n</g>\n<!-- 8&#45;&gt;o -->\n<g id=\"edge8\" class=\"edge\">\n<title>8&#45;&gt;o</title>\n<path fill=\"none\" stroke=\"#ffcc99\" d=\"M104.4913,-100.7217C127.5844,-96.989 162.1255,-91.484 192.2497,-87 297.0049,-71.4071 323.0333,-66.0955 428.2497,-54 536.5898,-41.5454 661.8942,-30.8425 742.7411,-24.4176\"/>\n<polygon fill=\"#ffcc99\" stroke=\"#ffcc99\" points=\"743.1728,-27.8945 752.8657,-23.6169 742.6209,-20.9163 743.1728,-27.8945\"/>\n<text text-anchor=\"middle\" x=\"441.7497\" y=\"-57.8\" font-family=\"Times,serif\" font-size=\"14.00\" fill=\"#000000\">0.86</text>\n</g>\n<!-- 9&#45;&gt;o -->\n<g id=\"edge16\" class=\"edge\">\n<title>9&#45;&gt;o</title>\n<path fill=\"none\" stroke=\"#ffcc99\" d=\"M254.8246,-100.7267C310.9821,-91.7359 445.8796,-70.3468 559.2497,-54 622.9813,-44.8106 695.3531,-35.1339 748.8116,-28.1301\"/>\n<polygon fill=\"#ffcc99\" stroke=\"#ffcc99\" points=\"749.443,-31.5775 758.9046,-26.8101 748.5352,-24.6366 749.443,-31.5775\"/>\n<text text-anchor=\"middle\" x=\"572.7497\" y=\"-57.8\" font-family=\"Times,serif\" font-size=\"14.00\" fill=\"#000000\">0.99</text>\n</g>\n<!-- 10&#45;&gt;o -->\n<g id=\"edge24\" class=\"edge\">\n<title>10&#45;&gt;o</title>\n<path fill=\"none\" stroke=\"#ff6600\" d=\"M428.1955,-99.6887C492.8597,-86.4516 662.8681,-51.6499 758.8167,-32.0086\"/>\n<polygon fill=\"#ff6600\" stroke=\"#ff6600\" points=\"759.6222,-35.4164 768.7171,-29.982 758.2184,-28.5586 759.6222,-35.4164\"/>\n<text text-anchor=\"middle\" x=\"653.7497\" y=\"-57.8\" font-family=\"Times,serif\" font-size=\"14.00\" fill=\"#000000\">2.57</text>\n</g>\n<!-- 11&#45;&gt;o -->\n<g id=\"edge32\" class=\"edge\">\n<title>11&#45;&gt;o</title>\n<path fill=\"none\" stroke=\"#ffcc99\" d=\"M601.2207,-96.6581C640.7986,-82.885 720.7363,-55.0667 774.1442,-36.4807\"/>\n<polygon fill=\"#ffcc99\" stroke=\"#ffcc99\" points=\"775.4981,-39.7155 783.7922,-33.1232 773.1974,-33.1044 775.4981,-39.7155\"/>\n<text text-anchor=\"middle\" x=\"730.7497\" y=\"-57.8\" font-family=\"Times,serif\" font-size=\"14.00\" fill=\"#000000\">0.98</text>\n</g>\n<!-- 12&#45;&gt;o -->\n<g id=\"edge40\" class=\"edge\">\n<title>12&#45;&gt;o</title>\n<path fill=\"none\" stroke=\"#ffcc99\" d=\"M766.0058,-89.0429C776.9243,-76.3775 792.4047,-58.4202 805.0697,-43.7288\"/>\n<polygon fill=\"#ffcc99\" stroke=\"#ffcc99\" points=\"807.8908,-45.8166 811.7693,-35.9572 802.5889,-41.246 807.8908,-45.8166\"/>\n<text text-anchor=\"middle\" x=\"807.7497\" y=\"-57.8\" font-family=\"Times,serif\" font-size=\"14.00\" fill=\"#000000\">0.77</text>\n</g>\n<!-- 13&#45;&gt;o -->\n<g id=\"edge48\" class=\"edge\">\n<title>13&#45;&gt;o</title>\n<path fill=\"none\" stroke=\"#ff9999\" d=\"M888.4935,-89.0429C877.5751,-76.3775 862.0946,-58.4202 849.4296,-43.7288\"/>\n<polygon fill=\"#ff9999\" stroke=\"#ff9999\" points=\"851.9104,-41.246 842.73,-35.9572 846.6085,-45.8166 851.9104,-41.246\"/>\n<text text-anchor=\"middle\" x=\"882.7497\" y=\"-57.8\" font-family=\"Times,serif\" font-size=\"14.00\" fill=\"#000000\">1.17</text>\n</g>\n<!-- 14&#45;&gt;o -->\n<g id=\"edge56\" class=\"edge\">\n<title>14&#45;&gt;o</title>\n<path fill=\"none\" stroke=\"#ffcc99\" d=\"M1053.2786,-96.6581C1013.7007,-82.885 933.7631,-55.0667 880.3551,-36.4807\"/>\n<polygon fill=\"#ffcc99\" stroke=\"#ffcc99\" points=\"881.3019,-33.1044 870.7071,-33.1232 879.0012,-39.7155 881.3019,-33.1044\"/>\n<text text-anchor=\"middle\" x=\"980.7497\" y=\"-57.8\" font-family=\"Times,serif\" font-size=\"14.00\" fill=\"#000000\">0.98</text>\n</g>\n<!-- 15&#45;&gt;o -->\n<g id=\"edge64\" class=\"edge\">\n<title>15&#45;&gt;o</title>\n<path fill=\"none\" stroke=\"#ff6600\" d=\"M1226.3038,-99.6887C1161.6396,-86.4516 991.6312,-51.6499 895.6826,-32.0086\"/>\n<polygon fill=\"#ff6600\" stroke=\"#ff6600\" points=\"896.281,-28.5586 885.7822,-29.982 894.8771,-35.4164 896.281,-28.5586\"/>\n<text text-anchor=\"middle\" x=\"1078.7497\" y=\"-57.8\" font-family=\"Times,serif\" font-size=\"14.00\" fill=\"#000000\">2.68</text>\n</g>\n<!-- 16&#45;&gt;o -->\n<g id=\"edge72\" class=\"edge\">\n<title>16&#45;&gt;o</title>\n<path fill=\"none\" stroke=\"#ffcc99\" d=\"M1400.6754,-100.7223C1344.519,-91.7231 1209.6237,-70.319 1096.2497,-54 1032.1726,-44.7768 959.3914,-35.0841 905.7061,-28.0826\"/>\n<polygon fill=\"#ffcc99\" stroke=\"#ffcc99\" points=\"905.9398,-24.5836 895.5717,-26.7632 905.0361,-31.525 905.9398,-24.5836\"/>\n<text text-anchor=\"middle\" x=\"1210.7497\" y=\"-57.8\" font-family=\"Times,serif\" font-size=\"14.00\" fill=\"#000000\">0.89</text>\n</g>\n<!-- 17&#45;&gt;o -->\n<g id=\"edge80\" class=\"edge\">\n<title>17&#45;&gt;o</title>\n<path fill=\"none\" stroke=\"#ffcc99\" d=\"M1575.5458,-100.9286C1514.2737,-91.6812 1358.8092,-68.7544 1228.2497,-54 1119.1804,-41.6742 993.0337,-30.9241 911.8007,-24.4545\"/>\n<polygon fill=\"#ffcc99\" stroke=\"#ffcc99\" points=\"911.8744,-20.9494 901.629,-23.6481 911.3211,-27.9275 911.8744,-20.9494\"/>\n<text text-anchor=\"middle\" x=\"1355.7497\" y=\"-57.8\" font-family=\"Times,serif\" font-size=\"14.00\" fill=\"#000000\">0.94</text>\n</g>\n</g>\n</svg>\n"
          },
          "metadata": {
            "tags": []
          },
          "execution_count": 21
        }
      ]
    },
    {
      "metadata": {
        "id": "3Y5yYsV1bY8-",
        "colab_type": "code",
        "colab": {
          "base_uri": "https://localhost:8080/",
          "height": 401
        },
        "outputId": "01828dba-5954-4552-b2bd-6b8dfc4b5040"
      },
      "cell_type": "code",
      "source": [
        "#Checking the output value after masking each word\n",
        "word_list = []\n",
        "prob_list = []\n",
        "xx=np.copy(X_test[index])\n",
        "last_1 = np.where(X_test[index]==1)[0][0]\n",
        "for i in range(last_1+1, len(xx)):\n",
        "  xx=np.copy(X_test[index])\n",
        "  actual_word_id = xx[i]\n",
        "  xx[i]=0\n",
        "  final_layer_model = Model(inputs=model.input,\n",
        "                                 outputs=model.layers[3].output)\n",
        "  final_output = (final_layer_model.predict(np.array([xx]))).tolist()[0]\n",
        "  word_list.append(id_to_word[actual_word_id])\n",
        "  prob_list.append(final_output[0])\n",
        "mask_data = {'feature':word_list, 'probability':prob_list}\n",
        "ax = sns.barplot(x=\"probability\", y=\"feature\", data=mask_data)  "
      ],
      "execution_count": 69,
      "outputs": [
        {
          "output_type": "stream",
          "text": [
            "/usr/local/lib/python3.6/dist-packages/seaborn/categorical.py:1428: FutureWarning: remove_na is deprecated and is a private function. Do not use.\n",
            "  stat_data = remove_na(group_data)\n"
          ],
          "name": "stderr"
        },
        {
          "output_type": "display_data",
          "data": {
            "image/png": "[encoded data removed]",
            "text/plain": [
              "<Figure size 576x396 with 1 Axes>"
            ]
          },
          "metadata": {
            "tags": []
          }
        }
      ]
    },
    {
      "metadata": {
        "id": "8IssKZcYWUcL",
        "colab_type": "code",
        "colab": {
          "base_uri": "https://localhost:8080/",
          "height": 347
        },
        "outputId": "7663db0c-c17a-431a-d734-781c0f9e5f4d"
      },
      "cell_type": "code",
      "source": [
        "#After Masking\n",
        "index = 6450\n",
        "inp=np.copy(X_test[index])\n",
        "inp[174]=0 #realistic\n",
        "inp[175]=0 #sensible\n",
        "third_layer_model = Model(inputs=model.input,\n",
        "                               outputs=model.layers[2].output)\n",
        "third_layer_output = (third_layer_model.predict(np.array([inp]))).tolist()[0]\n",
        "ans = model.predict(np.array([inp]))[0]\n",
        "print(\"Output prob : \",ans)\n",
        "s=  ' '.join(id_to_word[id] for id in X_test[index] if id!=0)\n",
        "print(s)\n",
        "d = trace_path(s,['realistic' , 'sensible'] , third_layer_output , ans , False)\n",
        "graphviz.Source(d)  "
      ],
      "execution_count": 22,
      "outputs": [
        {
          "output_type": "stream",
          "text": [
            "Output prob :  [0.29914755]\n",
            "<START> a really realistic sensible movie by ramgopal verma no stupidity like songs as in other hindi movies class acting by nana patekar br br much similarities to real\n"
          ],
          "name": "stdout"
        },
        {
          "output_type": "execute_result",
          "data": {
            "text/plain": [
              "<graphviz.files.Source at 0x7f44ae379c50>"
            ],
            "image/svg+xml": "<?xml version=\"1.0\" encoding=\"UTF-8\" standalone=\"no\"?>\n<!DOCTYPE svg PUBLIC \"-//W3C//DTD SVG 1.1//EN\"\n \"http://www.w3.org/Graphics/SVG/1.1/DTD/svg11.dtd\">\n<!-- Generated by graphviz version 2.40.1 (20161225.0304)\n -->\n<!-- Title: %3 Pages: 1 -->\n<svg width=\"1663pt\" height=\"204pt\"\n viewBox=\"0.00 0.00 1662.66 204.00\" xmlns=\"http://www.w3.org/2000/svg\" xmlns:xlink=\"http://www.w3.org/1999/xlink\">\n<g id=\"graph0\" class=\"graph\" transform=\"scale(1 1) rotate(0) translate(4 200)\">\n<title>%3</title>\n<polygon fill=\"#ffffff\" stroke=\"transparent\" points=\"-4,4 -4,-200 1658.6601,-200 1658.6601,4 -4,4\"/>\n<!-- 1 -->\n<g id=\"node1\" class=\"node\">\n<title>1</title>\n<ellipse fill=\"none\" stroke=\"#000000\" cx=\"940.2544\" cy=\"-178\" rx=\"46.2923\" ry=\"18\"/>\n<text text-anchor=\"middle\" x=\"940.2544\" y=\"-174.3\" font-family=\"Times,serif\" font-size=\"14.00\" fill=\"#000000\">ramgopal</text>\n</g>\n<!-- 8 -->\n<g id=\"node9\" class=\"node\">\n<title>8</title>\n<ellipse fill=\"#85c1e9\" stroke=\"#000000\" cx=\"78.2544\" cy=\"-105\" rx=\"27\" ry=\"18\"/>\n<text text-anchor=\"middle\" x=\"78.2544\" y=\"-101.3\" font-family=\"Times,serif\" font-size=\"14.00\" fill=\"#000000\">N1</text>\n</g>\n<!-- 1&#45;&gt;8 -->\n<g id=\"edge1\" class=\"edge\">\n<title>1&#45;&gt;8</title>\n<path fill=\"none\" stroke=\"#000000\" d=\"M906.909,-165.3636C899.8543,-163.1797 892.3844,-161.2214 885.2544,-160 842.4772,-152.6718 142.5347,-162.4503 104.2544,-142 99.4439,-139.4301 95.3296,-135.5303 91.8878,-131.2117\"/>\n<polygon fill=\"#000000\" stroke=\"#000000\" points=\"94.5895,-128.9584 86.0921,-122.6303 88.7886,-132.8763 94.5895,-128.9584\"/>\n</g>\n<!-- 9 -->\n<g id=\"node10\" class=\"node\">\n<title>9</title>\n<ellipse fill=\"#2e86c1\" stroke=\"#000000\" cx=\"228.2544\" cy=\"-105\" rx=\"27\" ry=\"18\"/>\n<text text-anchor=\"middle\" x=\"228.2544\" y=\"-101.3\" font-family=\"Times,serif\" font-size=\"14.00\" fill=\"#000000\">N2</text>\n</g>\n<!-- 1&#45;&gt;9 -->\n<g id=\"edge9\" class=\"edge\">\n<title>1&#45;&gt;9</title>\n<path fill=\"none\" stroke=\"#000000\" d=\"M906.9038,-165.3938C899.8495,-163.2077 892.381,-161.241 885.2544,-160 816.1546,-147.9676 316.0287,-175.219 254.2544,-142 249.4509,-139.4169 245.3398,-135.5112 241.8991,-131.1908\"/>\n<polygon fill=\"#000000\" stroke=\"#000000\" points=\"244.6008,-128.9376 236.1028,-122.6104 238.8003,-132.8561 244.6008,-128.9376\"/>\n</g>\n<!-- 10 -->\n<g id=\"node11\" class=\"node\">\n<title>10</title>\n<ellipse fill=\"#21618c\" stroke=\"#000000\" cx=\"402.2544\" cy=\"-105\" rx=\"27\" ry=\"18\"/>\n<text text-anchor=\"middle\" x=\"402.2544\" y=\"-101.3\" font-family=\"Times,serif\" font-size=\"14.00\" fill=\"#000000\">N3</text>\n</g>\n<!-- 1&#45;&gt;10 -->\n<g id=\"edge17\" class=\"edge\">\n<title>1&#45;&gt;10</title>\n<path fill=\"none\" stroke=\"#000000\" d=\"M906.8931,-165.4542C899.8396,-163.2637 892.3741,-161.2799 885.2544,-160 835.3483,-151.0284 473.9959,-165.8602 429.2544,-142 424.1674,-139.2871 419.7961,-135.1433 416.1433,-130.5966\"/>\n<polygon fill=\"#000000\" stroke=\"#000000\" points=\"418.907,-128.4393 410.3446,-122.1995 413.147,-132.417 418.907,-128.4393\"/>\n</g>\n<!-- 11 -->\n<g id=\"node12\" class=\"node\">\n<title>11</title>\n<ellipse fill=\"#2e86c1\" stroke=\"#000000\" cx=\"577.2544\" cy=\"-105\" rx=\"27\" ry=\"18\"/>\n<text text-anchor=\"middle\" x=\"577.2544\" y=\"-101.3\" font-family=\"Times,serif\" font-size=\"14.00\" fill=\"#000000\">N4</text>\n</g>\n<!-- 1&#45;&gt;11 -->\n<g id=\"edge25\" class=\"edge\">\n<title>1&#45;&gt;11</title>\n<path fill=\"none\" stroke=\"#000000\" d=\"M906.5739,-165.4977C899.6091,-163.333 892.2592,-161.3481 885.2544,-160 823.8096,-148.1748 659.1013,-172.1186 604.2544,-142 599.2881,-139.2728 594.9948,-135.1976 591.3845,-130.7359\"/>\n<polygon fill=\"#000000\" stroke=\"#000000\" points=\"594.223,-128.6874 585.6259,-122.4954 588.4851,-132.6971 594.223,-128.6874\"/>\n</g>\n<!-- 12 -->\n<g id=\"node13\" class=\"node\">\n<title>12</title>\n<ellipse fill=\"#85c1e9\" stroke=\"#000000\" cx=\"752.2544\" cy=\"-105\" rx=\"27\" ry=\"18\"/>\n<text text-anchor=\"middle\" x=\"752.2544\" y=\"-101.3\" font-family=\"Times,serif\" font-size=\"14.00\" fill=\"#000000\">N5</text>\n</g>\n<!-- 1&#45;&gt;12 -->\n<g id=\"edge33\" class=\"edge\">\n<title>1&#45;&gt;12</title>\n<path fill=\"none\" stroke=\"#000000\" d=\"M905.8604,-165.8801C899.0821,-163.7371 891.9844,-161.663 885.2544,-160 838.8642,-148.537 819.885,-167.1519 779.2544,-142 774.4369,-139.0178 770.2096,-134.8295 766.617,-130.3375\"/>\n<polygon fill=\"#000000\" stroke=\"#000000\" points=\"769.4569,-128.2912 760.8457,-122.1188 763.7282,-132.314 769.4569,-128.2912\"/>\n</g>\n<!-- 13 -->\n<g id=\"node14\" class=\"node\">\n<title>13</title>\n<ellipse fill=\"#2e86c1\" stroke=\"#000000\" cx=\"902.2544\" cy=\"-105\" rx=\"27\" ry=\"18\"/>\n<text text-anchor=\"middle\" x=\"902.2544\" y=\"-101.3\" font-family=\"Times,serif\" font-size=\"14.00\" fill=\"#000000\">N6</text>\n</g>\n<!-- 1&#45;&gt;13 -->\n<g id=\"edge41\" class=\"edge\">\n<title>1&#45;&gt;13</title>\n<path fill=\"none\" stroke=\"#000000\" d=\"M934.3553,-159.9557C932.1047,-153.8111 929.3318,-146.986 926.2544,-141 924.3762,-137.3466 922.2052,-133.6113 919.9523,-129.9957\"/>\n<polygon fill=\"#000000\" stroke=\"#000000\" points=\"922.7099,-127.818 914.3031,-121.3699 916.854,-131.6531 922.7099,-127.818\"/>\n</g>\n<!-- 14 -->\n<g id=\"node15\" class=\"node\">\n<title>14</title>\n<ellipse fill=\"#2e86c1\" stroke=\"#000000\" cx=\"1077.2544\" cy=\"-105\" rx=\"27\" ry=\"18\"/>\n<text text-anchor=\"middle\" x=\"1077.2544\" y=\"-101.3\" font-family=\"Times,serif\" font-size=\"14.00\" fill=\"#000000\">N7</text>\n</g>\n<!-- 1&#45;&gt;14 -->\n<g id=\"edge49\" class=\"edge\">\n<title>1&#45;&gt;14</title>\n<path fill=\"none\" stroke=\"#000000\" d=\"M974.6485,-165.8801C981.4267,-163.7371 988.5244,-161.663 995.2544,-160 1018.4496,-154.2685 1085.8386,-160.2542 1101.2544,-142 1105.2096,-137.3166 1104.3435,-131.9436 1101.2848,-126.7706\"/>\n<polygon fill=\"#000000\" stroke=\"#000000\" points=\"1104.0156,-124.5813 1095.0515,-118.9338 1098.5373,-128.9388 1104.0156,-124.5813\"/>\n</g>\n<!-- 15 -->\n<g id=\"node16\" class=\"node\">\n<title>15</title>\n<ellipse fill=\"#21618c\" stroke=\"#000000\" cx=\"1252.2544\" cy=\"-105\" rx=\"27\" ry=\"18\"/>\n<text text-anchor=\"middle\" x=\"1252.2544\" y=\"-101.3\" font-family=\"Times,serif\" font-size=\"14.00\" fill=\"#000000\">N8</text>\n</g>\n<!-- 1&#45;&gt;15 -->\n<g id=\"edge57\" class=\"edge\">\n<title>1&#45;&gt;15</title>\n<path fill=\"none\" stroke=\"#000000\" d=\"M973.935,-165.4977C980.8997,-163.333 988.2496,-161.3481 995.2544,-160 1025.9769,-154.0874 1254.8505,-164.8188 1276.2544,-142 1280.517,-137.4557 1279.6446,-132.0618 1276.4712,-126.8177\"/>\n<polygon fill=\"#000000\" stroke=\"#000000\" points=\"1279.0177,-124.4013 1269.9975,-118.8437 1273.5832,-128.8134 1279.0177,-124.4013\"/>\n</g>\n<!-- 16 -->\n<g id=\"node17\" class=\"node\">\n<title>16</title>\n<ellipse fill=\"#85c1e9\" stroke=\"#000000\" cx=\"1427.2544\" cy=\"-105\" rx=\"27\" ry=\"18\"/>\n<text text-anchor=\"middle\" x=\"1427.2544\" y=\"-101.3\" font-family=\"Times,serif\" font-size=\"14.00\" fill=\"#000000\">N9</text>\n</g>\n<!-- 1&#45;&gt;16 -->\n<g id=\"edge65\" class=\"edge\">\n<title>1&#45;&gt;16</title>\n<path fill=\"none\" stroke=\"#000000\" d=\"M973.6158,-165.4542C980.6693,-163.2637 988.1347,-161.2799 995.2544,-160 1020.2075,-155.5142 1433.6842,-160.2775 1451.2544,-142 1455.5724,-137.5083 1454.7202,-132.1336 1451.5485,-126.8911\"/>\n<polygon fill=\"#000000\" stroke=\"#000000\" points=\"1454.0859,-124.4637 1445.0648,-118.9076 1448.6522,-128.8767 1454.0859,-124.4637\"/>\n</g>\n<!-- 17 -->\n<g id=\"node18\" class=\"node\">\n<title>17</title>\n<ellipse fill=\"#2e86c1\" stroke=\"#000000\" cx=\"1602.2544\" cy=\"-105\" rx=\"27.0966\" ry=\"18\"/>\n<text text-anchor=\"middle\" x=\"1602.2544\" y=\"-101.3\" font-family=\"Times,serif\" font-size=\"14.00\" fill=\"#000000\">N10</text>\n</g>\n<!-- 1&#45;&gt;17 -->\n<g id=\"edge73\" class=\"edge\">\n<title>1&#45;&gt;17</title>\n<path fill=\"none\" stroke=\"#000000\" d=\"M973.6051,-165.3938C980.6594,-163.2077 988.1279,-161.241 995.2544,-160 1029.8044,-153.9838 1601.8124,-167.1492 1626.2544,-142 1630.5969,-137.5319 1629.7536,-132.1659 1626.5827,-126.9241\"/>\n<polygon fill=\"#000000\" stroke=\"#000000\" points=\"1629.1161,-124.4918 1620.0945,-118.9364 1623.6827,-128.9052 1629.1161,-124.4918\"/>\n</g>\n<!-- 2 -->\n<g id=\"node2\" class=\"node\">\n<title>2</title>\n<ellipse fill=\"none\" stroke=\"#000000\" cx=\"617.2544\" cy=\"-178\" rx=\"27\" ry=\"18\"/>\n<text text-anchor=\"middle\" x=\"617.2544\" y=\"-174.3\" font-family=\"Times,serif\" font-size=\"14.00\" fill=\"#000000\">in</text>\n</g>\n<!-- 2&#45;&gt;8 -->\n<g id=\"edge2\" class=\"edge\">\n<title>2&#45;&gt;8</title>\n<path fill=\"none\" stroke=\"#000000\" d=\"M589.9482,-177.4288C473.6492,-174.8656 24.6192,-163.5958 4.2544,-142 -10.2739,-126.5934 16.4741,-116.6607 41.775,-111.0068\"/>\n<polygon fill=\"#000000\" stroke=\"#000000\" points=\"42.5802,-114.4147 51.6741,-108.9787 41.1751,-107.5571 42.5802,-114.4147\"/>\n</g>\n<!-- 2&#45;&gt;9 -->\n<g id=\"edge10\" class=\"edge\">\n<title>2&#45;&gt;9</title>\n<path fill=\"none\" stroke=\"#000000\" d=\"M589.9988,-176.8939C492.9422,-172.8254 169.1412,-158.0892 154.2544,-142 139.8727,-126.4566 166.5984,-116.5446 191.8541,-110.933\"/>\n<polygon fill=\"#000000\" stroke=\"#000000\" points=\"192.6331,-114.3463 201.7343,-108.9225 191.2372,-107.4869 192.6331,-114.3463\"/>\n</g>\n<!-- 2&#45;&gt;10 -->\n<g id=\"edge18\" class=\"edge\">\n<title>2&#45;&gt;10</title>\n<path fill=\"none\" stroke=\"#000000\" d=\"M590.304,-176.6293C522.0224,-172.8824 346.4076,-161.4308 329.2544,-142 315.5352,-126.4591 341.1643,-116.6145 365.7473,-111.0211\"/>\n<polygon fill=\"#000000\" stroke=\"#000000\" points=\"366.6625,-114.4058 375.743,-108.9474 365.2405,-107.5517 366.6625,-114.4058\"/>\n</g>\n<!-- 2&#45;&gt;11 -->\n<g id=\"edge26\" class=\"edge\">\n<title>2&#45;&gt;11</title>\n<path fill=\"none\" stroke=\"#000000\" d=\"M591.0615,-173.325C561.0239,-167.3683 514.5819,-156.1291 504.2544,-142 492.2226,-125.5392 516.6171,-115.9066 540.3812,-110.6194\"/>\n<polygon fill=\"#000000\" stroke=\"#000000\" points=\"541.2996,-114.0051 550.4192,-108.6122 539.927,-107.141 541.2996,-114.0051\"/>\n</g>\n<!-- 2&#45;&gt;12 -->\n<g id=\"edge34\" class=\"edge\">\n<title>2&#45;&gt;12</title>\n<path fill=\"none\" stroke=\"#000000\" d=\"M638.3482,-166.5938C660.8041,-154.4509 696.541,-135.1265 721.9946,-121.3627\"/>\n<polygon fill=\"#000000\" stroke=\"#000000\" points=\"723.7317,-124.4024 730.8633,-116.5671 720.4021,-118.2449 723.7317,-124.4024\"/>\n</g>\n<!-- 2&#45;&gt;13 -->\n<g id=\"edge42\" class=\"edge\">\n<title>2&#45;&gt;13</title>\n<path fill=\"none\" stroke=\"#000000\" d=\"M638.1955,-166.4479C643.0423,-164.0806 648.2487,-161.7736 653.2544,-160 726.3424,-134.1033 815.9759,-117.8971 865.303,-110.2436\"/>\n<polygon fill=\"#000000\" stroke=\"#000000\" points=\"866.1267,-113.6587 875.4876,-108.6965 865.0754,-106.7381 866.1267,-113.6587\"/>\n</g>\n<!-- 2&#45;&gt;14 -->\n<g id=\"edge50\" class=\"edge\">\n<title>2&#45;&gt;14</title>\n<path fill=\"none\" stroke=\"#000000\" d=\"M638.0865,-166.1173C642.9389,-163.7672 648.1752,-161.5507 653.2544,-160 653.8356,-159.8226 937.5675,-123.0827 1040.5049,-109.757\"/>\n<polygon fill=\"#000000\" stroke=\"#000000\" points=\"1040.9842,-113.2242 1050.4521,-108.4693 1040.0854,-106.2821 1040.9842,-113.2242\"/>\n</g>\n<!-- 2&#45;&gt;15 -->\n<g id=\"edge58\" class=\"edge\">\n<title>2&#45;&gt;15</title>\n<path fill=\"none\" stroke=\"#000000\" d=\"M637.6502,-166.1182C642.6115,-163.707 648.0043,-161.4641 653.2544,-160 702.6461,-146.2265 1062.2581,-128.3497 1113.2544,-123 1148.0183,-119.3532 1187.5343,-114.1315 1215.5234,-110.2506\"/>\n<polygon fill=\"#000000\" stroke=\"#000000\" points=\"1216.233,-113.6855 1225.6522,-108.8349 1215.264,-106.7529 1216.233,-113.6855\"/>\n</g>\n<!-- 2&#45;&gt;16 -->\n<g id=\"edge66\" class=\"edge\">\n<title>2&#45;&gt;16</title>\n<path fill=\"none\" stroke=\"#000000\" d=\"M637.6273,-166.0341C642.5895,-163.6263 647.9885,-161.4061 653.2544,-160 721.5374,-141.7676 1217.8879,-129.5979 1288.2544,-123 1323.0564,-119.7368 1362.5677,-114.4682 1390.5455,-110.4722\"/>\n<polygon fill=\"#000000\" stroke=\"#000000\" points=\"1391.2727,-113.9036 1400.6696,-109.0099 1390.2719,-106.9755 1391.2727,-113.9036\"/>\n</g>\n<!-- 2&#45;&gt;17 -->\n<g id=\"edge74\" class=\"edge\">\n<title>2&#45;&gt;17</title>\n<path fill=\"none\" stroke=\"#000000\" d=\"M637.6146,-165.9861C642.5773,-163.5803 647.9798,-161.373 653.2544,-160 696.8487,-148.6525 1418.3787,-126.9237 1463.2544,-123 1497.9687,-119.9647 1537.3413,-114.6927 1565.2976,-110.6362\"/>\n<polygon fill=\"#000000\" stroke=\"#000000\" points=\"1566.035,-114.0654 1575.4196,-109.1482 1565.0169,-107.1399 1566.035,-114.0654\"/>\n</g>\n<!-- 3 -->\n<g id=\"node3\" class=\"node\">\n<title>3</title>\n<ellipse fill=\"none\" stroke=\"#000000\" cx=\"763.2544\" cy=\"-178\" rx=\"27\" ry=\"18\"/>\n<text text-anchor=\"middle\" x=\"763.2544\" y=\"-174.3\" font-family=\"Times,serif\" font-size=\"14.00\" fill=\"#000000\">by</text>\n</g>\n<!-- 3&#45;&gt;8 -->\n<g id=\"edge3\" class=\"edge\">\n<title>3&#45;&gt;8</title>\n<path fill=\"none\" stroke=\"#000000\" d=\"M742.9127,-165.9137C737.9493,-163.5109 732.5418,-161.3231 727.2544,-160 690.9709,-150.9208 80.3459,-168.7986 54.2544,-142 49.908,-137.5358 50.7498,-132.1711 53.9207,-126.9295\"/>\n<polygon fill=\"#000000\" stroke=\"#000000\" points=\"56.8213,-128.9098 60.4095,-118.9411 51.3879,-124.4964 56.8213,-128.9098\"/>\n</g>\n<!-- 3&#45;&gt;9 -->\n<g id=\"edge11\" class=\"edge\">\n<title>3&#45;&gt;9</title>\n<path fill=\"none\" stroke=\"#000000\" d=\"M742.9053,-165.9431C737.9422,-163.5391 732.5367,-161.3433 727.2544,-160 699.0785,-152.8347 224.4553,-162.9081 204.2544,-142 199.9252,-137.5192 200.7732,-132.1485 203.9446,-126.9063\"/>\n<polygon fill=\"#000000\" stroke=\"#000000\" points=\"206.8426,-128.8898 210.4303,-118.9209 201.409,-124.4766 206.8426,-128.8898\"/>\n</g>\n<!-- 3&#45;&gt;10 -->\n<g id=\"edge19\" class=\"edge\">\n<title>3&#45;&gt;10</title>\n<path fill=\"none\" stroke=\"#000000\" d=\"M742.8882,-166.0092C737.9257,-163.6024 732.5249,-161.3889 727.2544,-160 689.8142,-150.1337 405.916,-170.0762 379.2544,-142 375.0162,-137.5369 375.7964,-132.1726 378.8327,-126.931\"/>\n<polygon fill=\"#000000\" stroke=\"#000000\" points=\"381.6734,-128.98 385.0644,-118.9424 376.154,-124.6745 381.6734,-128.98\"/>\n</g>\n<!-- 3&#45;&gt;11 -->\n<g id=\"edge27\" class=\"edge\">\n<title>3&#45;&gt;11</title>\n<path fill=\"none\" stroke=\"#000000\" d=\"M742.8333,-166.2072C737.8731,-163.7923 732.487,-161.5254 727.2544,-160 690.1471,-149.1824 580.1327,-170.7105 554.2544,-142 550.2966,-137.6091 550.8992,-132.4506 553.6465,-127.4024\"/>\n<polygon fill=\"#000000\" stroke=\"#000000\" points=\"556.6335,-129.2549 559.8684,-119.166 551.048,-125.0356 556.6335,-129.2549\"/>\n</g>\n<!-- 3&#45;&gt;12 -->\n<g id=\"edge35\" class=\"edge\">\n<title>3&#45;&gt;12</title>\n<path fill=\"none\" stroke=\"#000000\" d=\"M745.3823,-164.1268C739.029,-158.0955 732.6211,-150.4679 729.2544,-142 727.3962,-137.3261 728.0554,-132.5837 730.0495,-128.1239\"/>\n<polygon fill=\"#000000\" stroke=\"#000000\" points=\"733.1486,-129.7767 735.6387,-119.4786 727.2702,-125.9762 733.1486,-129.7767\"/>\n</g>\n<!-- 3&#45;&gt;13 -->\n<g id=\"edge43\" class=\"edge\">\n<title>3&#45;&gt;13</title>\n<path fill=\"none\" stroke=\"#000000\" d=\"M784.2117,-166.4933C789.0577,-164.1237 794.2597,-161.8043 799.2544,-160 832.3088,-148.0597 847.1286,-161.6684 876.2544,-142 880.6951,-139.0013 884.6159,-134.9717 887.9785,-130.674\"/>\n<polygon fill=\"#000000\" stroke=\"#000000\" points=\"890.968,-132.5036 893.7467,-122.2796 885.1987,-128.5392 890.968,-132.5036\"/>\n</g>\n<!-- 3&#45;&gt;14 -->\n<g id=\"edge51\" class=\"edge\">\n<title>3&#45;&gt;14</title>\n<path fill=\"none\" stroke=\"#000000\" d=\"M783.6408,-166.0841C788.6024,-163.6743 793.9978,-161.4405 799.2544,-160 853.4007,-145.1615 1002.3879,-169.6416 1051.2544,-142 1056.0016,-139.3148 1060.0869,-135.3623 1063.52,-131.028\"/>\n<polygon fill=\"#000000\" stroke=\"#000000\" points=\"1066.6152,-132.6992 1069.3207,-122.4556 1060.8177,-128.7762 1066.6152,-132.6992\"/>\n</g>\n<!-- 3&#45;&gt;15 -->\n<g id=\"edge59\" class=\"edge\">\n<title>3&#45;&gt;15</title>\n<path fill=\"none\" stroke=\"#000000\" d=\"M783.6111,-165.9727C788.574,-163.5674 793.9774,-161.3637 799.2544,-160 845.2306,-148.1188 1184.5855,-164.7744 1226.2544,-142 1231.0402,-139.3843 1235.1433,-135.4636 1238.5816,-131.1388\"/>\n<polygon fill=\"#000000\" stroke=\"#000000\" points=\"1241.6792,-132.806 1244.3793,-122.561 1235.8797,-128.8861 1241.6792,-132.806\"/>\n</g>\n<!-- 3&#45;&gt;16 -->\n<g id=\"edge67\" class=\"edge\">\n<title>3&#45;&gt;16</title>\n<path fill=\"none\" stroke=\"#000000\" d=\"M783.5992,-165.9258C788.5625,-163.5225 793.9691,-161.3314 799.2544,-160 864.146,-143.6536 1342.3386,-173.7341 1401.2544,-142 1406.0562,-139.4136 1410.1664,-135.5064 1413.607,-131.1855\"/>\n<polygon fill=\"#000000\" stroke=\"#000000\" points=\"1416.7056,-132.851 1419.4034,-122.6054 1410.9052,-128.9324 1416.7056,-132.851\"/>\n</g>\n<!-- 3&#45;&gt;17 -->\n<g id=\"edge75\" class=\"edge\">\n<title>3&#45;&gt;17</title>\n<path fill=\"none\" stroke=\"#000000\" d=\"M783.5927,-165.9C788.5563,-163.4977 793.9647,-161.3136 799.2544,-160 841.1599,-149.5937 1538.1713,-162.3479 1576.2544,-142 1581.0648,-139.4298 1585.1791,-135.5299 1588.6208,-131.2113\"/>\n<polygon fill=\"#000000\" stroke=\"#000000\" points=\"1591.72,-132.8759 1594.4166,-122.6299 1585.9191,-128.958 1591.72,-132.8759\"/>\n</g>\n<!-- 4 -->\n<g id=\"node4\" class=\"node\">\n<title>4</title>\n<ellipse fill=\"none\" stroke=\"#000000\" cx=\"1031.2544\" cy=\"-178\" rx=\"27\" ry=\"18\"/>\n<text text-anchor=\"middle\" x=\"1031.2544\" y=\"-174.3\" font-family=\"Times,serif\" font-size=\"14.00\" fill=\"#000000\">br</text>\n</g>\n<!-- 4&#45;&gt;8 -->\n<g id=\"edge4\" class=\"edge\">\n<title>4&#45;&gt;8</title>\n<path fill=\"none\" stroke=\"#000000\" d=\"M1010.8938,-165.9876C1005.9312,-163.5818 1000.5288,-161.374 995.2544,-160 908.8223,-137.4835 281.1132,-132.0344 192.2544,-123 166.0972,-120.3406 136.8036,-115.6783 114.4612,-111.7651\"/>\n<polygon fill=\"#000000\" stroke=\"#000000\" points=\"114.8682,-108.2825 104.4091,-109.9731 113.6396,-115.1739 114.8682,-108.2825\"/>\n</g>\n<!-- 4&#45;&gt;9 -->\n<g id=\"edge12\" class=\"edge\">\n<title>4&#45;&gt;9</title>\n<path fill=\"none\" stroke=\"#000000\" d=\"M1010.881,-166.0362C1005.9189,-163.6284 1000.52,-161.4075 995.2544,-160 927.6194,-141.9206 435.9536,-129.5872 366.2544,-123 331.7011,-119.7344 292.4743,-114.4661 264.6983,-110.4708\"/>\n<polygon fill=\"#000000\" stroke=\"#000000\" points=\"265.0469,-106.9848 254.6472,-109.0088 264.0392,-113.9119 265.0469,-106.9848\"/>\n</g>\n<!-- 4&#45;&gt;10 -->\n<g id=\"edge20\" class=\"edge\">\n<title>4&#45;&gt;10</title>\n<path fill=\"none\" stroke=\"#000000\" d=\"M1010.8575,-166.1222C1005.8963,-163.7108 1000.5038,-161.4668 995.2544,-160 946.51,-146.3792 591.5871,-128.3069 541.2544,-123 506.4925,-119.3348 466.9763,-114.1154 438.9866,-110.2399\"/>\n<polygon fill=\"#000000\" stroke=\"#000000\" points=\"439.2453,-106.7422 428.8575,-108.8265 438.2778,-113.675 439.2453,-106.7422\"/>\n</g>\n<!-- 4&#45;&gt;11 -->\n<g id=\"edge28\" class=\"edge\">\n<title>4&#45;&gt;11</title>\n<path fill=\"none\" stroke=\"#000000\" d=\"M1010.4202,-166.1242C1005.5679,-163.7737 1000.3322,-161.5554 995.2544,-160 990.6866,-158.6008 715.3439,-122.8757 614.0923,-109.7659\"/>\n<polygon fill=\"#000000\" stroke=\"#000000\" points=\"614.383,-106.2744 604.0164,-108.4615 613.4843,-113.2165 614.383,-106.2744\"/>\n</g>\n<!-- 4&#45;&gt;12 -->\n<g id=\"edge36\" class=\"edge\">\n<title>4&#45;&gt;12</title>\n<path fill=\"none\" stroke=\"#000000\" d=\"M1010.3065,-166.4672C1005.4601,-164.0989 1000.2555,-161.7866 995.2544,-160 924.1004,-134.5804 836.9084,-118.2427 788.6953,-110.4284\"/>\n<polygon fill=\"#000000\" stroke=\"#000000\" points=\"789.159,-106.9582 778.7337,-108.8457 788.0606,-113.8715 789.159,-106.9582\"/>\n</g>\n<!-- 4&#45;&gt;13 -->\n<g id=\"edge44\" class=\"edge\">\n<title>4&#45;&gt;13</title>\n<path fill=\"none\" stroke=\"#000000\" d=\"M1010.5284,-166.2713C989.1825,-154.1919 955.726,-135.2591 931.6516,-121.6356\"/>\n<polygon fill=\"#000000\" stroke=\"#000000\" points=\"933.356,-118.5786 922.9291,-116.6996 929.9084,-124.6708 933.356,-118.5786\"/>\n</g>\n<!-- 4&#45;&gt;14 -->\n<g id=\"edge52\" class=\"edge\">\n<title>4&#45;&gt;14</title>\n<path fill=\"none\" stroke=\"#000000\" d=\"M1056.9905,-171.7584C1082.2505,-165.0499 1118.1373,-153.7564 1126.2544,-142 1133.3213,-131.7648 1123.7672,-123.1734 1111.2752,-116.8536\"/>\n<polygon fill=\"#000000\" stroke=\"#000000\" points=\"1112.4147,-113.5298 1101.8555,-112.6622 1109.569,-119.9253 1112.4147,-113.5298\"/>\n</g>\n<!-- 4&#45;&gt;15 -->\n<g id=\"edge60\" class=\"edge\">\n<title>4&#45;&gt;15</title>\n<path fill=\"none\" stroke=\"#000000\" d=\"M1055.8415,-170.2934C1068.4119,-166.6356 1084.023,-162.5228 1098.2544,-160 1120.5509,-156.0475 1285.9661,-158.7039 1301.2544,-142 1309.9089,-132.5442 1299.6214,-123.8079 1286.2774,-117.2015\"/>\n<polygon fill=\"#000000\" stroke=\"#000000\" points=\"1287.3074,-113.83 1276.7463,-112.9855 1284.4756,-120.2317 1287.3074,-113.83\"/>\n</g>\n<!-- 4&#45;&gt;16 -->\n<g id=\"edge68\" class=\"edge\">\n<title>4&#45;&gt;16</title>\n<path fill=\"none\" stroke=\"#000000\" d=\"M1055.8004,-170.0468C1068.3603,-166.3262 1083.9745,-162.2316 1098.2544,-160 1139.7978,-153.5078 1447.238,-172.431 1476.2544,-142 1485.2456,-132.5705 1474.4813,-123.7108 1460.7763,-117.0263\"/>\n<polygon fill=\"#000000\" stroke=\"#000000\" points=\"1462.087,-113.7793 1451.5237,-112.9636 1459.2728,-120.1887 1462.087,-113.7793\"/>\n</g>\n<!-- 4&#45;&gt;17 -->\n<g id=\"edge76\" class=\"edge\">\n<title>4&#45;&gt;17</title>\n<path fill=\"none\" stroke=\"#000000\" d=\"M1055.7865,-169.9558C1068.3429,-166.212 1083.9581,-162.1241 1098.2544,-160 1128.6592,-155.4825 1629.8755,-164.0861 1651.2544,-142 1660.2555,-132.7012 1649.6987,-123.9007 1636.1101,-117.2171\"/>\n<polygon fill=\"#000000\" stroke=\"#000000\" points=\"1637.4785,-113.9953 1626.9177,-113.1468 1634.6443,-120.3959 1637.4785,-113.9953\"/>\n</g>\n<!-- 5 -->\n<g id=\"node5\" class=\"node\">\n<title>5</title>\n<ellipse fill=\"none\" stroke=\"#000000\" cx=\"1134.2544\" cy=\"-178\" rx=\"27\" ry=\"18\"/>\n<text text-anchor=\"middle\" x=\"1134.2544\" y=\"-174.3\" font-family=\"Times,serif\" font-size=\"14.00\" fill=\"#000000\">like</text>\n</g>\n<!-- 5&#45;&gt;8 -->\n<g id=\"edge5\" class=\"edge\">\n<title>5&#45;&gt;8</title>\n<path fill=\"none\" stroke=\"#000000\" d=\"M1109.7134,-170.0146C1097.1548,-166.2858 1081.5403,-162.1936 1067.2544,-160 971.0726,-145.2313 289.0829,-132.6596 192.2544,-123 166.0922,-120.39 136.7987,-115.7265 114.4576,-111.8003\"/>\n<polygon fill=\"#000000\" stroke=\"#000000\" points=\"114.8664,-108.318 104.4062,-110.0015 113.6332,-115.2085 114.8664,-108.318\"/>\n</g>\n<!-- 5&#45;&gt;9 -->\n<g id=\"edge13\" class=\"edge\">\n<title>5&#45;&gt;9</title>\n<path fill=\"none\" stroke=\"#000000\" d=\"M1109.7036,-170.0779C1097.1424,-166.3652 1081.5286,-162.2684 1067.2544,-160 913.193,-135.5175 521.6005,-137.2097 366.2544,-123 331.6914,-119.8385 292.4658,-114.5574 264.6927,-110.531\"/>\n<polygon fill=\"#000000\" stroke=\"#000000\" points=\"265.045,-107.0453 254.6428,-109.0563 264.0287,-113.9711 265.045,-107.0453\"/>\n</g>\n<!-- 5&#45;&gt;10 -->\n<g id=\"edge21\" class=\"edge\">\n<title>5&#45;&gt;10</title>\n<path fill=\"none\" stroke=\"#000000\" d=\"M1109.6863,-170.1836C1097.1208,-166.4978 1081.5082,-162.3931 1067.2544,-160 836.1338,-121.1962 774.4507,-146.2806 541.2544,-123 506.4727,-119.5276 466.9589,-114.2846 438.9751,-110.3514\"/>\n<polygon fill=\"#000000\" stroke=\"#000000\" points=\"439.2411,-106.8541 428.8485,-108.9145 438.2576,-113.7847 439.2411,-106.8541\"/>\n</g>\n<!-- 5&#45;&gt;11 -->\n<g id=\"edge29\" class=\"edge\">\n<title>5&#45;&gt;11</title>\n<path fill=\"none\" stroke=\"#000000\" d=\"M1109.6492,-170.3932C1097.0742,-166.7609 1081.4644,-162.6408 1067.2544,-160 913.0306,-131.3393 872.0481,-141.2961 716.2544,-123 681.5384,-118.923 642.0166,-113.7539 614.0131,-110.002\"/>\n<polygon fill=\"#000000\" stroke=\"#000000\" points=\"614.2558,-106.5032 603.8785,-108.6387 613.3225,-113.4407 614.2558,-106.5032\"/>\n</g>\n<!-- 5&#45;&gt;12 -->\n<g id=\"edge37\" class=\"edge\">\n<title>5&#45;&gt;12</title>\n<path fill=\"none\" stroke=\"#000000\" d=\"M1109.2509,-170.7116C1096.7104,-167.2022 1081.2491,-163.0951 1067.2544,-160 1014.5361,-148.3406 860.0718,-122.6462 788.9152,-110.9763\"/>\n<polygon fill=\"#000000\" stroke=\"#000000\" points=\"789.0747,-107.4559 778.6405,-109.2938 787.9434,-114.3639 789.0747,-107.4559\"/>\n</g>\n<!-- 5&#45;&gt;13 -->\n<g id=\"edge45\" class=\"edge\">\n<title>5&#45;&gt;13</title>\n<path fill=\"none\" stroke=\"#000000\" d=\"M1109.4264,-170.1877C1067.8254,-157.0978 983.9619,-130.7097 936.688,-115.8347\"/>\n<polygon fill=\"#000000\" stroke=\"#000000\" points=\"937.4935,-112.419 926.904,-112.7561 935.3924,-119.0963 937.4935,-112.419\"/>\n</g>\n<!-- 5&#45;&gt;14 -->\n<g id=\"edge53\" class=\"edge\">\n<title>5&#45;&gt;14</title>\n<path fill=\"none\" stroke=\"#000000\" d=\"M1158.325,-169.3566C1173.0035,-162.6838 1187.4912,-152.6419 1179.2544,-141 1171.3549,-129.8349 1139.4214,-119.7203 1113.3622,-113.0755\"/>\n<polygon fill=\"#000000\" stroke=\"#000000\" points=\"1113.9115,-109.6064 1103.3651,-110.6185 1112.2407,-116.4041 1113.9115,-109.6064\"/>\n</g>\n<!-- 5&#45;&gt;15 -->\n<g id=\"edge61\" class=\"edge\">\n<title>5&#45;&gt;15</title>\n<path fill=\"none\" stroke=\"#000000\" d=\"M1154.4988,-165.7315C1165.9031,-158.7992 1180.3967,-149.954 1193.2544,-142 1203.331,-135.7665 1214.3389,-128.8833 1224.0884,-122.7614\"/>\n<polygon fill=\"#000000\" stroke=\"#000000\" points=\"1226.0227,-125.6796 1232.6254,-117.3937 1222.2967,-119.7536 1226.0227,-125.6796\"/>\n</g>\n<!-- 5&#45;&gt;16 -->\n<g id=\"edge69\" class=\"edge\">\n<title>5&#45;&gt;16</title>\n<path fill=\"none\" stroke=\"#000000\" d=\"M1159.7437,-171.6494C1212.1263,-158.5985 1331.9742,-128.7388 1391.8505,-113.8208\"/>\n<polygon fill=\"#000000\" stroke=\"#000000\" points=\"1392.7583,-117.2017 1401.6155,-111.3879 1391.0659,-110.4093 1392.7583,-117.2017\"/>\n</g>\n<!-- 5&#45;&gt;17 -->\n<g id=\"edge77\" class=\"edge\">\n<title>5&#45;&gt;17</title>\n<path fill=\"none\" stroke=\"#000000\" d=\"M1160.7571,-173.866C1239.8069,-161.5356 1474.0941,-124.9908 1565.318,-110.7615\"/>\n<polygon fill=\"#000000\" stroke=\"#000000\" points=\"1566.1213,-114.1786 1575.4624,-109.1791 1565.0424,-107.2622 1566.1213,-114.1786\"/>\n</g>\n<!-- 6 -->\n<g id=\"node6\" class=\"node\">\n<title>6</title>\n<ellipse fill=\"none\" stroke=\"#000000\" cx=\"842.2544\" cy=\"-178\" rx=\"33.5952\" ry=\"18\"/>\n<text text-anchor=\"middle\" x=\"842.2544\" y=\"-174.3\" font-family=\"Times,serif\" font-size=\"14.00\" fill=\"#000000\">verma</text>\n</g>\n<!-- 6&#45;&gt;8 -->\n<g id=\"edge6\" class=\"edge\">\n<title>6&#45;&gt;8</title>\n<path fill=\"none\" stroke=\"#000000\" d=\"M817.2942,-165.7254C811.5023,-163.3955 805.269,-161.2865 799.2544,-160 760.127,-151.6309 107.5762,-170.2644 79.2544,-142 76.7983,-139.5488 75.3338,-136.4854 74.552,-133.1772\"/>\n<polygon fill=\"#000000\" stroke=\"#000000\" points=\"78.0278,-132.6617 73.9452,-122.8851 71.0399,-133.0738 78.0278,-132.6617\"/>\n</g>\n<!-- 6&#45;&gt;9 -->\n<g id=\"edge14\" class=\"edge\">\n<title>6&#45;&gt;9</title>\n<path fill=\"none\" stroke=\"#000000\" d=\"M817.2879,-165.7547C811.4963,-163.4233 805.2648,-161.3062 799.2544,-160 768.2947,-153.2714 251.6063,-164.4538 229.2544,-142 226.8063,-139.5408 225.3466,-136.4727 224.567,-133.1621\"/>\n<polygon fill=\"#000000\" stroke=\"#000000\" points=\"228.0428,-132.6461 223.9613,-122.869 221.0549,-133.0573 228.0428,-132.6461\"/>\n</g>\n<!-- 6&#45;&gt;10 -->\n<g id=\"edge22\" class=\"edge\">\n<title>6&#45;&gt;10</title>\n<path fill=\"none\" stroke=\"#000000\" d=\"M817.2741,-165.8169C811.4832,-163.4823 805.2555,-161.3482 799.2544,-160 756.3884,-150.3698 435.452,-172.9346 404.2544,-142 401.7106,-139.4776 400.1789,-136.3018 399.3393,-132.8762\"/>\n<polygon fill=\"#000000\" stroke=\"#000000\" points=\"402.8272,-132.5844 398.5402,-122.8956 395.8495,-133.1431 402.8272,-132.5844\"/>\n</g>\n<!-- 6&#45;&gt;11 -->\n<g id=\"edge30\" class=\"edge\">\n<title>6&#45;&gt;11</title>\n<path fill=\"none\" stroke=\"#000000\" d=\"M816.7787,-165.7926C811.1206,-163.5202 805.0729,-161.418 799.2544,-160 775.4257,-154.193 596.3557,-159.5806 579.2544,-142 576.8771,-139.556 575.3984,-136.5382 574.5482,-133.2887\"/>\n<polygon fill=\"#000000\" stroke=\"#000000\" points=\"578.0201,-132.8227 573.6126,-123.1882 571.0499,-133.4684 578.0201,-132.8227\"/>\n</g>\n<!-- 6&#45;&gt;12 -->\n<g id=\"edge38\" class=\"edge\">\n<title>6&#45;&gt;12</title>\n<path fill=\"none\" stroke=\"#000000\" d=\"M815.4445,-166.6997C810.0881,-164.4639 804.4974,-162.1458 799.2544,-160 779.3188,-151.8409 766.8079,-159.5046 754.2544,-142 752.4022,-139.4172 751.1904,-136.4532 750.4408,-133.3514\"/>\n<polygon fill=\"#000000\" stroke=\"#000000\" points=\"753.9088,-132.8596 749.4035,-123.2704 746.9456,-133.5762 753.9088,-132.8596\"/>\n</g>\n<!-- 6&#45;&gt;13 -->\n<g id=\"edge46\" class=\"edge\">\n<title>6&#45;&gt;13</title>\n<path fill=\"none\" stroke=\"#000000\" d=\"M870.5549,-167.8337C882.1668,-162.1225 894.4587,-153.7332 901.2544,-142 902.8456,-139.2527 903.8599,-136.1877 904.4607,-133.03\"/>\n<polygon fill=\"#000000\" stroke=\"#000000\" points=\"907.9627,-133.122 905.1705,-122.9017 900.9798,-132.6325 907.9627,-133.122\"/>\n</g>\n<!-- 6&#45;&gt;14 -->\n<g id=\"edge54\" class=\"edge\">\n<title>6&#45;&gt;14</title>\n<path fill=\"none\" stroke=\"#000000\" d=\"M867.7436,-165.847C873.4009,-163.5711 879.4448,-161.4538 885.2544,-160 926.6117,-149.6508 1047.1344,-173.1377 1076.2544,-142 1078.5807,-139.5125 1079.9867,-136.4691 1080.7536,-133.2066\"/>\n<polygon fill=\"#000000\" stroke=\"#000000\" points=\"1084.2545,-133.3068 1081.4188,-123.0985 1077.2696,-132.8471 1084.2545,-133.3068\"/>\n</g>\n<!-- 6&#45;&gt;15 -->\n<g id=\"edge62\" class=\"edge\">\n<title>6&#45;&gt;15</title>\n<path fill=\"none\" stroke=\"#000000\" d=\"M867.2383,-165.8329C873.0291,-163.4975 879.2558,-161.359 885.2544,-160 924.9639,-151.0037 1222.7842,-171.1071 1251.2544,-142 1253.6808,-139.5193 1255.1281,-136.4389 1255.9013,-133.1221\"/>\n<polygon fill=\"#000000\" stroke=\"#000000\" points=\"1259.4136,-133.0135 1256.504,-122.826 1252.4255,-132.6044 1259.4136,-133.0135\"/>\n</g>\n<!-- 6&#45;&gt;16 -->\n<g id=\"edge70\" class=\"edge\">\n<title>6&#45;&gt;16</title>\n<path fill=\"none\" stroke=\"#000000\" d=\"M867.2226,-165.7622C873.0142,-163.4305 879.2452,-161.3113 885.2544,-160 914.6352,-153.5886 1405.0566,-163.3305 1426.2544,-142 1428.7004,-139.5387 1430.159,-136.4694 1430.9379,-133.1582\"/>\n<polygon fill=\"#000000\" stroke=\"#000000\" points=\"1434.4501,-133.0531 1431.5434,-122.8648 1427.4622,-132.642 1434.4501,-133.0531\"/>\n</g>\n<!-- 6&#45;&gt;17 -->\n<g id=\"edge78\" class=\"edge\">\n<title>6&#45;&gt;17</title>\n<path fill=\"none\" stroke=\"#000000\" d=\"M867.2148,-165.726C873.0067,-163.3961 879.2399,-161.2869 885.2544,-160 924.1641,-151.6747 1573.0919,-170.1095 1601.2544,-142 1603.7104,-139.5486 1605.1748,-136.4852 1605.9566,-133.1768\"/>\n<polygon fill=\"#000000\" stroke=\"#000000\" points=\"1609.4687,-133.0735 1606.5634,-122.8848 1602.4808,-132.6614 1609.4687,-133.0735\"/>\n</g>\n<!-- 7 -->\n<g id=\"node7\" class=\"node\">\n<title>7</title>\n<ellipse fill=\"none\" stroke=\"#000000\" cx=\"690.2544\" cy=\"-178\" rx=\"27.8951\" ry=\"18\"/>\n<text text-anchor=\"middle\" x=\"690.2544\" y=\"-174.3\" font-family=\"Times,serif\" font-size=\"14.00\" fill=\"#000000\">.......</text>\n</g>\n<!-- 7&#45;&gt;8 -->\n<g id=\"edge7\" class=\"edge\">\n<title>7&#45;&gt;8</title>\n<path fill=\"none\" stroke=\"#000000\" d=\"M669.3141,-165.9221C664.2141,-163.5189 658.6655,-161.3288 653.2544,-160 619.5741,-151.729 53.4215,-166.8743 29.2544,-142 20.1753,-132.6552 30.9356,-123.7993 44.6605,-117.0957\"/>\n<polygon fill=\"#000000\" stroke=\"#000000\" points=\"46.1853,-120.2486 53.929,-113.0177 43.3662,-113.8414 46.1853,-120.2486\"/>\n</g>\n<!-- 7&#45;&gt;9 -->\n<g id=\"edge15\" class=\"edge\">\n<title>7&#45;&gt;9</title>\n<path fill=\"none\" stroke=\"#000000\" d=\"M669.3052,-165.9578C664.2056,-163.5532 658.6594,-161.3535 653.2544,-160 627.6914,-153.5987 197.5314,-160.9842 179.2544,-142 170.218,-132.6139 180.9802,-123.7561 194.6954,-117.0619\"/>\n<polygon fill=\"#000000\" stroke=\"#000000\" points=\"196.2099,-120.2194 203.9563,-112.9914 193.3932,-113.8111 196.2099,-120.2194\"/>\n</g>\n<!-- 7&#45;&gt;10 -->\n<g id=\"edge23\" class=\"edge\">\n<title>7&#45;&gt;10</title>\n<path fill=\"none\" stroke=\"#000000\" d=\"M669.283,-166.0446C664.1843,-163.6364 658.6441,-161.4133 653.2544,-160 621.0605,-151.5579 377.0706,-166.231 354.2544,-142 345.5808,-132.7885 355.6465,-124.067 368.7606,-117.4076\"/>\n<polygon fill=\"#000000\" stroke=\"#000000\" points=\"370.4791,-120.4711 378.1338,-113.146 367.5819,-114.0988 370.4791,-120.4711\"/>\n</g>\n<!-- 7&#45;&gt;11 -->\n<g id=\"edge31\" class=\"edge\">\n<title>7&#45;&gt;11</title>\n<path fill=\"none\" stroke=\"#000000\" d=\"M668.7972,-166.1851C663.8124,-163.8314 658.4434,-161.5964 653.2544,-160 626.6411,-151.8122 547.4744,-163.0557 529.2544,-142 521.0313,-132.497 530.9294,-123.8074 543.8297,-117.2409\"/>\n<polygon fill=\"#000000\" stroke=\"#000000\" points=\"545.3977,-120.3728 553.0546,-113.05 542.5024,-113.9997 545.3977,-120.3728\"/>\n</g>\n<!-- 7&#45;&gt;12 -->\n<g id=\"edge39\" class=\"edge\">\n<title>7&#45;&gt;12</title>\n<path fill=\"none\" stroke=\"#000000\" d=\"M703.7075,-162.1601C712.0758,-152.3071 722.9878,-139.4591 732.3463,-128.4402\"/>\n<polygon fill=\"#000000\" stroke=\"#000000\" points=\"735.0218,-130.6967 738.8276,-120.809 729.6864,-126.1653 735.0218,-130.6967\"/>\n</g>\n<!-- 7&#45;&gt;13 -->\n<g id=\"edge47\" class=\"edge\">\n<title>7&#45;&gt;13</title>\n<path fill=\"none\" stroke=\"#000000\" d=\"M711.7116,-166.1851C716.6965,-163.8314 722.0655,-161.5964 727.2544,-160 780.4811,-143.6245 799.6609,-162.9604 851.2544,-142 860.7317,-138.1497 870.0905,-132.1751 878.1526,-126.142\"/>\n<polygon fill=\"#000000\" stroke=\"#000000\" points=\"880.3544,-128.8631 886.0355,-119.9202 876.0175,-123.3684 880.3544,-128.8631\"/>\n</g>\n<!-- 7&#45;&gt;14 -->\n<g id=\"edge55\" class=\"edge\">\n<title>7&#45;&gt;14</title>\n<path fill=\"none\" stroke=\"#000000\" d=\"M711.2259,-166.0446C716.3246,-163.6364 721.8648,-161.4133 727.2544,-160 856.03,-126.2315 900.9192,-186.8834 1026.2544,-142 1036.038,-138.4964 1045.5835,-132.4979 1053.7204,-126.3386\"/>\n<polygon fill=\"#000000\" stroke=\"#000000\" points=\"1056.0481,-128.9579 1061.6409,-119.9596 1051.6573,-123.5062 1056.0481,-128.9579\"/>\n</g>\n<!-- 7&#45;&gt;15 -->\n<g id=\"edge63\" class=\"edge\">\n<title>7&#45;&gt;15</title>\n<path fill=\"none\" stroke=\"#000000\" d=\"M711.2037,-165.9578C716.3033,-163.5532 721.8495,-161.3535 727.2544,-160 829.5065,-134.3947 1101.6286,-176.4355 1201.2544,-142 1211.0762,-138.6051 1220.6316,-132.6346 1228.7658,-126.4675\"/>\n<polygon fill=\"#000000\" stroke=\"#000000\" points=\"1231.1036,-129.0783 1236.6796,-120.0694 1226.7027,-123.6347 1231.1036,-129.0783\"/>\n</g>\n<!-- 7&#45;&gt;16 -->\n<g id=\"edge71\" class=\"edge\">\n<title>7&#45;&gt;16</title>\n<path fill=\"none\" stroke=\"#000000\" d=\"M711.1937,-165.9177C716.2937,-163.5147 721.8426,-161.3258 727.2544,-160 867.3881,-125.6693 1239.6535,-188.4352 1376.2544,-142 1386.0934,-138.6554 1395.6533,-132.6978 1403.7862,-126.5272\"/>\n<polygon fill=\"#000000\" stroke=\"#000000\" points=\"1406.1288,-129.1339 1411.697,-120.1202 1401.7232,-123.6942 1406.1288,-129.1339\"/>\n</g>\n<!-- 7&#45;&gt;17 -->\n<g id=\"edge79\" class=\"edge\">\n<title>7&#45;&gt;17</title>\n<path fill=\"none\" stroke=\"#000000\" d=\"M711.1881,-165.8946C716.2883,-163.4926 721.8387,-161.3099 727.2544,-160 816.2653,-138.4712 1464.4633,-171.2185 1551.2544,-142 1561.1032,-138.6844 1570.6656,-132.7343 1578.7979,-126.5616\"/>\n<polygon fill=\"#000000\" stroke=\"#000000\" points=\"1581.1432,-129.1659 1586.7069,-120.1495 1576.7348,-123.7284 1581.1432,-129.1659\"/>\n</g>\n<!-- o -->\n<g id=\"node8\" class=\"node\">\n<title>o</title>\n<ellipse fill=\"#ae4949\" stroke=\"#000000\" cx=\"827.2544\" cy=\"-18\" rx=\"77.9862\" ry=\"18\"/>\n<text text-anchor=\"middle\" x=\"827.2544\" y=\"-14.3\" font-family=\"Times,serif\" font-size=\"14.00\" fill=\"#000000\">Output &#45; Negative</text>\n</g>\n<!-- 8&#45;&gt;o -->\n<g id=\"edge8\" class=\"edge\">\n<title>8&#45;&gt;o</title>\n<path fill=\"none\" stroke=\"#ffcc99\" d=\"M104.4961,-100.7217C127.5891,-96.989 162.1303,-91.484 192.2544,-87 297.0096,-71.4071 323.038,-66.0955 428.2544,-54 536.5946,-41.5454 661.8989,-30.8425 742.7458,-24.4176\"/>\n<polygon fill=\"#ffcc99\" stroke=\"#ffcc99\" points=\"743.1776,-27.8945 752.8705,-23.6169 742.6256,-20.9163 743.1776,-27.8945\"/>\n<text text-anchor=\"middle\" x=\"441.7544\" y=\"-57.8\" font-family=\"Times,serif\" font-size=\"14.00\" fill=\"#000000\">0.94</text>\n</g>\n<!-- 9&#45;&gt;o -->\n<g id=\"edge16\" class=\"edge\">\n<title>9&#45;&gt;o</title>\n<path fill=\"none\" stroke=\"#ff9999\" d=\"M254.8293,-100.7267C310.9869,-91.7359 445.8844,-70.3468 559.2544,-54 622.9861,-44.8106 695.3579,-35.1339 748.8164,-28.1301\"/>\n<polygon fill=\"#ff9999\" stroke=\"#ff9999\" points=\"749.4478,-31.5775 758.9094,-26.8101 748.5399,-24.6366 749.4478,-31.5775\"/>\n<text text-anchor=\"middle\" x=\"572.7544\" y=\"-57.8\" font-family=\"Times,serif\" font-size=\"14.00\" fill=\"#000000\">1.07</text>\n</g>\n<!-- 10&#45;&gt;o -->\n<g id=\"edge24\" class=\"edge\">\n<title>10&#45;&gt;o</title>\n<path fill=\"none\" stroke=\"#ff6600\" d=\"M428.2003,-99.6887C492.8645,-86.4516 662.8729,-51.6499 758.8215,-32.0086\"/>\n<polygon fill=\"#ff6600\" stroke=\"#ff6600\" points=\"759.627,-35.4164 768.7219,-29.982 758.2231,-28.5586 759.627,-35.4164\"/>\n<text text-anchor=\"middle\" x=\"653.7544\" y=\"-57.8\" font-family=\"Times,serif\" font-size=\"14.00\" fill=\"#000000\">2.50</text>\n</g>\n<!-- 11&#45;&gt;o -->\n<g id=\"edge32\" class=\"edge\">\n<title>11&#45;&gt;o</title>\n<path fill=\"none\" stroke=\"#ff9999\" d=\"M601.2255,-96.6581C640.8034,-82.885 720.741,-55.0667 774.149,-36.4807\"/>\n<polygon fill=\"#ff9999\" stroke=\"#ff9999\" points=\"775.5029,-39.7155 783.797,-33.1232 773.2022,-33.1044 775.5029,-39.7155\"/>\n<text text-anchor=\"middle\" x=\"730.7544\" y=\"-57.8\" font-family=\"Times,serif\" font-size=\"14.00\" fill=\"#000000\">1.06</text>\n</g>\n<!-- 12&#45;&gt;o -->\n<g id=\"edge40\" class=\"edge\">\n<title>12&#45;&gt;o</title>\n<path fill=\"none\" stroke=\"#ffcc99\" d=\"M766.0106,-89.0429C776.929,-76.3775 792.4095,-58.4202 805.0745,-43.7288\"/>\n<polygon fill=\"#ffcc99\" stroke=\"#ffcc99\" points=\"807.8956,-45.8166 811.7741,-35.9572 802.5937,-41.246 807.8956,-45.8166\"/>\n<text text-anchor=\"middle\" x=\"807.7544\" y=\"-57.8\" font-family=\"Times,serif\" font-size=\"14.00\" fill=\"#000000\">0.83</text>\n</g>\n<!-- 13&#45;&gt;o -->\n<g id=\"edge48\" class=\"edge\">\n<title>13&#45;&gt;o</title>\n<path fill=\"none\" stroke=\"#ff9999\" d=\"M888.4983,-89.0429C877.5798,-76.3775 862.0994,-58.4202 849.4344,-43.7288\"/>\n<polygon fill=\"#ff9999\" stroke=\"#ff9999\" points=\"851.9152,-41.246 842.7348,-35.9572 846.6133,-45.8166 851.9152,-41.246\"/>\n<text text-anchor=\"middle\" x=\"882.7544\" y=\"-57.8\" font-family=\"Times,serif\" font-size=\"14.00\" fill=\"#000000\">1.29</text>\n</g>\n<!-- 14&#45;&gt;o -->\n<g id=\"edge56\" class=\"edge\">\n<title>14&#45;&gt;o</title>\n<path fill=\"none\" stroke=\"#ff9999\" d=\"M1053.2834,-96.6581C1013.7055,-82.885 933.7678,-55.0667 880.3598,-36.4807\"/>\n<polygon fill=\"#ff9999\" stroke=\"#ff9999\" points=\"881.3067,-33.1044 870.7118,-33.1232 879.006,-39.7155 881.3067,-33.1044\"/>\n<text text-anchor=\"middle\" x=\"980.7544\" y=\"-57.8\" font-family=\"Times,serif\" font-size=\"14.00\" fill=\"#000000\">1.07</text>\n</g>\n<!-- 15&#45;&gt;o -->\n<g id=\"edge64\" class=\"edge\">\n<title>15&#45;&gt;o</title>\n<path fill=\"none\" stroke=\"#ff6600\" d=\"M1226.3085,-99.6887C1161.6444,-86.4516 991.636,-51.6499 895.6874,-32.0086\"/>\n<polygon fill=\"#ff6600\" stroke=\"#ff6600\" points=\"896.2857,-28.5586 885.787,-29.982 894.8819,-35.4164 896.2857,-28.5586\"/>\n<text text-anchor=\"middle\" x=\"1078.7544\" y=\"-57.8\" font-family=\"Times,serif\" font-size=\"14.00\" fill=\"#000000\">2.60</text>\n</g>\n<!-- 16&#45;&gt;o -->\n<g id=\"edge72\" class=\"edge\">\n<title>16&#45;&gt;o</title>\n<path fill=\"none\" stroke=\"#ffcc99\" d=\"M1400.6802,-100.7223C1344.5238,-91.7231 1209.6285,-70.319 1096.2544,-54 1032.1774,-44.7768 959.3961,-35.0841 905.7109,-28.0826\"/>\n<polygon fill=\"#ffcc99\" stroke=\"#ffcc99\" points=\"905.9446,-24.5836 895.5764,-26.7632 905.0409,-31.525 905.9446,-24.5836\"/>\n<text text-anchor=\"middle\" x=\"1210.7544\" y=\"-57.8\" font-family=\"Times,serif\" font-size=\"14.00\" fill=\"#000000\">0.96</text>\n</g>\n<!-- 17&#45;&gt;o -->\n<g id=\"edge80\" class=\"edge\">\n<title>17&#45;&gt;o</title>\n<path fill=\"none\" stroke=\"#ff9999\" d=\"M1575.5505,-100.9286C1514.2785,-91.6812 1358.814,-68.7544 1228.2544,-54 1119.1852,-41.6742 993.0385,-30.9241 911.8055,-24.4545\"/>\n<polygon fill=\"#ff9999\" stroke=\"#ff9999\" points=\"911.8792,-20.9494 901.6338,-23.6481 911.3259,-27.9275 911.8792,-20.9494\"/>\n<text text-anchor=\"middle\" x=\"1355.7544\" y=\"-57.8\" font-family=\"Times,serif\" font-size=\"14.00\" fill=\"#000000\">1.02</text>\n</g>\n</g>\n</svg>\n"
          },
          "metadata": {
            "tags": []
          },
          "execution_count": 22
        }
      ]
    },
    {
      "metadata": {
        "id": "pAMmHHn-jbcF",
        "colab_type": "code",
        "colab": {}
      },
      "cell_type": "code",
      "source": [
        "\n",
        "INDEX_FROM=3   # word index offset\n",
        "(X_train, y_train), (X_test, y_test) = imdb.load_data(index_from=INDEX_FROM) \n",
        "max_words = 200 #average length of a review in training set\n",
        "#padding the review where words<max_words\n",
        "X_train = sequence.pad_sequences(X_train, maxlen=max_words)\n",
        "X_test = sequence.pad_sequences(X_test, maxlen=max_words)"
      ],
      "execution_count": 0,
      "outputs": []
    },
    {
      "metadata": {
        "id": "7IrMi6J_cwml",
        "colab_type": "code",
        "colab": {}
      },
      "cell_type": "code",
      "source": [
        "#Retraining the network with more samples of `realistic` and `sensible` to increase their positive bias\n",
        "X_train_sentences = {0:[], 1:[]}\n",
        "for i,xt in enumerate(X_train):\n",
        "  label = y_train[i]\n",
        "  if label==0:\n",
        "    X_train_sentences[0].append(' '.join(id_to_word[id] for id in xt if (id!=0 and id!=1)))\n",
        "  else:\n",
        "    X_train_sentences[1].append(' '.join(id_to_word[id] for id in xt if (id!=0 and id!=1)))\n",
        "\n"
      ],
      "execution_count": 0,
      "outputs": []
    },
    {
      "metadata": {
        "id": "w7PRaF83eOOx",
        "colab_type": "code",
        "colab": {}
      },
      "cell_type": "code",
      "source": [
        "#save X_train_sentences\n",
        "#Save new Model\n",
        "with open('/content/gdrive/My Drive/X_train_sentences.pkl', 'wb') as f:\n",
        "  pickle.dump(X_train_sentences, f)"
      ],
      "execution_count": 0,
      "outputs": []
    },
    {
      "metadata": {
        "id": "-9hZbiE_cwj1",
        "colab_type": "code",
        "colab": {}
      },
      "cell_type": "code",
      "source": [
        "def convertTextToId(text, maxlen):\n",
        "  id_text = [word_to_id[w] for w in text.lower().split() if w in word_to_id]\n",
        "  word_count = len(id_text)\n",
        "  if word_count<200:\n",
        "    pad = maxlen - word_count\n",
        "    padded_text = ([0]*pad)\n",
        "    padded_text.extend(id_text)\n",
        "  else:\n",
        "    padded_text = id_text[0:200]\n",
        "  return padded_text\n",
        "  "
      ],
      "execution_count": 0,
      "outputs": []
    },
    {
      "metadata": {
        "id": "y2ERPrb2cwhX",
        "colab_type": "code",
        "colab": {}
      },
      "cell_type": "code",
      "source": [
        "def addToTrain(samples, X_train, y_train):\n",
        "  for s in samples:\n",
        "\n",
        "    text = convertTextToId(s[0], max_words)\n",
        "    text = np.array(text, dtype=int)\n",
        "\n",
        "    label = np.array([s[1]])\n",
        "\n",
        "    X_train = np.vstack((X_train, text))\n",
        "    y_train = np.concatenate((y_train, label))\n",
        "  return X_train, y_train  \n",
        "  "
      ],
      "execution_count": 0,
      "outputs": []
    },
    {
      "metadata": {
        "id": "yzO87i4YdyZy",
        "colab_type": "code",
        "colab": {
          "base_uri": "https://localhost:8080/",
          "height": 54
        },
        "outputId": "f11dbdef-670e-4b7b-a0ed-908f4d0ff911"
      },
      "cell_type": "code",
      "source": [
        "#creating new samples for training\n",
        "new_samples = []\n",
        "for t in X_train_sentences[1]:\n",
        "  if 'realistic' in t:\n",
        "    new_samples.append((t,1))\n",
        "new_samples = new_samples[0:30]  \n",
        "for t in X_train_sentences[1]:\n",
        "  if 'sensible' in t:\n",
        "    new_samples.append((t,1))\n",
        "print(new_samples)    \n",
        "X_train, y_train = addToTrain(new_samples, X_train, y_train)"
      ],
      "execution_count": 61,
      "outputs": [
        {
          "output_type": "stream",
          "text": [
            "[(\"and this is a very disturbing film i may be wrong but this is the last film where i considered burt reynolds an actual actor who transformed the role and delivered a message br br jon voight and ned beatty are also excellent they are unassuming and unaware businessmen wanting to enjoy the country little did they know what would happen next br br the photography and sets are realistic and natural this was before the days of wes craven br br what is most disturbing about this film is the fact that places like this still exist in america country folk still detest city people it is almost a century and a half since the civil war br br you will enjoy this film it was filmed in the rural sections of south georgia which still exist just don't drive past that to mobile alabama that area still has not been repaired since hurricane katrina 10 10\", 1), ('i just watched this movie by mistake what a little gem this film made in 1956 looks and feels like a late seventies movie and is in fact better more restrained and correct than say blue soldier the environmental anthropological undertones are way ahead of its time the understated cinematography is superb and terribly realistic much more than dances with wolves the last hunt manages to convey the look and feel of the buffalo killing fields of the late 1800s probably because those in the movie were real killing fields the movie was shot during legal forestry directed buffalo culls so the animals you see are really being shot the bones are real in conclusion a very under rated western masterpiece superbly acted directed and shot', 1), (\"each other but marie receives a phone call and leaves dan giving her phone number first dan immediately falls in love for marie but when he return to his parent's home he finds that marie is the girlfriend of his wolf brother mitch burns dane cook who is also in love with her along the weekend the attraction between the clumsy dan and marie increases and they have to take a decision br br dan in real life is a great surprise and a delightful movie with comedy romance and drama the chemistry of the gorgeous juliette binoche and steve carell is awesome and it is very easy to know why everybody loves marie the trio allison pill brittany robertson and marlene lawston is fantastic and their characters are responsible for some of the best moments of this story the screenplay is wonderful and the performances of the talented actors and actresses are stunning with a realistic behavior of a family meeting follow the advice of dan's column and plan to be surprised with the reunion of the burns' family my vote is eight br br title brazil eu meu irmão e nossa namorada me my brother and our girlfriend\", 1), (\"i saw this movie in the theater and was thoroughly impressed by it then again that was when claire danes was a good actress not the foolish arrogant hollywood ized bitch she is today anyway this film really struck me as one of the more raw realistic beautiful friendship films how far would you really go for your best friend i was moved to tears at the end and still tear up when i watch it now i own it i remember as soon as i left the theater i called my best friend and sobbed to her how much i loved her this is a great film to watch with your best girlfriend however be prepared for the almost certain conversation afterward where she turns to you and asks if you'd do something like that for her\", 1), (\"i think this movie is well done and realistic i you are used to watching hollywood action movies and use that as a standard to rate this movie you are bound to be disappointed this movie is much closer to real life than 95 of what hollywood can produce and that is what lifts it above the average action movie i have no experience with swedish military whatsoever and can therefore not point out any mistakes in the way they act but as i have seen the making of extra i'm convinced that there has been done a lot to avoid any mistakes this is a movie i will recommend for others to watch high quality realistic story and movie\", 1), (\"you have an old knowledgeable wise golden retriever looking after or guiding 'chance' the fun loving if slightly clumsy young american bulldog with sassy the clever vulnerable but confident cat the film follows these three friends or companions on a journey that is so realistically impossible it creates magic in that you start to believe that this journey can happen br br i don't want to sound like a soft tissue grabber when it comes to films i assure you i am quite the opposite but the most uplifting part of this film is without a doubt shadows return when shadow desperately tries to escape and chance and sassy painfully are told by him to leave when both animals return to their beloved owners there is a silence until shadow limps over the horizon to the awe of all there is a fine line between heartwarming and corny rubbish but this film is pure magic even at the age of 15 this film may not be lord of the rings but for disney to produce such a fantastic film using animals and for it to uplift myself in the way it does even at this age it deserves 10 10\", 1), ('this movie was an impressive one my first experience with a foreign film it was neither too long nor too complex i myself enjoyed the subtitles and the plot was surprisingly fresh the story of an adult son visiting his elderly father and retarded brother after a long separation appeared cliched at first but it proved to be very touching and realistic there was also some subtle humor so as not to depress or bore the audience', 1), (\"series 2 has got off to a great start i don't think you need to have watched series 1 to get a grasp of whats happening but like any series its nice to feel some sense of the characters and to care about what happens to them and this show makes you think like that these 4 30 something women seem to lead glamorous and exciting lives yet the premise is believable and realistic so the twists and turns that arrive thanks to their love and sex lives are exciting to watch but you also know that these are problems that happen to real women too its about the decisions we make as women and how sometimes we are led down certain paths in our lives rather than consciously making those choices\", 1), (\"and original story of course i doubt if there is someone in hollywood who has ever come up with the idea of using a handicapped woman in a powerful role instead of making her the helpless subject of an abusive husband you know the typical tv movie story br br also worth noticing is the acting in this movie vincent cassel is quite famous but emmanuelle devos was a complete mystery to me there is absolutely nothing glamorous about their roles but they both did an excellent job with their characters making them feel very believable and realistic paul could have been the average tough guy right out of jail and carla the typically helpless woman but thanks to their performances you really believe that these are two strong people who both have had some bad luck in life but who will make the best out of it together br br all in all this is a powerful movie with a very fine script and some excellent acting despite the fact that i had my doubts about it i've soon become one of its greatest admirers i give this movie an 8 10 don't hesitate to give it a try\", 1), (\"ooverall the movie was fairly good a good action plot with a fair amount of explosions and fight scenes but chuck norris did hardly anything except for disarm the bomb and shoot a few characters the movie was very similar to the events of sept 11 with a bin laden like terrorist sending a video to the president urich and threatening to detonate it judson mills had some superb action roles taking out rashid's compound and various kick butt roles but there was a lack of chuck norris judson took over most of the action leaving joshua chuck with que on her computer but overall it was realistic and didn't lack the action but only did it on mr norris' part i gave the film 7 10\", 1), (\"chooses the roles best suited to her that are more meaningful and important than what would first seem i've read a few comments expressing their relief that this was not some awful feminist thing as they thought beforehand but i certainly disagree diana is a feminist she follows her dreams and believes in herself contrary to what practically everyone around her thinks with the exception of her caring brother tiny and her trainer and manager hector who proves to be more a father figure than her real parent which is what the word feminism is all about it's good to see films like this showcasing the true side of feminism that they're not a bunch of manhating losers but that they have dreams and can do anything diana is true to herself while still falling prey to love and she and adrian have a more realistic complicated relationship rather than just something that magically works out girlfight is a true taste of reality and it put some faith back into my perception of people thanks michelle br br 8 10 a very important movie that's relatable to not just young women but everyone wanting to go far in their lives\", 1), (\"some minor problems include the fact that the years as shown by the events represented don't add up but you will never notice that a larger curiosity is the fact that the only african american man at arms character in the film is the quasi slave fighting for jake and his confederate bushwhackers it is true that some blacks did fight for the confederacy out there including one who scouted lawrence for quantrill before the attack who would suspect him though this black rebel is a fasinating character whatever pc african americans might think of him not a single black union infantryman is seen in the film which would have been more represenative of the black experience in the western cw one of the first black regiments of the cw was raised in kansas by the murderer senator jim lane and before the 54th mass reg of fame was organized and black troops in such battles as baxter springs ks played a critical role br br no glaring historical errors good realistic action which is infrequent and not gratitous good directing this film may not be the blockbusters other recent civil war were but it's the cleanest job of any\", 1), (\"an almost daughterly love and physical attraction although she plays it beautifully and it's not at all as creepy as it sounds but even as she feels her connection to freeman grow scarlet has a keen eye for the reality of their different worlds and cuts thru freeman's hollywood bull hit with a sharp pragmatism that refuses to accept anything but the truth br br the movie is smart funny and well written with dialogue that is simple but effective i read one imdb review that said the lines were 'stilted' which i think is a misinterpretation of realistic human speech there are no big soliloquies here no deep soul searching moments and so the trick is i think to show how people in ordinary everyday life can forge connections with one another and i think freeman and vega pull it off beautifully painting a picture of a bond between two people that glitters like sun on the ocean ethereal and elusive long after it's gone it lives on in your memories tantalizing you with what might have been ok that was a bit flowery but i really did like the performances and the movie i would definitely recommend it\", 1), (\"no expert on the sinking of the titanic but i have a reasonable general knowledge and this film does a super job of recreating the historical details accurately and then weaving them seamlessly around the fictional romance very impressive indeed then the song who can watch this movie and not be taken with celine dion's performance of my heart goes on br br problems well the romance was perhaps too contrived in the sense that i just don't accept that jack could have moved so effortlessly from steerage to first class i know he was invited the first time but he seems to keep getting into first class without being stopped until he's been there for a while the realities of the separation of the social classes were much more realistically portrayed i thought when the steerage passengers were going to be left locked down there after the ship hit the iceberg while the first class folks got to enjoy half empty lifeboats br br a minor quibble though this is truly an excellent movie my only regret is not seeing it in the theatre where i think it would have been so much more impressive br br 9 10\", 1), ('this has to be one of the best if not the best film i have seen for a very very long time had enough action to satisfy an fan and yet the plot was very good i really enjoyed the film and had me hooked from start to finish br br added blood and gore in there but brought the realistic nature of what happens to the front of the film and even had a tear jerker ending for many people i should think br br it is a must watch for anyone seen many reviews slating the film but to be fair most the films that get bad reviews turn out to be some of the best this proves it once again br br rent this film buy this film just go out and watch this film you will not be disappointed', 1), (\"nature is as boundless here as is her psychosis in leave her to heaven the scenes between tierney and andrews's dixon grow more intense and touching the closer he seems to self destruction br br near the end of his rope cut bruised and exhausted dixon summarizes his lot innocent people can get into terrible jams too he says one false move and you're in over your head br br perhaps what makes this film so totally compelling is the sense that things could go wildly wrong for almost anyone especially for someone who is trying so hard to do right with one slight shift in the wind one wrong decision or punch or most frighteningly due to factors you have no control over noir has always reflected the darkest fears brought them to the surface where the sidewalk ends does so in a realistic fashion br br one nit pick of an aside this otherwise sterling film has a glaringly poor dub of a blonde model that wouldn't seem out of place on mystery science theater how very odd br br but noir fans heck any movie fans who haven't seen this one are in for a terrific treat\", 1), (\"up with plausible answers for some of the nagging questions that have cropped up in recent scholarship concerning the passion suffering and death of christ accounts in the new testament what motivated judas if money was not the issue what could bring the sanhedrin to meet on a high holy day why did pilate waffle it is a movie for the serious thinking christian fans of the passion of the christ will no doubt be disappointed by the lack of gory spectacle and arch characterization as for myself i find the portrait painted here of the willingness of ordinary people to so blithely sacrifice common decency when their own self interest is at stake far more realistic and deeply unsettling the disinterested just doing my job look on the face of the man who drives the first nail in christ's wrist is as chilling as any moment in film the film makes no claim to authenticity but the settings and costuming invariably feel more right than many more highly acclaimed efforts it is a slow film but if you accept its self imposed limits it is after all the death not the life of christ ultimately a very rewarding one\", 1), (\"the mother tells of a recently widowed mid 60's mother of two adult children reid who on the heels of her husband's death finds herself awakening from a life of sleepwalking as she has an affair with a young carpenter who is also her daughter's married lover the film dwells on the quietly passive mom her tenuous relationship with her grown son and daughter the silent needs she attempts to soothe in bed with her young lover and the convolutions arising therefrom a somewhat antiseptic drama with rumbling psychodramatic undercurrents the mother does an excellent job of dealing with uncomfortable issues realistically while avoiding gratuitous sensationalism will play best with more mature audiences possibly women who may better empathize with the central character her needs and issues b\", 1), (\"after him his sudden conversion within a few minutes was totally unrealistic and did not work for me br br apart from that subplot i did like the movie how can you not like sailors dancing with each other you can tell they were from san francisco d the rehearsal dance was great watching ginger rogers purposefully fall in and out of the correct steps was great the last dance scene face the music with the beautiful costumes and the art deco set was beautiful and i really enjoyed we saw the sea though they did use it a few too many times as if they realized it was their best song br br anyway the plot was a bit weak like most musicals imo and the songs were ok but the dancing was worth watching the film for i wish they could have showed some shots of san francisco since that was were the film was supposedly set br br it's also weird to see such a lighthearted naval film with the knowledge of what hitler was already doing at that time i have to try to suspend all knowledge to submerge myself into a made up fantasy land\", 1), (\"steve raines james murdoch rocky shahan robert cabal all of these actors left their mark in a piece of television history rawhide captured the flavour of that time of the west that no other series has for me as yet anyhow managed to do so later seasons tended to split the leads and give them individual story lines for me some of the time this didn't work the cattle drive and the regulars provided the best stories however there were still some classic stories and rawhide remained top drawer affair the black and white photography added to a bleak realistic feel that other western series seldom managed to capture rustlers indians commancheroes beautiful damsels in distress serial killers they all showed up to give our heroes problems the end came for the series quietly when the final season was axed less than half way through the reason eric fleming had departed and rawhide was now a head without a body the gritty realism was gone gil favor commanded respect and exuded authority he was never infallible and this made him all the more interesting we shall not see his like again watch an episode whenever you can they seldom disappoint\", 1), (\"thoughts on screen the direction is of good standard however while watching the movie i got a made for tv movie feeling there were too many close up frames however this does not deter the movie from being an enjoyable experience the movie had good pace and the structure was perfect dahl written the script with good duration of lenght br br cage portrayed the role as a drifter realistically though to me his performance seemed somewhat restrained his facial expressions were on the mark lara flynn boyle was hot and handled her part perfectly as the femme fatale her hairstyle was far out and can make any guy go on his knees hopper played his part well but i feel he was miscast for this role he did not convince me that he had the qualities of a hit man the role was not written keeping his personality in mind br br while viewing one will get deja vu of previous movies like 'the hot spot' and 'a perfect murder' due to the fact that some sub plots are similar overall if you are a fan of noir movies then this one is for you worth recommending 7 10\", 1), (\"way the humankind born without the shirt unlucky violent and with nothing to lose excepts their as they would consider miserable lives the intro of the movie says that it is inspired by true story more or less so i couldn't possibly tell you how much of this stuff is true anyway going beyond explosions and dozens of weapons which could have been added to make the film easier to see and be classified as an action movie the characters' story is too realistic to be edulcorated br br the interaction between the characters is various well studied and definitely not boring what hasn't convinced me so much is the role of the psychiatrist lucy liu sober as never in her acting career it represents only the reason by which domino starts telling her story and that's a story probably the only con in a movie with a lot of pros br br all in all this isn't swat the characters are crafted they have an identity a shape they have a name and a surname not just gamble and street it's the case to say it's the biography of a girl whose life went as fast as a bullet\", 1), (\"be treated to a finely detailed and intimate look at the grief of one family and how they come back together after the youngest son accidentally shoots and kills the eldest son while hunting the performances are all top notch and quietly nuanced glenn close robert duval and wilford brimley are pitch perfect in their portrayals as are all the supporting players and young actors i especially liked how director cain who unfortunately hasn't directed anything of note since this except the first young guns gives us quiet little glimpses into everyone's personal grief we don't just see how the death effects the younger brother or the parents but also the confused middle sister the wayward uncle his crazy wife and the dead teenager's girlfriend what we essentially get here is the rural mid western answer to ordinary people there's also shades of david lynch's the straight story in some of the stoic downhome mid west morality of the folks depicted here and also in the lovingly haunting shots of the farmland they inhabit this is one of the better and more realistic tear jerkers of the era and a nice little find for you quality movie hunters out there\", 1), (\"other spirits later on that evening scott is properly gruff as scrooge too gruff in fact for some critics who claim he is unable to project the new found glee that he awakens to on christmas morning after the spirits teach him a valuable lesson but hey this is george c scott he's never going to go dancing down the street in a fit of joy he has too much dignity and his scrooge projects his emotion in a realistic manner br br the supporting performances are uniformly excellent as are the costumes music and scenery 19th century london comes to life in clive donner's visionary style the film even borders on frightening in several scenes involving the spirits the important tale of morality shines through in every frame though br br you won't often find this version aired on television anymore and that is a disappointment the 1984 version of a christmas carol should be a required part of every household's celebration of the holiday when the decorations come out of the basement this film should find its way into the dvd player at least once during the season br br 10 of 10 stars br br the hound\", 1), (\"no spoilers just plot details i can't understand such hatred for this episode you want to watch a bad episode of smallville watch subterranean now there's a sack of crap tom welling gives a good performance i don't say that very often and michael rosenbaum is great but he is most of the time the alternate universe scenario seems eerily realistic the martian manhunter who previously appeared in static returns and tells clark that the doctor that is the head of the insane asylum where they are being held at is actually a phantom from the phantom zone and if clark wants to return to his universe he must kill him an overall great episode with good acting and a decent pace\", 1), (\"her so izumo went on with his life and recycled himself in kabuki theater in a boat joyride on a nice night izumo spots a girl hiding on a bridge and it changes his life and restart to slay demons for the good cause the cause of love and damn the guy knows how to handle a sword and to pull an entertaining massacre br br izumo carries the movie as far as playing goes he is the total package he knows how to fight hell yeah he knows he's witty he's intelligent and he has that grit you never have to yell no izumo it's a trap the guy already knows it he has that common sense he's really the perfect hero br br as far as cinematography goes the esthetics are pretty interesting it's by far the movie that looks the most like a manga it's creamed full of special effects and nothing at all cost will prevent this movie to look realistic it's pretty amazing lots of colours an unreal photography other than that it's pretty straightforward but like i said the main character is carrying the movie a must see a tale lead by masterful hands\", 1), (\"a complete tool he's being to his younger brother woody and yet by the end of the movie some type of minor transformation has been made there's some realism here in the way the characters resolve situations and in the way they relate to each other and very little of it comes across as corny br br the only drawback to the movie comes in the form of an absolutely laughable dance scene that even the creators of the infamous mcdonald's dance party in mac and me would scoff at why oh why was it put into the movie did austin rogers adam pull a macaulay culkin and refuse to take the role unless he was given a vehicle to showcase his oh so impressive dancing skills the entire sequence definitely did not need to be there and had slightly less comedic value than any given show on the history channel br br overall though this movie was excellent and the length about an hour and twenty minutes was just about perfect one of the best most realistic live action kid films you'll ever see if you're ever around children or just remember what being a kid was actually like\", 1), (\"the depiction of war time paesan life in italy with its popular fairs poverty child labor prostitution bums swindlers etc the characters and the themes were already decidedly viscontian he was always more interested in tragic passionate obsessive greedy characters in social political sexual apartheid in the decadence of the elites than in realistic everyday life characters and themes favored by desica and rossellini in ossessione we already find elements of drama and tragedy later developed in many of his films especially senso visconti's definitive departure from neo realist aesthetics and rocco e suoi fratelli even in his most neo realist film la terra trema he makes his fishermen rise from day to day characters to mythological figures br br ossessione is a good opportunity to confirm the theory about great artists whose body of work approaches analyzes and develops specific themes and concerns over and over again from their first to their last opus no matter if the scenery background or time setting may change visconti may play with the frame but the themes and essence of his art are well obsessively recurrent ossessione is not to be missed you'll surely be fascinated by this ground breaking powerful film\", 1), ('this movie needs to be put on dvd it was so funny and i loved it really really cute and funny not realistic but not suppose to be the only thing i did not like about it was the girl relying on the guy too much it represents the time period way of thinking though i have been trying to get this movie for so long and it has been unavailable for us format only in the uk and will not play on us dvd players it is sadly an over looked classic film believe it or not but this film could easily become a cult favorite for all ages too bad we do not legalize certain things that could really save small countries or our own lindy is unsinkable a positive character that makes lemonade out of lemons she is funny and charming she stole the show', 1), ('have been much better if it had been short 10 years earlier i doubt it would benefit from modern technologies but it would have looked much better if it was at least 90 minutes instead of 70 br br the artists and animated did a great job in my opinion this movie can boast the best background art and one of the best character design animation are extremely smooth and realistic for the duration of the movie you believe in the world you see so everyone did a great job it can also boast one of the sexiest female animated characters if not the sexiest that beets typical anime girls with ease br br unfortunately there are a couple of bad thins about this movie that will make it not so appealing at the moment first the plot and execution is comparable to contemporary adventure movies and is really old fashioned by modern standards second due to the duration time it would benefit a lot from extra 20 minutes of dialogs finally the setting is not so popular at the moment br br conclusion a great alternative to another short story about conan the barbarian but not to a novel', 1), (\"brash energy mildred may have a grating voice but she also has the ethereal beauty of a stained glass angel making it somewhat understandable why philip let himself be strung along for as long as he did although man eating mildred may at times seem one dimensional she does evoke sympathy in the viewer from time to time as when she becomes ill and belatedly realizes that philip is the only decent man who ever cared for her one may also think she is on to something when she accuses philip of looking down on her for not being fine enough the scene in which philip and norah dismiss romance magazines as trash for kitchen maids seems to confirm this br br most of the supporting characters are also effective particularly norah the sensible romance writer who loves philip but knows she can never compete with mildred and sally who has mildred's beauty and norah's decency and emerges as the deserving woman philip is rewarded with in the end the only character i found hollow was sally's eccentric ale slurping aristocratic father who seems like a stock character from an earlier era br br a classic that deserves it reputation\", 1), (\"these really interesting stories and plots building very entertaining to watch great scenery and shots very colorful and never too slow and all of the characters can actually act the best part of the movie comes with about 20 minutes left this is when all of the plots start to mesh together and the ride really picks up and everything ties together and makes sense and the whole butterfly effect blossoms i swear it was the best 20 minutes of film i've seen in quite a while and the ending it made me think damn i really lucked out finding this movie the ending to this movie is top notch whoever wrote the script for this is brilliant because not only are there all these other subplots going on but to somehow make them all tie in together and in a sensible manner which is the case here but also to make each character feel human and come alive not just some stale persona used as a crutch to build up this whole butterfly effect very impressive br br i highly suggest this movie as it's a great film to watch anytime in any mood with any company or alone\", 1), (\"action one of my fellow reviewers spent quite some time composing a list containing all the main stupidities and insensible moments of mcbain this list is totally accurate and i can only concur with it heck i could even add some more senseless sequences to that list like the preposterous and needless heroic self sacrifice of a soldier who doesn't even have any affinity with the goal of the mission and the rest of mcbain's squad but what's the point you definitely know not to expect a 100 coherent and plausible masterpiece we know from beforehand this will be a silly and exaggeratedly flamboyant movie and it's maybe even the exact reason why we want to check it out this is a terrifically outrageous and exciting movie about a bunch of former vietnam buddies turning into mercenaries and declaring war against the corrupt columbian president and the national drug cartel please don't expect another apocalypse now this particular motion picture relies on the ruff 'n tuff acting performances of the macho leads a whole lot of explosions and gunfights and \\x96 last but not least \\x96 a fantastic soundtrack in which joan baez sings a cover of brothers in arms\", 1), (\"detail character and action is undeniably real although this is a limited resources production it puts to shame big budgeted star casted hyped productions other superhero related movies here the main and supporting characters act and look like they are real life people finally a superman that actually looks super and looks like the real thing batman the way it should be without the flashy rubber casted ripped body armor to hide scrawny physiques for over paid actors that don't deliver i just wish that some sensible warner bros exec gives the ok to produce a full length adaptation of this jewel i don't care if it goes to theaters or straight to dvd i would never get tired of watching it just the plot itself is worth my hard earned dough for this hope the bigwigs at marvel dc productions take a look and see what a real well produced superhero movie should look no more batman robin fiasco or hulk daredevil etc learn from these small time directors and learn that there shouldn't be any reason to reinvent the hero for the movie just to have it bomb in theaters mr collora we need more directors like you\", 1), (\"farrah fawcett has spent the better part of her post angel's career confounding us with an occasional noteworthy acting performance sandwiched in between her playboy frolics and letterman escapades but when it comes down to it there's no denying that this girl can act far from a story of epic proportions this well done tv movie is gentle quiet and occasionally moving fawcett plays the wayward black sheep daughter come home only to find that she missed the last days of her mom's life as well as the funeral much to the chagrin of her more stable and presumably more sensible sister brad johnson plays the love interest and a story unfolds with all the typical elements of telefilm drama but then there's always that confounding farrah to watch and she does indeed remain eminently watchable and yes i admit it i did have that farrah poster on my wall way back when silk hope gets three and a half stars out of five on the corkymeter bosley would be proud\", 1), ('this film plays really well with an audience especially once the chase begins plus trevor howard with his sensible smart charms and jean simmons with her innocent demeanor and piercing eyes are terrific together br br the film starts as a psychological drama but after the murder it segues into a chase thriller as the two leads head for the border some may think the chase is superfluous but actually the chase is essential because it aids in clearing the mind of the jean simmons character by getting her out of the oppressive household plus it helps bring out the real killer who is suddenly put into such a position that they have to finish the job the killer rightly believed that once the simmons character was arrested she would be put away and it is true that her lack of control in the household as well as evidence pointing her way there is no way she would have gotten out of the murder charge the chase that ensues helps bring out the truth br br this is an entertaining film seek it out if you can find it', 1), (\"voice in off which sometimes is irritating br br it's a romantic drama carried out with sense and sensibility an unrelentingly passionate romance between two conflicting characters magnificent performances from two pros make a splendid movie well worth seeing of course ruggero macarri and ettore scola's sensible screenplay results in ever interesting elaborate and sentimental colorful and atmospheric cinematography by pascualino de santis emotive musical score by armando trovajoly with sensitive leitmotif the film won deservedly golden globes 1978 to best foreign film br br director scola's imagination stretches to light up the limited scenarios where are developing the drama usually his films take place on a few stages and are semi theatrical for example ¨le bal¨ 1982 uses a french dance hall to illustrate the changes in society 2 ¨nuit of varennes 1983 a stagecoach is the scenario where meet an unlikely group as thomas paine luis xvi and marie antoinette who fled from revolutionary paris 3 ¨the family¨ 1987 all take place in the family's grand old roman flat and of course 4 ¨una giornata particulare¨ or ¨a special day¨ where loren and mastroianni strikes up a marvelous relationship into their respective apartments and at the flat roof\", 1), ('one of the more sensible comedies to hit the hindi film screens a remake of priyadarshans 80s malayalam hit boeing boeing which in turn was a remake of the 60s hollywoon hit of the same name garam masala elevates the standard of comedies in hindi cinema br br akshay kumar has once again proved his is one of the best super stars of hindi cinema who can do comedy he has combined well with the new hunk john abraham however john still remains in akshays shadows and fails to rise to the occasion br br the new gals are cute and do complete justice to their roles br br a must watch comedy leave your brains away and laugh for 2 hrs after all laughter is the best medicine ask priyadarshan and akshay kumar', 1), (\"this movie it's not really a movie with a story to it in a sense of having a beginning middle and end in it it also doesn't have a main character but instead focuses on 7 different suicides and killings on 7 different days br br all different stories are being told with lots of class though some of them are of course more 'interesting' and realistic than the others they are not necessarily connected but yet together they still tell a story the movie doesn't feel disjointed at all all different stories have a different feel to it and buttgereit tells the story without hardly using any words also typical for his style but instead lets the images and obvious sensible emotions of the characters tell the entire story it helps to make this movie an effective one to watch br br again the production values all aren't too high and this might be something that might scare off some people it however helps for this particular movie to set the right tone and atmosphere for the entire movie and its dark disturbing and depressing themes br br a buttgereit movie that i 'enjoyed' watching br br 7 10\", 1), (\"friend sam on the borders of mordor closing ever nearer to their horrifying destination meanwhile gandalf and the other members of the company fight off a huge army of orcs at the legendary fortress of helm's deep br br this version covers just over half of the original book a second instalment was planned to bring the story to an end but was sadly never completed while the ending feels abrupt it does at least end at a sensible point in the story one has to feel a little frustration and regret that no sequel exists in which we might follow these animated heroes to their eventual goal the animation is passable with a nice variety of locales and characters presented in interesting detail the music by leonard rosenman is suitably stirring and fits in appropriately with the epic narrative the voice overs are decent too especially john hurt as aragorn and peter woodthorpe as gollum on the other hand michael scholes who provides the voice for sam is rather campy and goofy which is not well suited to the character the lord of the rings is a commendable attempt to visualise the staggering book on which it is based\", 1), (\"body from organs all senses blood infection antibodies and much more in animated 20 25 min episodes topics some people may find sensible such as digestion and reproduction are covered in a tasteful discreet and child friendly manner the reproduction episode starts coverage mainly where the baby starts growing while still as typical informative and fun br br children are usually fascinated with how their bodies work and through the episodes gain an understanding of this in the context of their environment the format of the episodes switches between the outside world a family with 2 children and the inside of the body for example in the episode covering infections the boy cuts himself accidentally and the wound gets infected and the episode covers how the body reacts to this similarly the episodes on the senses e g hearing seeing link what happens inside the body to the context of the outside world and the episode on respiration and circulation of oxygen in the blood covers the complete lifecycle including briefly where the oxygen comes from plants br br this is one of the best ever children's programs i would say it's a must see for every family with kids\", 1), ('this movie was on british tv last night and is wonderful strong women great music most of the time and just makes you think we do have stereotypes of what older people ought to do and there are fantastic cameos of the sensible but worried children getting near to my best movie ever', 1), ('kind of movie that will stay with you for a long time soha ali and abhay deol both look very beautiful soha reminds you so much of her mother sharmila tagore abhay is a born actor and will rise a lot in the coming future br br the ending of the movie is very different from most movies in a way you are left unsatisfied but if you really think about it in real terms you realize that the only sensible ending was the ending shown in the movie otherwise it would have been gross injustice to everyone br br the movie is about a professional witness who comes across a girl waiting to get married in court her boyfriend does not show up and she ends up being helped by the witness slowly slowly over the time he falls in love for her it is not clear if she has similar feelings for him or not watch the movie for complete details br br the movie really belongs to abhay i look forward to seeing more movies from him soha is pretty but did not speak much in the movie her eyes her innocence did most of the talking', 1), (\"whose life was apparently ruined after the production was cancelled this would've been a perfect detail to be worked into the plot yet it's never mentioned again and like in all other slasher flicks there are just too many bodies to care about the actors aren't great even by direct to video standards but most are having fun with their characters and for those who aren't it's inadvertent character acting since none of their characters in the film wanted to work on hot blooded particularly whoever was lucky enough to play scarman cut 's climax has no big who dunnit unmasking of the killer like in the scream films it doesn't have the gimmick killings of the urban legend films what it does have is an original and interesting concept that is diluted by a this way we can write a sequel if it sells well ending but that's par for the course br br by any sensible viewing standards this is a horrible movie that should be avoided but this quality is what makes it true to its roots in the slasher genre and this is what makes it more enjoyable than any of the other neo slasher flicks\", 1), (\"now free to love sally again in the book sally tells phillip that she thinks she is having a baby but that just makes him more sure of his love that ending like mildred's sickness could not be in the film even a pre code one br br kay johnson was always called on to play sensible believable women which she played to perfection as she was obviously sensible herself her nora was the woman philip should have stayed with frances dee was one of the most beautiful of screen ingenues she was obviously being groomed for stardom with some roles that proved she was not just a pretty face the silver cord and blood money but when she married joel mccrea her career started to peter out her sally did not push her talent to the limits apparently leslie howard was not very helpful to bette davis on the set he was annoyed that an english actress was not given the part he used to throw her her lines whilst reading a book off camera he did start to take an interest when a newspaper reported the kid was running away with the picture br br highly highly recommended\", 1), (\"pays her a visit one fateful day after subjecting marjorie to plenty of degradation and psychological abuse marjorie manages to turn the tables on joe and locks him in the fireplace what is marjorie going to do with joe director robert m young and screenwriter william mastrosimone concoct a harsh gritty and often disturbing morality tale that astutely nails the stark brutality and painful debasement of rape while also showing how any person when pushed to extremes is capable of shocking acts of violence and inhumanity joe perceives women strictly as objects while marjorie only sees joe as an animal however this movie to its admirable credit refuses to make joe out to be simply a vile one dimensional creep instead he's a terrifyingly real and ultimately pitiable human monster with a wife and kid joe's climactic confession in particular is genuinely poignant fawcett and russo are both outstanding in the leads they receive fine support from diana scarwid as the passive terry alfre woodard as the sensible patricia and sandy martin as sympathetic policewoman officer sudow both curtis clark's agile cinematography and j a c redford's shivery skin crawling score greatly enhance the considerable claustrophobic tension a real powerhouse\", 1), (\"possible near future while maintaining a snappy pace and a tough gritty tone throughout moreover anderson handles moving moments of humanity well todd's struggle to get in touch with his previously repressed feelings is genuinely poignant and stages the stirring action scenes with rip roaring gusto russell gives a strong and impressive almost pantomime portrayal of todd he conveys a lot of emotion without saying much and instead does the majority of his acting through his body movements and facial expressions bang up supporting turns by jason scott lee as brutish rival soldier caine 607 connie nielson as the compassionate sandra sean pertwee as the kindly mace jared and taylor thorne as mute little boy nathan gary busey as crusty seasoned veteran captain church michael chiklis as the jolly johnny pig and brenda wehle as the sensible mayor hawkins better still this film makes a profound and significant statement about the spiritual cost of being a merciless soldier and the importance of intellectual strength over physical might david tattersall's polished cinematography joel mcneely's rousing full bore orchestral score and the first rate rate special effects all further enhance the overall sterling quality of this superior science fiction action hybrid outing\", 1), ('emma is a true romance if you love the soppy stuff charged with wit and folly you will love this movie its true to the novel which is very important with a few twists added for pleasure gwen is not one of my fave actreesess but she does justice to a role that required everything that she had to offer in spades she shines in a role i think no other actress could have done proper justice to br br jeremy northam as the hero how shocked are you i never looked upon him as overtly handsome but heck what the right role can do for you he looks so good as the sensible regal mr k that i am literally looking at him in a new light he makes and excellent romantic lead the charm and character that he brings to his role is wonderful br br ewan mcgregor greta sacchi brings in the rest a good cast a good movie if you are a fan of jane austen see this movie along with pride and prejudice and most importantly buy the books it enhances the movie to heights that are extraordinary', 1)]\n"
          ],
          "name": "stdout"
        }
      ]
    },
    {
      "metadata": {
        "id": "OUGlhxBod5J0",
        "colab_type": "code",
        "colab": {
          "base_uri": "https://localhost:8080/",
          "height": 289
        },
        "outputId": "cf90e1d7-1f96-4e7e-dd32-20ee29f67fe7"
      },
      "cell_type": "code",
      "source": [
        "#Model Creation\n",
        "model_new = Sequential()\n",
        "model_new.add(Embedding(vocab, embedding_dim , input_length=max_words))\n",
        "model_new.add(Flatten())\n",
        "model_new.add(Dense(hidden_dim, activation='relu'))\n",
        "model_new.add(Dense(1, activation='sigmoid'))\n",
        "model_new.compile(loss='binary_crossentropy', optimizer='adam', metrics=['accuracy'])\n",
        "print(model_new.summary())"
      ],
      "execution_count": 62,
      "outputs": [
        {
          "output_type": "stream",
          "text": [
            "_________________________________________________________________\n",
            "Layer (type)                 Output Shape              Param #   \n",
            "=================================================================\n",
            "embedding_4 (Embedding)      (None, 200, 16)           1417392   \n",
            "_________________________________________________________________\n",
            "flatten_4 (Flatten)          (None, 3200)              0         \n",
            "_________________________________________________________________\n",
            "dense_7 (Dense)              (None, 10)                32010     \n",
            "_________________________________________________________________\n",
            "dense_8 (Dense)              (None, 1)                 11        \n",
            "=================================================================\n",
            "Total params: 1,449,413\n",
            "Trainable params: 1,449,413\n",
            "Non-trainable params: 0\n",
            "_________________________________________________________________\n",
            "None\n"
          ],
          "name": "stdout"
        }
      ]
    },
    {
      "metadata": {
        "id": "3nT5MyOyd5PA",
        "colab_type": "code",
        "colab": {
          "base_uri": "https://localhost:8080/",
          "height": 119
        },
        "outputId": "63f1aa56-c214-4ab2-ff2b-d4a42e2738f3"
      },
      "cell_type": "code",
      "source": [
        "# Fit the model\n",
        "model_new.fit(X_train, y_train, validation_data=(X_test, y_test), epochs=2, batch_size=128, verbose=2)\n",
        "# Final evaluation of the model on test dataset\n",
        "scores = model_new.evaluate(X_test, y_test, verbose=0)\n",
        "print(\"Accuracy: %.2f%%\" % (scores[1]*100))"
      ],
      "execution_count": 63,
      "outputs": [
        {
          "output_type": "stream",
          "text": [
            "Train on 25048 samples, validate on 25000 samples\n",
            "Epoch 1/2\n",
            " - 5s - loss: 0.5593 - acc: 0.6903 - val_loss: 0.3227 - val_acc: 0.8638\n",
            "Epoch 2/2\n",
            " - 5s - loss: 0.2061 - acc: 0.9232 - val_loss: 0.3084 - val_acc: 0.8673\n",
            "Accuracy: 86.73%\n"
          ],
          "name": "stdout"
        }
      ]
    },
    {
      "metadata": {
        "id": "n1Rp0g1Id5TO",
        "colab_type": "code",
        "colab": {}
      },
      "cell_type": "code",
      "source": [
        "#Save new Model\n",
        "with open('/content/gdrive/My Drive/model_new.pkl', 'wb') as f:\n",
        "  pickle.dump(model_new, f)"
      ],
      "execution_count": 0,
      "outputs": []
    },
    {
      "metadata": {
        "id": "pYBYd9Zii7Ia",
        "colab_type": "code",
        "colab": {
          "base_uri": "https://localhost:8080/",
          "height": 34
        },
        "outputId": "c883703f-2a06-428e-ab7b-4677f9dc55af"
      },
      "cell_type": "code",
      "source": [
        "len(X_train)"
      ],
      "execution_count": 64,
      "outputs": [
        {
          "output_type": "execute_result",
          "data": {
            "text/plain": [
              "25048"
            ]
          },
          "metadata": {
            "tags": []
          },
          "execution_count": 64
        }
      ]
    },
    {
      "metadata": {
        "id": "0w5Rw1aqeeXc",
        "colab_type": "code",
        "colab": {}
      },
      "cell_type": "code",
      "source": [
        "#Predicting the FP with new model\n",
        "index = 6450\n",
        "third_layer_model = Model(inputs=model_new.input,\n",
        "                                 outputs=model_new.layers[2].output)\n",
        "third_layer_output = (third_layer_model.predict(np.array([X_test[index]]))).tolist()[0]\n",
        "ans = model_new.predict(np.array([X_test[index]]))[0]\n",
        "print(ans)\n",
        "s=  ' '.join(id_to_word[id] for id in X_test[index] if id!=0)\n",
        "print(s)\n",
        "d = trace_path(s,['realistic' , 'sensible'] , third_layer_output , ans , True)\n",
        "graphviz.Source(d)  \n"
      ],
      "execution_count": 0,
      "outputs": []
    },
    {
      "metadata": {
        "id": "K7ZcGgwBffMk",
        "colab_type": "code",
        "colab": {}
      },
      "cell_type": "code",
      "source": [
        "#CONFUSION MATRIX of model v/s model_new"
      ],
      "execution_count": 0,
      "outputs": []
    },
    {
      "metadata": {
        "id": "KuSZaJbCeefz",
        "colab_type": "code",
        "colab": {}
      },
      "cell_type": "code",
      "source": [
        "TP=0\n",
        "FP=0\n",
        "TN=0\n",
        "FN=0\n",
        "\n",
        "import numpy as np\n",
        "for i in range(len(X_test)):\n",
        "  prediction = model.predict_classes(np.array([X_test[i]]))\n",
        "  sentence_length = np.count_nonzero(X_test[i])\n",
        "  prediction = prediction.astype(int)\n",
        "  if prediction[0] == y_test[i]:\n",
        "    if prediction[0] == 1:\n",
        "      TP=TP+1\n",
        "    else:\n",
        "      TN=TN+1\n",
        "  else:\n",
        "      if prediction[0] == 0:\n",
        "        FN = FN+1\n",
        "      else:\n",
        "        FP=FP+1\n",
        "      \n",
        "    #if sentence_length >= 30 and sentence_length <= 40:\n",
        "     # print(\"False Positive : {} , Predicted class : {} , True class : {}\".format(i , prediction[0] , y_test[i]))\n",
        "\n",
        "recall_original = TP/(TP+FN)\n",
        "precision_original = TP/(TP+FP)\n",
        "F1_original=(2*recall_original*precision_original)/(recall_original+precision_original)\n",
        "acc_original = (TP+TN)/(TP+FP+TN+FN)\n",
        "cm_original = np.array([[TP,FN], [FP,TN]])"
      ],
      "execution_count": 0,
      "outputs": []
    },
    {
      "metadata": {
        "id": "DbN78luAeeeA",
        "colab_type": "code",
        "colab": {
          "base_uri": "https://localhost:8080/",
          "height": 376
        },
        "outputId": "14eb8f2c-651a-4b87-e368-31551e385726"
      },
      "cell_type": "code",
      "source": [
        "ax= plt.subplot()\n",
        "sns.heatmap(cm_original, annot=True, ax = ax, fmt='g', cmap='Blues'); #annot=True to annotate cells\n",
        "\n",
        "# labels, title and ticks\n",
        "ax.set_xlabel('Predicted labels');ax.set_ylabel('Actual labels'); \n",
        "ax.set_title('Confusion Matrix'); \n",
        "ax.xaxis.set_ticklabels(['positive', 'negative']); ax.yaxis.set_ticklabels(['negative', 'positive']);"
      ],
      "execution_count": 185,
      "outputs": [
        {
          "output_type": "display_data",
          "data": {
            "image/png": "[encoded data removed]",
            "text/plain": [
              "<Figure size 576x396 with 2 Axes>"
            ]
          },
          "metadata": {
            "tags": []
          }
        }
      ]
    },
    {
      "metadata": {
        "id": "KJeHhpizfkcA",
        "colab_type": "code",
        "colab": {}
      },
      "cell_type": "code",
      "source": [
        "TP=0\n",
        "FP=0\n",
        "TN=0\n",
        "FN=0\n",
        "\n",
        "for i in range(len(X_test)):\n",
        "  prediction = model_new.predict_classes(np.array([X_test[i]]))\n",
        "  sentence_length = np.count_nonzero(X_test[i])\n",
        "  prediction = prediction.astype(int)\n",
        "  if prediction[0] == y_test[i]:\n",
        "    if prediction[0] == 1:\n",
        "      TP=TP+1\n",
        "    else:\n",
        "      TN=TN+1\n",
        "  else:\n",
        "      if prediction[0] == 0:\n",
        "        FN = FN+1\n",
        "      else:\n",
        "        FP=FP+1\n",
        "\n",
        "recall_modified = TP/(TP+FN)\n",
        "precision_modified = TP/(TP+FP)\n",
        "F1_modified=(2*recall_modified*precision_modified)/(recall_modified+precision_modified)\n",
        "acc_modified = (TP+TN)/(TP+FP+TN+FN)\n",
        "cm_modified = np.array([[TP,FN], [FP,TN]])"
      ],
      "execution_count": 0,
      "outputs": []
    },
    {
      "metadata": {
        "id": "AwfdKuu-fkhc",
        "colab_type": "code",
        "colab": {}
      },
      "cell_type": "code",
      "source": [
        "ax= plt.subplot()\n",
        "sns.heatmap(cm_modified, annot=True, ax = ax, fmt='g', cmap='Blues'); \n",
        "\n",
        "# labels, title and ticks\n",
        "ax.set_xlabel('Predicted labels');ax.set_ylabel('Actual labels'); \n",
        "ax.set_title('Confusion Matrix'); \n",
        "ax.xaxis.set_ticklabels(['positive', 'negative']); ax.yaxis.set_ticklabels(['negative', 'positive']);"
      ],
      "execution_count": 0,
      "outputs": []
    },
    {
      "metadata": {
        "id": "oYBr7f8Yfyxp",
        "colab_type": "code",
        "colab": {}
      },
      "cell_type": "code",
      "source": [
        "sns.set(style=\"whitegrid\")\n",
        "tips = sns.load_dataset(\"tips\")\n",
        "metrics_data = {\n",
        "    'metric': ['Precision', 'Precision', 'Recall', 'Recall', 'F1 Score', 'F1 Score', 'Accuracy', 'Accuracy'],\n",
        "    'value': [precision_original, precision_modified, recall_original, recall_modified, F1_original, F1_modified, acc_original, acc_modified],\n",
        "    'model': ['Original', 'Modified', 'Original', 'Modified', 'Original', 'Modified', 'Original', 'Modified']\n",
        "}\n",
        "metrics_df = pd.DataFrame(data=metrics_data)\n",
        "plt.figure(figsize=(10.7, 4.27))\n",
        "ax = sns.barplot(x=\"metric\", y=\"value\", hue=\"model\", data=metrics_df, ci=None,palette=\"muted\")\n",
        "ax.set(xlabel='Metric', ylabel='Value')"
      ],
      "execution_count": 0,
      "outputs": []
    },
    {
      "metadata": {
        "id": "gTVIcw4ffy22",
        "colab_type": "code",
        "colab": {}
      },
      "cell_type": "code",
      "source": [
        ""
      ],
      "execution_count": 0,
      "outputs": []
    },
    {
      "metadata": {
        "id": "OKnqCMlRwz1h",
        "colab_type": "code",
        "colab": {}
      },
      "cell_type": "code",
      "source": [
        ""
      ],
      "execution_count": 0,
      "outputs": []
    }
  ]
}